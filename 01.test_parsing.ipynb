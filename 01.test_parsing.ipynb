{
 "cells": [
  {
   "cell_type": "code",
   "execution_count": 1,
   "metadata": {},
   "outputs": [],
   "source": [
    "#importer les librairies\n",
    "import pandas as pd\n",
    "import re\n"
   ]
  },
  {
   "cell_type": "markdown",
   "metadata": {},
   "source": [
    "# création de la fonction qui permet de récupérer les tables dans une requête sql"
   ]
  },
  {
   "cell_type": "code",
   "execution_count": 2,
   "metadata": {},
   "outputs": [
    {
     "name": "stdout",
     "output_type": "stream",
     "text": [
      "Tables utilisées dans la requête SQL:\n",
      "['Clients', 'Commandes', 'DétailsCommande', 'Produits']\n"
     ]
    }
   ],
   "source": [
    "# La requête SQL de test\n",
    "sql_query = \"\"\"\n",
    "SELECT Clients.Nom, Clients.Prenom, Clients.Email, SUM(Produits.Prix * DétailsCommande.Quantité) AS MontantTotal\n",
    "FROM Clients\n",
    "JOIN Commandes ON Clients.IdClient = Commandes.IdClient\n",
    "JOIN DétailsCommande ON Commandes.IdCommande = DétailsCommande.IdCommande\n",
    "JOIN Produits ON DétailsCommande.IdProduit = Produits.IdProduit\n",
    "WHERE Commandes.DateCommande >= DATE_SUB(NOW(), INTERVAL 1 MONTH)\n",
    "GROUP BY Clients.IdClient\n",
    "HAVING MontantTotal >= 100;\n",
    "\"\"\"\n",
    "\n",
    "# Expression régulière pour extraire les noms de table\n",
    "pattern = r'\\b(?:FROM|JOIN)\\s+(\\w+)\\b'\n",
    "\n",
    "# Recherche des correspondances dans la requête SQL\n",
    "table = re.findall(pattern, sql_query, re.IGNORECASE)\n",
    "\n",
    "# Affichage des tables extraites\n",
    "print(\"Tables utilisées dans la requête SQL:\")\n",
    "print(table)\n"
   ]
  },
  {
   "cell_type": "markdown",
   "metadata": {},
   "source": [
    "## Test avec différentes requêtes"
   ]
  },
  {
   "cell_type": "code",
   "execution_count": 3,
   "metadata": {},
   "outputs": [
    {
     "name": "stdout",
     "output_type": "stream",
     "text": [
      "Tables utilisées dans la requête SQL:\n",
      "['Immeuble']\n"
     ]
    }
   ],
   "source": [
    "sql1=\"select * from (select nom, adresse from Immeuble where id=1) as Koudalou\"\n",
    "\n",
    "table = re.findall(pattern, sql1, re.IGNORECASE)\n",
    "\n",
    "# Affichage des tables extraites\n",
    "print(\"Tables utilisées dans la requête SQL:\")\n",
    "print(table)"
   ]
  },
  {
   "cell_type": "code",
   "execution_count": 4,
   "metadata": {},
   "outputs": [
    {
     "name": "stdout",
     "output_type": "stream",
     "text": [
      "Tables utilisées dans la requête SQL:\n",
      "['Table']\n"
     ]
    }
   ],
   "source": [
    "sql=\"SELECT * FROM Table\"\n",
    "\n",
    "table = re.findall(pattern, sql, re.IGNORECASE)\n",
    "\n",
    "# Affichage des tables extraites\n",
    "print(\"Tables utilisées dans la requête SQL:\")\n",
    "print(table)"
   ]
  },
  {
   "cell_type": "code",
   "execution_count": 5,
   "metadata": {},
   "outputs": [
    {
     "name": "stdout",
     "output_type": "stream",
     "text": [
      "Tables utilisées dans la requête SQL:\n",
      "['question', 'reponse']\n"
     ]
    }
   ],
   "source": [
    "sql3=\"SELECT * FROM question WHERE q_id IN (SELECT r_fk_question_id FROM reponse WHERE r_date_ajout BETWEEN '2013-01-01' AND '2013-12-31')\"\n",
    "\n",
    "table = re.findall(pattern, sql3, re.IGNORECASE)\n",
    "\n",
    "# Affichage des tables extraites\n",
    "print(\"Tables utilisées dans la requête SQL:\")\n",
    "print(table)"
   ]
  },
  {
   "cell_type": "code",
   "execution_count": 6,
   "metadata": {},
   "outputs": [
    {
     "name": "stdout",
     "output_type": "stream",
     "text": [
      "Tables utilisées dans la requête SQL:\n",
      "['travail', 'travail']\n"
     ]
    }
   ],
   "source": [
    "sql4=\"SELECT sum(a.Population)FROM travail.communes64 AS a WHERE EXISTS(SELECT * FROM travail.communes64 AS b WHERE b.Population > 10)\"\n",
    "\n",
    "table = re.findall(pattern, sql4, re.IGNORECASE)\n",
    "\n",
    "# Affichage des tables extraites\n",
    "print(\"Tables utilisées dans la requête SQL:\")\n",
    "print(table)"
   ]
  },
  {
   "cell_type": "markdown",
   "metadata": {},
   "source": [
    "# Création d'un dataframe pour faire tourner le script sur un fichier csv"
   ]
  },
  {
   "cell_type": "code",
   "execution_count": 7,
   "metadata": {},
   "outputs": [
    {
     "name": "stderr",
     "output_type": "stream",
     "text": [
      "c:\\Python\\Lib\\site-packages\\openpyxl\\styles\\stylesheet.py:226: UserWarning: Workbook contains no default style, apply openpyxl's default\n",
      "  warn(\"Workbook contains no default style, apply openpyxl's default\")\n"
     ]
    }
   ],
   "source": [
    "#créer le dataframe à partir d'un fichier csv\n",
    "df=pd.read_excel(\"ATP_requete.xlsx\", header=None)"
   ]
  },
  {
   "cell_type": "code",
   "execution_count": 8,
   "metadata": {},
   "outputs": [],
   "source": [
    "#lire toutes les infos du df\n",
    "pd.set_option('display.max_columns', None)\n",
    "pd.set_option('display.max_rows', None)\n",
    "pd.set_option('display.max_colwidth', None)"
   ]
  },
  {
   "cell_type": "code",
   "execution_count": 9,
   "metadata": {},
   "outputs": [
    {
     "data": {
      "text/html": [
       "<div>\n",
       "<style scoped>\n",
       "    .dataframe tbody tr th:only-of-type {\n",
       "        vertical-align: middle;\n",
       "    }\n",
       "\n",
       "    .dataframe tbody tr th {\n",
       "        vertical-align: top;\n",
       "    }\n",
       "\n",
       "    .dataframe thead th {\n",
       "        text-align: right;\n",
       "    }\n",
       "</style>\n",
       "<table border=\"1\" class=\"dataframe\">\n",
       "  <thead>\n",
       "    <tr style=\"text-align: right;\">\n",
       "      <th></th>\n",
       "      <th>0</th>\n",
       "      <th>1</th>\n",
       "      <th>2</th>\n",
       "    </tr>\n",
       "  </thead>\n",
       "  <tbody>\n",
       "    <tr>\n",
       "      <th>0</th>\n",
       "      <td>NaN</td>\n",
       "      <td>tPostgresqlRow</td>\n",
       "      <td>truncate table job_referentiel</td>\n",
       "    </tr>\n",
       "    <tr>\n",
       "      <th>1</th>\n",
       "      <td>NaN</td>\n",
       "      <td>tPostgresqlRow</td>\n",
       "      <td>truncate table job_hierarchy</td>\n",
       "    </tr>\n",
       "    <tr>\n",
       "      <th>2</th>\n",
       "      <td>NaN</td>\n",
       "      <td>tPostgresqlRow</td>\n",
       "      <td>truncate table job_table</td>\n",
       "    </tr>\n",
       "    <tr>\n",
       "      <th>3</th>\n",
       "      <td>NaN</td>\n",
       "      <td>tPostgresqlRow</td>\n",
       "      <td>truncate table job_sql_table</td>\n",
       "    </tr>\n",
       "    <tr>\n",
       "      <th>4</th>\n",
       "      <td>NaN</td>\n",
       "      <td>tPostgresqlRow</td>\n",
       "      <td>truncate table job_load_context</td>\n",
       "    </tr>\n",
       "    <tr>\n",
       "      <th>5</th>\n",
       "      <td>NaN</td>\n",
       "      <td>tPostgresqlRow</td>\n",
       "      <td>truncate table job_variable</td>\n",
       "    </tr>\n",
       "    <tr>\n",
       "      <th>6</th>\n",
       "      <td>NaN</td>\n",
       "      <td>tPostgresqlRow</td>\n",
       "      <td>truncate table job_group_context</td>\n",
       "    </tr>\n",
       "    <tr>\n",
       "      <th>7</th>\n",
       "      <td>NaN</td>\n",
       "      <td>tPostgresqlRow</td>\n",
       "      <td>truncate table err_process_sans_properties</td>\n",
       "    </tr>\n",
       "    <tr>\n",
       "      <th>8</th>\n",
       "      <td>NaN</td>\n",
       "      <td>tPostgresqlRow</td>\n",
       "      <td>truncate table job_hierarchy_level</td>\n",
       "    </tr>\n",
       "    <tr>\n",
       "      <th>9</th>\n",
       "      <td>NaN</td>\n",
       "      <td>tPostgresqlRow</td>\n",
       "      <td>truncate table job_plan_tac</td>\n",
       "    </tr>\n",
       "  </tbody>\n",
       "</table>\n",
       "</div>"
      ],
      "text/plain": [
       "    0               1                                           2\n",
       "0 NaN  tPostgresqlRow              truncate table job_referentiel\n",
       "1 NaN  tPostgresqlRow                truncate table job_hierarchy\n",
       "2 NaN  tPostgresqlRow                    truncate table job_table\n",
       "3 NaN  tPostgresqlRow                truncate table job_sql_table\n",
       "4 NaN  tPostgresqlRow             truncate table job_load_context\n",
       "5 NaN  tPostgresqlRow                 truncate table job_variable\n",
       "6 NaN  tPostgresqlRow            truncate table job_group_context\n",
       "7 NaN  tPostgresqlRow  truncate table err_process_sans_properties\n",
       "8 NaN  tPostgresqlRow          truncate table job_hierarchy_level\n",
       "9 NaN  tPostgresqlRow                 truncate table job_plan_tac"
      ]
     },
     "execution_count": 9,
     "metadata": {},
     "output_type": "execute_result"
    }
   ],
   "source": [
    "#lire les 10 premières lignes du dataframe\n",
    "df.head(10)"
   ]
  },
  {
   "cell_type": "code",
   "execution_count": 10,
   "metadata": {},
   "outputs": [
    {
     "data": {
      "text/html": [
       "<div>\n",
       "<style scoped>\n",
       "    .dataframe tbody tr th:only-of-type {\n",
       "        vertical-align: middle;\n",
       "    }\n",
       "\n",
       "    .dataframe tbody tr th {\n",
       "        vertical-align: top;\n",
       "    }\n",
       "\n",
       "    .dataframe thead th {\n",
       "        text-align: right;\n",
       "    }\n",
       "</style>\n",
       "<table border=\"1\" class=\"dataframe\">\n",
       "  <thead>\n",
       "    <tr style=\"text-align: right;\">\n",
       "      <th></th>\n",
       "      <th>0</th>\n",
       "      <th>1</th>\n",
       "      <th>2</th>\n",
       "      <th>table</th>\n",
       "    </tr>\n",
       "  </thead>\n",
       "  <tbody>\n",
       "    <tr>\n",
       "      <th>14</th>\n",
       "      <td>NaN</td>\n",
       "      <td>tPostgresqlInput</td>\n",
       "      <td>select * from job_hierarchy</td>\n",
       "      <td>job_hierarchy</td>\n",
       "    </tr>\n",
       "    <tr>\n",
       "      <th>15</th>\n",
       "      <td>NaN</td>\n",
       "      <td>tPostgresqlInput</td>\n",
       "      <td>select t.generatedjobname,t.jobversion\\r\\nfrom job_plan_tac t\\r\\n</td>\n",
       "      <td>job_plan_tac</td>\n",
       "    </tr>\n",
       "    <tr>\n",
       "      <th>16</th>\n",
       "      <td>NaN</td>\n",
       "      <td>tPostgresqlInput</td>\n",
       "      <td>SELECT \\n  talend_tracking.public.job_referentiel.projet, \\n  talend_tracking.public.job_referentiel.nom_fichier, \\n  talend_tracking.public.job_referentiel.nom_fichier_sans_extension, \\n  talend_tracking.public.job_referentiel.id_job, \\n  talend_tracking.public.job_referentiel.label_job, \\n  talend_tracking.public.job_referentiel.display_job,\\r\\n  talend_tracking.public.job_referentiel.version\\nFROM talend_tracking.public.job_referentiel</td>\n",
       "      <td>talend_tracking</td>\n",
       "    </tr>\n",
       "    <tr>\n",
       "      <th>17</th>\n",
       "      <td>NaN</td>\n",
       "      <td>tPostgresqlInput</td>\n",
       "      <td>SELECT \\n  talend_tracking.public.job_referentiel.projet, \\n  talend_tracking.public.job_referentiel.nom_fichier, \\n  talend_tracking.public.job_referentiel.nom_fichier_sans_extension, \\n  talend_tracking.public.job_referentiel.id_job, \\n  talend_tracking.public.job_referentiel.label_job, \\n  talend_tracking.public.job_referentiel.display_job,\\r\\n  talend_tracking.public.job_referentiel.version\\nFROM talend_tracking.public.job_referentiel</td>\n",
       "      <td>talend_tracking</td>\n",
       "    </tr>\n",
       "    <tr>\n",
       "      <th>18</th>\n",
       "      <td>NaN</td>\n",
       "      <td>tPostgresqlInput</td>\n",
       "      <td>select id_job,\\r\\nmax(version)  as latest_version\\r\\nfrom job_referentiel\\r\\ngroup by id_job</td>\n",
       "      <td>job_referentiel</td>\n",
       "    </tr>\n",
       "    <tr>\n",
       "      <th>19</th>\n",
       "      <td>NaN</td>\n",
       "      <td>tPostgresqlInput</td>\n",
       "      <td>SELECT \\n  talend_tracking.public.job_referentiel.projet, \\n  talend_tracking.public.job_referentiel.nom_fichier, \\n  talend_tracking.public.job_referentiel.nom_fichier_sans_extension, \\n  talend_tracking.public.job_referentiel.id_job, \\n  talend_tracking.public.job_referentiel.label_job, \\n  talend_tracking.public.job_referentiel.display_job,\\r\\n  talend_tracking.public.job_referentiel.version\\nFROM talend_tracking.public.job_referentiel</td>\n",
       "      <td>talend_tracking</td>\n",
       "    </tr>\n",
       "    <tr>\n",
       "      <th>20</th>\n",
       "      <td>NaN</td>\n",
       "      <td>tPostgresqlInput</td>\n",
       "      <td>SELECT \\n  talend_tracking.public.job_referentiel.projet, \\n  talend_tracking.public.job_referentiel.nom_fichier, \\n  talend_tracking.public.job_referentiel.nom_fichier_sans_extension, \\n  talend_tracking.public.job_referentiel.id_job, \\n  talend_tracking.public.job_referentiel.label_job, \\n  talend_tracking.public.job_referentiel.display_job,\\r\\n  talend_tracking.public.job_referentiel.version\\nFROM talend_tracking.public.job_referentiel</td>\n",
       "      <td>talend_tracking</td>\n",
       "    </tr>\n",
       "    <tr>\n",
       "      <th>21</th>\n",
       "      <td>NaN</td>\n",
       "      <td>tPostgresqlInput</td>\n",
       "      <td>SELECT \\n  talend_tracking.public.job_referentiel.projet, \\n  talend_tracking.public.job_referentiel.nom_fichier, \\n  talend_tracking.public.job_referentiel.nom_fichier_sans_extension, \\n  talend_tracking.public.job_referentiel.id_job, \\n  talend_tracking.public.job_referentiel.label_job, \\n  talend_tracking.public.job_referentiel.display_job,\\r\\n  talend_tracking.public.job_referentiel.version\\nFROM talend_tracking.public.job_referentiel</td>\n",
       "      <td>talend_tracking</td>\n",
       "    </tr>\n",
       "    <tr>\n",
       "      <th>22</th>\n",
       "      <td>NaN</td>\n",
       "      <td>tPostgresqlInput</td>\n",
       "      <td>SELECT \\n  talend_tracking.public.job_referentiel.projet, \\n  talend_tracking.public.job_referentiel.nom_fichier, \\n  talend_tracking.public.job_referentiel.nom_fichier_sans_extension, \\n  talend_tracking.public.job_referentiel.id_job, \\n  talend_tracking.public.job_referentiel.label_job, \\n  talend_tracking.public.job_referentiel.display_job,\\r\\n  talend_tracking.public.job_referentiel.version\\nFROM talend_tracking.public.job_referentiel</td>\n",
       "      <td>talend_tracking</td>\n",
       "    </tr>\n",
       "    <tr>\n",
       "      <th>23</th>\n",
       "      <td>NaN</td>\n",
       "      <td>tPostgresqlInput</td>\n",
       "      <td>SELECT \\n  +context.talend_tracking_postgres_Schema+.job_referentiel.projet, \\n  +context.talend_tracking_postgres_Schema+.job_referentiel.nom_fichier, \\n  +context.talend_tracking_postgres_Schema+.job_referentiel.nom_fichier_sans_extension, \\n  +context.talend_tracking_postgres_Schema+.job_referentiel.id_job, \\n  +context.talend_tracking_postgres_Schema+.job_referentiel.label_job, \\n  +context.talend_tracking_postgres_Schema+.job_referentiel.display_job, \\n  +context.talend_tracking_postgres_Schema+.job_referentiel.version\\nFROM +context.talend_tracking_postgres_Schema+.job_referentiel</td>\n",
       "      <td></td>\n",
       "    </tr>\n",
       "  </tbody>\n",
       "</table>\n",
       "</div>"
      ],
      "text/plain": [
       "     0                 1  \\\n",
       "14 NaN  tPostgresqlInput   \n",
       "15 NaN  tPostgresqlInput   \n",
       "16 NaN  tPostgresqlInput   \n",
       "17 NaN  tPostgresqlInput   \n",
       "18 NaN  tPostgresqlInput   \n",
       "19 NaN  tPostgresqlInput   \n",
       "20 NaN  tPostgresqlInput   \n",
       "21 NaN  tPostgresqlInput   \n",
       "22 NaN  tPostgresqlInput   \n",
       "23 NaN  tPostgresqlInput   \n",
       "\n",
       "                                                                                                                                                                                                                                                                                                                                                                                                                                                                                                                                                                                                                    2  \\\n",
       "14                                                                                                                                                                                                                                                                                                                                                                                                                                                                                                                                                                                        select * from job_hierarchy   \n",
       "15                                                                                                                                                                                                                                                                                                                                                                                                                                                                                                                                                  select t.generatedjobname,t.jobversion\\r\\nfrom job_plan_tac t\\r\\n   \n",
       "16                                                                                                                                                         SELECT \\n  talend_tracking.public.job_referentiel.projet, \\n  talend_tracking.public.job_referentiel.nom_fichier, \\n  talend_tracking.public.job_referentiel.nom_fichier_sans_extension, \\n  talend_tracking.public.job_referentiel.id_job, \\n  talend_tracking.public.job_referentiel.label_job, \\n  talend_tracking.public.job_referentiel.display_job,\\r\\n  talend_tracking.public.job_referentiel.version\\nFROM talend_tracking.public.job_referentiel   \n",
       "17                                                                                                                                                         SELECT \\n  talend_tracking.public.job_referentiel.projet, \\n  talend_tracking.public.job_referentiel.nom_fichier, \\n  talend_tracking.public.job_referentiel.nom_fichier_sans_extension, \\n  talend_tracking.public.job_referentiel.id_job, \\n  talend_tracking.public.job_referentiel.label_job, \\n  talend_tracking.public.job_referentiel.display_job,\\r\\n  talend_tracking.public.job_referentiel.version\\nFROM talend_tracking.public.job_referentiel   \n",
       "18                                                                                                                                                                                                                                                                                                                                                                                                                                                                                                                       select id_job,\\r\\nmax(version)  as latest_version\\r\\nfrom job_referentiel\\r\\ngroup by id_job   \n",
       "19                                                                                                                                                         SELECT \\n  talend_tracking.public.job_referentiel.projet, \\n  talend_tracking.public.job_referentiel.nom_fichier, \\n  talend_tracking.public.job_referentiel.nom_fichier_sans_extension, \\n  talend_tracking.public.job_referentiel.id_job, \\n  talend_tracking.public.job_referentiel.label_job, \\n  talend_tracking.public.job_referentiel.display_job,\\r\\n  talend_tracking.public.job_referentiel.version\\nFROM talend_tracking.public.job_referentiel   \n",
       "20                                                                                                                                                         SELECT \\n  talend_tracking.public.job_referentiel.projet, \\n  talend_tracking.public.job_referentiel.nom_fichier, \\n  talend_tracking.public.job_referentiel.nom_fichier_sans_extension, \\n  talend_tracking.public.job_referentiel.id_job, \\n  talend_tracking.public.job_referentiel.label_job, \\n  talend_tracking.public.job_referentiel.display_job,\\r\\n  talend_tracking.public.job_referentiel.version\\nFROM talend_tracking.public.job_referentiel   \n",
       "21                                                                                                                                                         SELECT \\n  talend_tracking.public.job_referentiel.projet, \\n  talend_tracking.public.job_referentiel.nom_fichier, \\n  talend_tracking.public.job_referentiel.nom_fichier_sans_extension, \\n  talend_tracking.public.job_referentiel.id_job, \\n  talend_tracking.public.job_referentiel.label_job, \\n  talend_tracking.public.job_referentiel.display_job,\\r\\n  talend_tracking.public.job_referentiel.version\\nFROM talend_tracking.public.job_referentiel   \n",
       "22                                                                                                                                                         SELECT \\n  talend_tracking.public.job_referentiel.projet, \\n  talend_tracking.public.job_referentiel.nom_fichier, \\n  talend_tracking.public.job_referentiel.nom_fichier_sans_extension, \\n  talend_tracking.public.job_referentiel.id_job, \\n  talend_tracking.public.job_referentiel.label_job, \\n  talend_tracking.public.job_referentiel.display_job,\\r\\n  talend_tracking.public.job_referentiel.version\\nFROM talend_tracking.public.job_referentiel   \n",
       "23  SELECT \\n  +context.talend_tracking_postgres_Schema+.job_referentiel.projet, \\n  +context.talend_tracking_postgres_Schema+.job_referentiel.nom_fichier, \\n  +context.talend_tracking_postgres_Schema+.job_referentiel.nom_fichier_sans_extension, \\n  +context.talend_tracking_postgres_Schema+.job_referentiel.id_job, \\n  +context.talend_tracking_postgres_Schema+.job_referentiel.label_job, \\n  +context.talend_tracking_postgres_Schema+.job_referentiel.display_job, \\n  +context.talend_tracking_postgres_Schema+.job_referentiel.version\\nFROM +context.talend_tracking_postgres_Schema+.job_referentiel   \n",
       "\n",
       "              table  \n",
       "14    job_hierarchy  \n",
       "15     job_plan_tac  \n",
       "16  talend_tracking  \n",
       "17  talend_tracking  \n",
       "18  job_referentiel  \n",
       "19  talend_tracking  \n",
       "20  talend_tracking  \n",
       "21  talend_tracking  \n",
       "22  talend_tracking  \n",
       "23                   "
      ]
     },
     "execution_count": 10,
     "metadata": {},
     "output_type": "execute_result"
    }
   ],
   "source": [
    "def extraire_table(sql_query):\n",
    "    # Expression régulière pour extraire les noms de table\n",
    "    pattern = r'\\b(?:FROM|JOIN)\\s+(\\w+)\\b'\n",
    "\n",
    "    # Recherche des correspondances dans la requête SQL\n",
    "    table = re.findall(pattern, sql_query, re.IGNORECASE)\n",
    "    return table \n",
    "\n",
    "# Appliquer la fonction personnalisée à chaque ligne de la colonne 'requete_sql'\n",
    "df['table'] = df[2].apply(extraire_table)\n",
    "\n",
    "# S'assurer que la colonne 'table' est de type chaîne\n",
    "df['table'] = df['table'].astype(str)\n",
    "\n",
    "# Supprimer les crochets de la colonne 'table'\n",
    "df['table']=df['table'].str.replace('[', '').str.replace(']', '')\n",
    "\n",
    "# Supprimer tous les guillemets simples de la colonne 'table'\n",
    "df['table'] = df['table'].str.replace('\\'', '')\n",
    "\n",
    "# Afficher le DataFrame résultant\n",
    "df.tail(10)"
   ]
  },
  {
   "cell_type": "code",
   "execution_count": 15,
   "metadata": {},
   "outputs": [],
   "source": [
    "df1=pd.read_csv(\"sql_requetes.csv\", sep=\";\")"
   ]
  },
  {
   "cell_type": "code",
   "execution_count": 16,
   "metadata": {},
   "outputs": [
    {
     "data": {
      "text/html": [
       "<div>\n",
       "<style scoped>\n",
       "    .dataframe tbody tr th:only-of-type {\n",
       "        vertical-align: middle;\n",
       "    }\n",
       "\n",
       "    .dataframe tbody tr th {\n",
       "        vertical-align: top;\n",
       "    }\n",
       "\n",
       "    .dataframe thead th {\n",
       "        text-align: right;\n",
       "    }\n",
       "</style>\n",
       "<table border=\"1\" class=\"dataframe\">\n",
       "  <thead>\n",
       "    <tr style=\"text-align: right;\">\n",
       "      <th></th>\n",
       "      <th>projet</th>\n",
       "      <th>requete_sql</th>\n",
       "      <th>table</th>\n",
       "    </tr>\n",
       "  </thead>\n",
       "  <tbody>\n",
       "    <tr>\n",
       "      <th>0</th>\n",
       "      <td>ATP</td>\n",
       "      <td>select * from (select nom, adresse from Immeuble where id=1) as Koudalou</td>\n",
       "      <td>Immeuble</td>\n",
       "    </tr>\n",
       "    <tr>\n",
       "      <th>1</th>\n",
       "      <td>ATP</td>\n",
       "      <td>SELECT * FROM Table</td>\n",
       "      <td>Table</td>\n",
       "    </tr>\n",
       "    <tr>\n",
       "      <th>2</th>\n",
       "      <td>ATP</td>\n",
       "      <td>SELECT * FROM question WHERE q_id IN (SELECT r_fk_question_id FROM reponse WHERE r_date_ajout BETWEEN  2013-01-01  AND  2013-12-31 )</td>\n",
       "      <td>question, reponse</td>\n",
       "    </tr>\n",
       "    <tr>\n",
       "      <th>3</th>\n",
       "      <td>ATP</td>\n",
       "      <td>SELECT sum(a.Population)FROM travail.communes64 AS a WHERE EXISTS(SELECT * FROM travail.communes64 AS b WHERE b.Population &gt; 10)</td>\n",
       "      <td>travail, travail</td>\n",
       "    </tr>\n",
       "    <tr>\n",
       "      <th>4</th>\n",
       "      <td>ATP</td>\n",
       "      <td>SELECT timestamp, log_id, severity, json_payload, resource, labels FROM TABLE WHERE timestamp &gt; TIMESTAMP_SUB(CURRENT_TIMESTAMP(), INTERVAL 1 HOUR) AND log_id = cloudaudit.googleapis.com/data_access ORDER BY timestamp ASC LIMIT 100</td>\n",
       "      <td>TABLE</td>\n",
       "    </tr>\n",
       "    <tr>\n",
       "      <th>5</th>\n",
       "      <td>ATP</td>\n",
       "      <td>SELECT * FROM Orders WHERE CustomerID IN (SELECT CustomerID FROM Customers WHERE Country = 'USA' AND City IN (SELECT DISTINCT ShipCity FROM Shippers WHERE ShipperID IN (SELECT ShipperID FROM OrderDetails WHERE ProductID IN (SELECT ProductID FROM Products WHERE CategoryID = 1))))</td>\n",
       "      <td>Orders, Customers, Shippers, OrderDetails, Products</td>\n",
       "    </tr>\n",
       "    <tr>\n",
       "      <th>6</th>\n",
       "      <td>ATP</td>\n",
       "      <td>SELECT COUNT(count_table.mois) FROM(SELECT st.mois, st.pays, st.somme_transactions, stm.somme_transactions FROM (\\tSELECT EXTRACT(MONTH FROM t.date) AS mois, c.pays, SUM(t.montant) AS somme_transactions\\t\\tFROM transaction t\\tINNER JOIN city cON t.ville = c.villeGROUP BY mois, c.pays) stINNER JOIN somme_transactions_mois stm ON st.mois = stm.mois AND st.pays = stm.pays WHERE st.somme_transactions != stm.somme_transactions ORDER BY st.mois ASC, st.pays ASC) AS count_table GROUP BY count_table.mois</td>\n",
       "      <td>t, transaction, city, somme_transactions_mois</td>\n",
       "    </tr>\n",
       "    <tr>\n",
       "      <th>7</th>\n",
       "      <td>PLE</td>\n",
       "      <td>SELECT \\tTDI_D01 as TDI_D01, \\tTDI_D02 as TDI_D02, \\tTDI_D03 as TDI_D03, \\tTDI_D04 as TDI_D04, \\tTDI_D05 as TDI_D05, \\tTDI_D06 as TDI_D06, \\tTDI_D07 as TDI_D07, \\tnull as TDI_D08, \\tTDI_D09 as TDI_D09, \\tTDI_D10 as TDI_D10, \\tTDI_D11 as TDI_D11, \\tTDI_D12 as TDI_D12, \\tnull as TDI_D13, \\tnull as TDI_D14, \\tnull as TDI_D15, \\tnull AS TDI_D16, \\tnull AS TDI_D17, \\tnull AS TDI_D18, \\tnull AS TDI_D19, \\tnull AS TDI_D20, \\tnull AS TDI_D21, \\tnull AS TDI_D22, \\tnull AS TDI_D23, \\tnull AS TDI_D24, \\tnull AS TDI_D25, \\tnull AS TDI_D26, \\tnull AS TDI_D27, \\tnull AS TDI_D28, \\tnull AS TDI_D29, \\tnull AS TDI_D30, \\tTDI_I01 as TDI_I01, \\tTDI_I02 as TDI_I02, \\tTDI_I03 as TDI_I03, \\tTDI_I04 AS TDI_I04, \\tNULL AS TDI_I05, \\tNULL AS TDI_I06, \\tNULL AS TDI_I07, \\tNULL AS TDI_I08, \\tNULL AS TDI_I09, \\tNULL AS TDI_I10, \\tNULL AS TDI_I11, \\tNULL AS TDI_I12, \\tNULL AS TDI_I13, \\tNULL AS TDI_I14, \\tNULL AS TDI_I15, \\tNULL AS TDI_I16, \\tNULL AS TDI_I17, \\tNULL AS TDI_I18, \\tNULL AS TDI_I19, \\tNULL AS TDI_I20 FROM (  SELECT     to_char(CTX.CONT_DATE_CREATION,'yyyyMMdd') AS TDI_D01,     41 as TDI_D02,     CASE WHEN (SUM(CASE WHEN (NVL(THT.ADRC_COM_CONCESS,'N') = 'O') THEN 1 ELSE 0 END)&gt;=1 AND SUM(CASE WHEN (NVL(THT.ADRC_COM_CONCESS,'N') &lt;&gt; 'O') THEN 1 ELSE 0 END)=0) THEN 'T' ELSE         (CASE WHEN (SUM(CASE WHEN (NVL(THT.ADRC_COM_CONCESS,'N') = 'O') THEN 1 ELSE 0 END)=0 AND SUM(CASE WHEN (NVL(THT.ADRC_COM_CONCESS,'N') &lt;&gt; 'O') THEN 1 ELSE 0 END)&gt;=1) THEN 'HT' ELSE            (CASE WHEN (SUM(CASE WHEN (NVL(THT.ADRC_COM_CONCESS,'N') = 'O') THEN 1 ELSE 0 END)&gt;=1 AND SUM(CASE WHEN (NVL(THT.ADRC_COM_CONCESS,'N') &lt;&gt; 'O') THEN 1 ELSE 0 END)&gt;=1) THEN 'MIXTE' ELSE \\t\\t\\t'NRE' END) END) END AS  TDI_D03,      NVL(TO_CHAR(ACT.CLI_CHRONO),'NRE') AS TDI_D04,      'C-'||TO_CHAR(CTX.CONT_CHRONO_CONTRAT) as TDI_D05,      NVL(TO_CHAR(SOUS.SOUS_ID), 'NRE') as TDI_D06,      NVL(TO_CHAR(EDC.CPT_ID), 'NRE') as TDI_D07,      'NRE' AS TDI_D09,      NVL(UPPER(ACT.CLI_E_MAIL),'NRE') AS TDI_D10,      NVL(TO_CHAR(CSO.CONSO_CONSO_ANN),'NRE') as TDI_D11,      CTX.CONT_CHRONO_DOSSIER AS TDI_D12,     1 AS TDI_I01,     CASE WHEN CTX.CONT_ETAT_DOSSIER  =  'ENCRS' THEN 1 ELSE 0 END AS TDI_I02,     COUNT(DISTINCT ACT.CLI_CHRONO) AS TDI_I03, \\tCASE WHEN ACT.CLI_CHRONO is not null  THEN 1 ELSE 0 END AS TDI_I04      FROM FUS_CONTENTIEUX CTX     LEFT JOIN SIM_GCC_CLIENTS CL ON (CTX.CONT_CHRONO_CLIENT=CL.CLI_CHRONO)      \\t-- Calcul Client actif     LEFT JOIN (             select                  c.con_chrono,  \\t\\t\\t\\tCL.CLI_CHRONO,  \\t\\t\\t\\tECTR_CODE_ETAT,  \\t\\t\\t\\tactif,  \\t\\t\\t\\tdvl.date_debut,  \\t\\t\\t\\tdvl.date_fin, \\t\\t\\t\\tCLI_E_MAIL             from SIM_GCD_CONTRAT C                 INNER JOIN DVL_GCD_ETATS_CONTRAT DVL ON (C.CON_CHRONO=DVL.CON_CHRONO)                 INNER JOIN SIM_GCC_CLIENTS CL ON (CL.CLI_CHRONO=C.CLI_CHRONO AND (CLI_FAMILLE='DOM' OR CLI_CATEGORIE='NDOM'))             where DVL.ECTR_CODE_ETAT IN ('A', 'F') AND CL.CLI_CHRONO IS NOT NULL \\t\\t\\t) ACT ON (ACT.CLI_CHRONO=CL.CLI_CHRONO AND CTX.CONT_DATE_CREATION BETWEEN ACT.DATE_DEBUT AND ACT.DATE_FIN)      \\tLEFT JOIN SIM_GCT_ADR_EN_CLAIR A ON (CL.CLI_ADR_CHRONO=A.ADRC_CHRONO)     LEFT JOIN SIM_GCD_CONTRAT C ON (CONT_CHRONO_CONTRAT=C.CON_CHRONO) \\t \\t-- Récupération du contrat associé \\t     LEFT JOIN ( \\t\\t\\tSELECT  \\t\\t\\t\\tSIM_GCD_CONTRAT.CON_CHRONO AS CON_CHRONO,  \\t\\t\\t\\tMAX(SIM_GCD_COND_ADMIN.CADM_TYPE_PAIEMENT) AS TYPE_PAIEMENT \\t\\t\\tFROM SIM_GCD_CONTRAT \\t\\t\\t\\tINNER JOIN SIM_GCD_ENT_PREST ON (SIM_GCD_CONTRAT.CON_CHRONO=SIM_GCD_ENT_PREST.CON_CHRONO) \\t\\t\\t\\tINNER JOIN SIM_GCD_COND_ADMIN ON (SIM_GCD_COND_ADMIN.CADM_CHRONO=SIM_GCD_ENT_PREST.CADM_CHRONO) \\t\\t\\tGROUP BY SIM_GCD_CONTRAT.CON_CHRONO \\t\\t\\t) TP ON (C.CON_CHRONO = TP.CON_CHRONO) \\t\\t\\t     LEFT JOIN SIM_GCC_COMMUNES CO ON (CO.COM_CODE = A.ADRC_COM_CODE)     LEFT JOIN ODS_COMMUNES OC ON (OC.CODE_INSEE = nvl(CO.COM_CODE_INSEE,'NRE'))     LEFT JOIN FUS_KPI_CONTENTIEUX EK ON (EK.CONT_CHRONO_DOSSIER = CTX.CONT_CHRONO_DOSSIER)      \\tLEFT JOIN ( \\t\\t\\t\\tSELECT MAX(EPT_CHRONO) AS EPT_CHRONO,  \\t\\t\\t\\t\\t\\tEPT_NATURE_PREST AS EPT_NATURE_PREST,  \\t\\t\\t\\t\\t\\tCON_CHRONO AS CON_CHRONO \\t\\t\\t\\tFROM SIM_GCD_ENT_PREST \\t\\t\\t\\tGROUP BY EPT_NATURE_PREST, CON_CHRONO \\t\\t\\t\\t) EP ON (EP.CON_CHRONO=C.CON_CHRONO AND EP.EPT_NATURE_PREST = 'GAZ NATUREL') \\t \\tLEFT JOIN ( \\t\\t\\t\\tSELECT MAX(AVE_CHRONO) AS AVE_CHRONO,  \\t\\t\\t\\t\\tEPT_CHRONO AS EPT_CHRONO \\t\\t\\t\\tFROM SIM_GCD_DET_PREST \\t\\t\\t\\tGROUP BY EPT_CHRONO \\t\\t\\t\\t) AV ON (AV.EPT_CHRONO=EP.EPT_CHRONO)       \\tLEFT JOIN SIM_GCD_DET_PREST DP ON (DP.EPT_CHRONO=AV.EPT_CHRONO AND DP.AVE_CHRONO=AV.AVE_CHRONO AND (CONT_DATE_CREATION BETWEEN DP.DPT_DATE_DEBUT AND NVL(DP.DPT_DATE_FIN,to_date('31122045','ddMMyyyy'))))     LEFT JOIN SIM_GCD_TARIF TA ON (TA.TAR_CHRONO= DP.TAR_CHRONO)     LEFT JOIN SIM_GCD_DPREST_PTS DPS ON (DPS.DPT_CHRONO=DP.DPT_CHRONO)     LEFT JOIN SIM_GCD_PTS PT ON (PT.PTS_CHRONO=DPS.PTS_CHRONO)     LEFT JOIN SIM_GCT_ADR_EN_CLAIR THT ON (THT.ADRC_CHRONO=PT.PTS_ADR_CHRONO and THT.ADRC_TYP=PT.PTS_ADR_TYPE)  \\t-- Nouvelle Formule jointure Souscription \\t \\tLEFT JOIN ( \\t\\tSelect SOUS_ID, \\t\\t\\t\\tSOUS_CLI_CHRONO_CREE, \\t\\t\\t\\tSOUS_CON_CHRONO_CREE, \\t\\t\\t\\tRANK () OVER(PARTITION BY SOUS_CLI_CHRONO_CREE, SOUS_CON_CHRONO_CREE \\t\\t\\t\\tORDER BY SOUS_DATE_CREATION DESC) as RANK_SOUS \\t\\t\\tFROM FUS_SOUSCRIPTION \\t\\t\\tWHERE SOUS_CLI_CHRONO_CREE is not null and SOUS_CON_CHRONO_CREE is not null) SOUS ON (SOUS.SOUS_CLI_CHRONO_CREE=ACT.CLI_CHRONO and SOUS_CON_CHRONO_CREE=CTX.CONT_CHRONO_CONTRAT And RANK_SOUS=1) \\t\\t\\t   --- Extension Consommation Annuelle    \\tLEFT JOIN (SELECT  \\t\\t\\tCL.CLI_CHRONO, \\t\\t\\tC.CON_CHRONO, \\t\\t\\tSUM(CSO.CONSO_CONSO_ANN) AS CONSO_CONSO_ANN \\t\\tFROM FUS_PRESTATION \\t\\t\\tINNER JOIN SIM_GCD_CONTRAT C ON (PRESTA_CON_CHRONO=C.CON_CHRONO) \\t\\t\\tINNER JOIN SIM_GCC_CLIENTS CL ON (CL.CLI_CHRONO=C.CLI_CHRONO) \\t\\t\\tINNER JOIN SIM_GCD_PTS PTS ON (FUS_PRESTATION.PRESTA_PTS_CHRONO=PTS.PTS_CHRONO) \\t\\t\\tLEFT JOIN SIM_GCD_CONSOMME CSO ON (CSO.CLI_CHRONO = CL.CLI_CHRONO AND CSO.PTS_CHRONO = PTS.PTS_CHRONO) \\t\\tWHERE (CL.CLI_FAMILLE='DOM' OR CL.CLI_CATEGORIE='NDOM') and  \\t\\t\\tPRESTA_TAR_CHRONO is not null and \\t\\t\\tsysdate between DPT_DATE_DEBUT and NVL(DPT_DATE_FIN,TO_DATE('29990101','yyyyMMdd')) \\t\\tGROUP BY CL.CLI_CHRONO,C.CON_CHRONO) CSO ON (CSO.CLI_CHRONO=ACT.CLI_CHRONO and CSO.CON_CHRONO=CTX.CONT_CHRONO_CONTRAT) \\t\\t   --- Récupération Extranet DOM      LEFT JOIN FUS_EXT_DOM_GCC_CLT_EMAIL EDCL ON (EDCL.CLI_CHRONO=ACT.CLI_CHRONO)   LEFT JOIN FUS_EXT_DOM_COMPTE_EMAIL  EDC ON (EDCL.CPT_EMAIL=EDC.CPT_EMAIL)  WHERE (CL.CLI_FAMILLE='DOM' OR CL.CLI_CATEGORIE='NDOM')  GROUP BY       NVL(TO_CHAR(ACT.CLI_CHRONO),'NRE'),      to_char(CTX.CONT_DATE_CREATION,'yyyyMMdd'),      'C-'||TO_CHAR(CONT_CHRONO_CONTRAT),      CTX.CONT_CHRONO_DOSSIER,      CASE WHEN CTX.CONT_ETAT_DOSSIER  =  'ENCRS' THEN 1 ELSE 0 END, \\t NVL(UPPER(ACT.CLI_E_MAIL),'NRE'), \\t NVL(TO_CHAR(CSO.CONSO_CONSO_ANN),'NRE'), \\t NVL(TO_CHAR(SOUS.SOUS_ID), 'NRE'), \\t NVL(TO_CHAR(EDC.CPT_ID), 'NRE'), \\t CASE WHEN ACT.CLI_CHRONO is not null  THEN 1 ELSE 0 END ) EKI_MKT_FACT_CONTENTIEUX</td>\n",
       "      <td>FUS_CONTENTIEUX, SIM_GCC_CLIENTS, SIM_GCD_CONTRAT, DVL_GCD_ETATS_CONTRAT, SIM_GCC_CLIENTS, SIM_GCT_ADR_EN_CLAIR, SIM_GCD_CONTRAT, SIM_GCD_CONTRAT, SIM_GCD_ENT_PREST, SIM_GCD_COND_ADMIN, SIM_GCC_COMMUNES, ODS_COMMUNES, FUS_KPI_CONTENTIEUX, SIM_GCD_ENT_PREST, SIM_GCD_DET_PREST, SIM_GCD_DET_PREST, SIM_GCD_TARIF, SIM_GCD_DPREST_PTS, SIM_GCD_PTS, SIM_GCT_ADR_EN_CLAIR, FUS_SOUSCRIPTION, FUS_PRESTATION, SIM_GCD_CONTRAT, SIM_GCC_CLIENTS, SIM_GCD_PTS, SIM_GCD_CONSOMME, FUS_EXT_DOM_GCC_CLT_EMAIL, FUS_EXT_DOM_COMPTE_EMAIL</td>\n",
       "    </tr>\n",
       "    <tr>\n",
       "      <th>8</th>\n",
       "      <td>PLE</td>\n",
       "      <td>SELECT \\tTDI_D01 as TDI_D01, \\tTDI_D02 as TDI_D02, \\tTDI_D03 as TDI_D03, \\tTDI_D04 as TDI_D04, \\tTDI_D05 as TDI_D05, \\tTDI_D06 as TDI_D06, \\tTDI_D07 as TDI_D07, \\tnull as TDI_D08, \\tTDI_D09 as TDI_D09, \\tTDI_D10 as TDI_D10, \\tTDI_D11 as TDI_D11, \\tTDI_D12 as TDI_D12, \\tnull as TDI_D13, \\tnull as TDI_D14, \\tnull as TDI_D15, \\tnull AS TDI_D16, \\tnull AS TDI_D17, \\tnull AS TDI_D18, \\tnull AS TDI_D19, \\tnull AS TDI_D20, \\tnull AS TDI_D21, \\tnull AS TDI_D22, \\tnull AS TDI_D23, \\tnull AS TDI_D24, \\tnull AS TDI_D25, \\tnull AS TDI_D26, \\tnull AS TDI_D27, \\tnull AS TDI_D28, \\tnull AS TDI_D29, \\tnull AS TDI_D30, \\tTDI_I01 as TDI_I01, \\tTDI_I02 as TDI_I02, \\tTDI_I03 as TDI_I03, \\tTDI_I04 AS TDI_I04, \\tNULL AS TDI_I05, \\tNULL AS TDI_I06, \\tNULL AS TDI_I07, \\tNULL AS TDI_I08, \\tNULL AS TDI_I09, \\tNULL AS TDI_I10, \\tNULL AS TDI_I11, \\tNULL AS TDI_I12, \\tNULL AS TDI_I13, \\tNULL AS TDI_I14, \\tNULL AS TDI_I15, \\tNULL AS TDI_I16, \\tNULL AS TDI_I17, \\tNULL AS TDI_I18, \\tNULL AS TDI_I19, \\tNULL AS TDI_I20 FROM (  SELECT     to_char(CTX.CONT_DATE_CREATION,'yyyyMMdd') AS TDI_D01,     41 as TDI_D02,     CASE WHEN (SUM(CASE WHEN (NVL(THT.ADRC_COM_CONCESS,'N') = 'O') THEN 1 ELSE 0 END)&gt;=1 AND SUM(CASE WHEN (NVL(THT.ADRC_COM_CONCESS,'N') &lt;&gt; 'O') THEN 1 ELSE 0 END)=0) THEN 'T' ELSE         (CASE WHEN (SUM(CASE WHEN (NVL(THT.ADRC_COM_CONCESS,'N') = 'O') THEN 1 ELSE 0 END)=0 AND SUM(CASE WHEN (NVL(THT.ADRC_COM_CONCESS,'N') &lt;&gt; 'O') THEN 1 ELSE 0 END)&gt;=1) THEN 'HT' ELSE            (CASE WHEN (SUM(CASE WHEN (NVL(THT.ADRC_COM_CONCESS,'N') = 'O') THEN 1 ELSE 0 END)&gt;=1 AND SUM(CASE WHEN (NVL(THT.ADRC_COM_CONCESS,'N') &lt;&gt; 'O') THEN 1 ELSE 0 END)&gt;=1) THEN 'MIXTE' ELSE \\t\\t\\t'NRE' END) END) END AS  TDI_D03,      NVL(TO_CHAR(ACT.CLI_CHRONO),'NRE') AS TDI_D04,      'C-'||TO_CHAR(CTX.CONT_CHRONO_CONTRAT) as TDI_D05,      NVL(TO_CHAR(SOUS.SOUS_ID), 'NRE') as TDI_D06,      NVL(TO_CHAR(EDC.CPT_ID), 'NRE') as TDI_D07,      'NRE' AS TDI_D09,      NVL(UPPER(ACT.CLI_E_MAIL),'NRE') AS TDI_D10,      NVL(TO_CHAR(CSO.CONSO_CONSO_ANN),'NRE') as TDI_D11,      CTX.CONT_CHRONO_DOSSIER AS TDI_D12,     1 AS TDI_I01,     CASE WHEN CTX.CONT_ETAT_DOSSIER  =  'ENCRS' THEN 1 ELSE 0 END AS TDI_I02,     COUNT(DISTINCT ACT.CLI_CHRONO) AS TDI_I03, \\tCASE WHEN ACT.CLI_CHRONO is not null  THEN 1 ELSE 0 END AS TDI_I04      FROM FUS_CONTENTIEUX CTX     LEFT JOIN SIM_GCC_CLIENTS CL ON (CTX.CONT_CHRONO_CLIENT=CL.CLI_CHRONO)           LEFT JOIN (             select                  c.con_chrono,  \\t\\t\\t\\tCL.CLI_CHRONO,  \\t\\t\\t\\tECTR_CODE_ETAT,  \\t\\t\\t\\tactif,  \\t\\t\\t\\tdvl.date_debut,  \\t\\t\\t\\tdvl.date_fin, \\t\\t\\t\\tCLI_E_MAIL             from SIM_GCD_CONTRAT C                 INNER JOIN DVL_GCD_ETATS_CONTRAT DVL ON (C.CON_CHRONO=DVL.CON_CHRONO)                 INNER JOIN SIM_GCC_CLIENTS CL ON (CL.CLI_CHRONO=C.CLI_CHRONO AND (CLI_FAMILLE='DOM' OR CLI_CATEGORIE='NDOM'))             where DVL.ECTR_CODE_ETAT IN ('A', 'F') AND CL.CLI_CHRONO IS NOT NULL \\t\\t\\t) ACT ON (ACT.CLI_CHRONO=CL.CLI_CHRONO AND CTX.CONT_DATE_CREATION BETWEEN ACT.DATE_DEBUT AND ACT.DATE_FIN)      \\tLEFT JOIN SIM_GCT_ADR_EN_CLAIR A ON (CL.CLI_ADR_CHRONO=A.ADRC_CHRONO)     LEFT JOIN SIM_GCD_CONTRAT C ON (CONT_CHRONO_CONTRAT=C.CON_CHRONO) \\t \\t     LEFT JOIN ( \\t\\t\\tSELECT  \\t\\t\\t\\tSIM_GCD_CONTRAT.CON_CHRONO AS CON_CHRONO,  \\t\\t\\t\\tMAX(SIM_GCD_COND_ADMIN.CADM_TYPE_PAIEMENT) AS TYPE_PAIEMENT \\t\\t\\tFROM SIM_GCD_CONTRAT \\t\\t\\t\\tINNER JOIN SIM_GCD_ENT_PREST ON (SIM_GCD_CONTRAT.CON_CHRONO=SIM_GCD_ENT_PREST.CON_CHRONO) \\t\\t\\t\\tINNER JOIN SIM_GCD_COND_ADMIN ON (SIM_GCD_COND_ADMIN.CADM_CHRONO=SIM_GCD_ENT_PREST.CADM_CHRONO) \\t\\t\\tGROUP BY SIM_GCD_CONTRAT.CON_CHRONO \\t\\t\\t) TP ON (C.CON_CHRONO = TP.CON_CHRONO) \\t\\t\\t     LEFT JOIN SIM_GCC_COMMUNES CO ON (CO.COM_CODE = A.ADRC_COM_CODE)     LEFT JOIN ODS_COMMUNES OC ON (OC.CODE_INSEE = nvl(CO.COM_CODE_INSEE,'NRE'))     LEFT JOIN FUS_KPI_CONTENTIEUX EK ON (EK.CONT_CHRONO_DOSSIER = CTX.CONT_CHRONO_DOSSIER)      \\tLEFT JOIN ( \\t\\t\\t\\tSELECT MAX(EPT_CHRONO) AS EPT_CHRONO,  \\t\\t\\t\\t\\t\\tEPT_NATURE_PREST AS EPT_NATURE_PREST,  \\t\\t\\t\\t\\t\\tCON_CHRONO AS CON_CHRONO \\t\\t\\t\\tFROM SIM_GCD_ENT_PREST \\t\\t\\t\\tGROUP BY EPT_NATURE_PREST, CON_CHRONO \\t\\t\\t\\t) EP ON (EP.CON_CHRONO=C.CON_CHRONO AND EP.EPT_NATURE_PREST = 'GAZ NATUREL') \\t \\tLEFT JOIN ( \\t\\t\\t\\tSELECT MAX(AVE_CHRONO) AS AVE_CHRONO,  \\t\\t\\t\\t\\tEPT_CHRONO AS EPT_CHRONO \\t\\t\\t\\tFROM SIM_GCD_DET_PREST \\t\\t\\t\\tGROUP BY EPT_CHRONO \\t\\t\\t\\t) AV ON (AV.EPT_CHRONO=EP.EPT_CHRONO)       \\tLEFT JOIN SIM_GCD_DET_PREST DP ON (DP.EPT_CHRONO=AV.EPT_CHRONO AND DP.AVE_CHRONO=AV.AVE_CHRONO AND (CONT_DATE_CREATION BETWEEN DP.DPT_DATE_DEBUT AND NVL(DP.DPT_DATE_FIN,to_date('31122045','ddMMyyyy'))))     LEFT JOIN SIM_GCD_TARIF TA ON (TA.TAR_CHRONO= DP.TAR_CHRONO)     LEFT JOIN SIM_GCD_DPREST_PTS DPS ON (DPS.DPT_CHRONO=DP.DPT_CHRONO)     LEFT JOIN SIM_GCD_PTS PT ON (PT.PTS_CHRONO=DPS.PTS_CHRONO)     LEFT JOIN SIM_GCT_ADR_EN_CLAIR THT ON (THT.ADRC_CHRONO=PT.PTS_ADR_CHRONO and THT.ADRC_TYP=PT.PTS_ADR_TYPE)  \\t \\tLEFT JOIN ( \\t\\tSelect SOUS_ID, \\t\\t\\t\\tSOUS_CLI_CHRONO_CREE, \\t\\t\\t\\tSOUS_CON_CHRONO_CREE, \\t\\t\\t\\tRANK () OVER(PARTITION BY SOUS_CLI_CHRONO_CREE, SOUS_CON_CHRONO_CREE \\t\\t\\t\\tORDER BY SOUS_DATE_CREATION DESC) as RANK_SOUS \\t\\t\\tFROM FUS_SOUSCRIPTION \\t\\t\\tWHERE SOUS_CLI_CHRONO_CREE is not null and SOUS_CON_CHRONO_CREE is not null) SOUS ON (SOUS.SOUS_CLI_CHRONO_CREE=ACT.CLI_CHRONO and SOUS_CON_CHRONO_CREE=CTX.CONT_CHRONO_CONTRAT And RANK_SOUS=1) \\t\\t\\t    \\tLEFT JOIN (SELECT  \\t\\t\\tCL.CLI_CHRONO, \\t\\t\\tC.CON_CHRONO, \\t\\t\\tSUM(CSO.CONSO_CONSO_ANN) AS CONSO_CONSO_ANN \\t\\tFROM FUS_PRESTATION \\t\\t\\tINNER JOIN SIM_GCD_CONTRAT C ON (PRESTA_CON_CHRONO=C.CON_CHRONO) \\t\\t\\tINNER JOIN SIM_GCC_CLIENTS CL ON (CL.CLI_CHRONO=C.CLI_CHRONO) \\t\\t\\tINNER JOIN SIM_GCD_PTS PTS ON (FUS_PRESTATION.PRESTA_PTS_CHRONO=PTS.PTS_CHRONO) \\t\\t\\tLEFT JOIN SIM_GCD_CONSOMME CSO ON (CSO.CLI_CHRONO = CL.CLI_CHRONO AND CSO.PTS_CHRONO = PTS.PTS_CHRONO) \\t\\tWHERE (CL.CLI_FAMILLE='DOM' OR CL.CLI_CATEGORIE='NDOM') and  \\t\\t\\tPRESTA_TAR_CHRONO is not null and \\t\\t\\tsysdate between DPT_DATE_DEBUT and NVL(DPT_DATE_FIN,TO_DATE('29990101','yyyyMMdd')) \\t\\tGROUP BY CL.CLI_CHRONO,C.CON_CHRONO) CSO ON (CSO.CLI_CHRONO=ACT.CLI_CHRONO and CSO.CON_CHRONO=CTX.CONT_CHRONO_CONTRAT) \\t\\t      LEFT JOIN FUS_EXT_DOM_GCC_CLT_EMAIL EDCL ON (EDCL.CLI_CHRONO=ACT.CLI_CHRONO)   LEFT JOIN FUS_EXT_DOM_COMPTE_EMAIL  EDC ON (EDCL.CPT_EMAIL=EDC.CPT_EMAIL)  WHERE (CL.CLI_FAMILLE='DOM' OR CL.CLI_CATEGORIE='NDOM')  GROUP BY       NVL(TO_CHAR(ACT.CLI_CHRONO),'NRE'),      to_char(CTX.CONT_DATE_CREATION,'yyyyMMdd'),      'C-'||TO_CHAR(CONT_CHRONO_CONTRAT),      CTX.CONT_CHRONO_DOSSIER,      CASE WHEN CTX.CONT_ETAT_DOSSIER  =  'ENCRS' THEN 1 ELSE 0 END, \\t NVL(UPPER(ACT.CLI_E_MAIL),'NRE'), \\t NVL(TO_CHAR(CSO.CONSO_CONSO_ANN),'NRE'), \\t NVL(TO_CHAR(SOUS.SOUS_ID), 'NRE'), \\t NVL(TO_CHAR(EDC.CPT_ID), 'NRE'), \\t CASE WHEN ACT.CLI_CHRONO is not null  THEN 1 ELSE 0 END ) EKI_MKT_FACT_CONTENTIEUX</td>\n",
       "      <td>FUS_CONTENTIEUX, SIM_GCC_CLIENTS, SIM_GCD_CONTRAT, DVL_GCD_ETATS_CONTRAT, SIM_GCC_CLIENTS, SIM_GCT_ADR_EN_CLAIR, SIM_GCD_CONTRAT, SIM_GCD_CONTRAT, SIM_GCD_ENT_PREST, SIM_GCD_COND_ADMIN, SIM_GCC_COMMUNES, ODS_COMMUNES, FUS_KPI_CONTENTIEUX, SIM_GCD_ENT_PREST, SIM_GCD_DET_PREST, SIM_GCD_DET_PREST, SIM_GCD_TARIF, SIM_GCD_DPREST_PTS, SIM_GCD_PTS, SIM_GCT_ADR_EN_CLAIR, FUS_SOUSCRIPTION, FUS_PRESTATION, SIM_GCD_CONTRAT, SIM_GCC_CLIENTS, SIM_GCD_PTS, SIM_GCD_CONSOMME, FUS_EXT_DOM_GCC_CLT_EMAIL, FUS_EXT_DOM_COMPTE_EMAIL</td>\n",
       "    </tr>\n",
       "    <tr>\n",
       "      <th>9</th>\n",
       "      <td>PLE</td>\n",
       "      <td>Select * FROM T1,T2 Where T1.ID=T2.FK_ID</td>\n",
       "      <td>T1</td>\n",
       "    </tr>\n",
       "  </tbody>\n",
       "</table>\n",
       "</div>"
      ],
      "text/plain": [
       "  projet  \\\n",
       "0    ATP   \n",
       "1    ATP   \n",
       "2    ATP   \n",
       "3    ATP   \n",
       "4    ATP   \n",
       "5    ATP   \n",
       "6    ATP   \n",
       "7    PLE   \n",
       "8    PLE   \n",
       "9    PLE   \n",
       "\n",
       "                                                                                                                                                                                                                                                                                                                                                                                                                                                                                                                                                                                                                                                                                                                                                                                                                                                                                                                                                                                                                                                                                                                                                                                                                                                                                                                                                                                                                                                                                                                                                                                                                                                                                                                                                                                                                                                                                                                                                                                                                                                                                                                                                                                                                                                                                                                                                                                                                                                                                                                                                                                                                                                                                                                                                                                                                                                                                                                                                                                                                                                                                                                                                                                                                                                                                                                                                                                                                                                                                                                                                                                                                                                                                                                                                                                                                                                                                                                                                                                                                                                                                                                                                                                                                                                                                                                                                                                                                                                                                                                                                                                                                                                                                                                                                                                                                                                                                                                                                                                                                                                                                                                                                                                                                                                                                                                                                                                                                                                                                                                                                                                                                                                                                                                                                                                                                                                                                                                                                                                                                                                                                                                                                                                                                                                                                                                                                                                                                                                                                                                                                                                                                                                                                                                                                                                                                                                                                                                                                                                                                                                                                                                                                                                                                                                                                                                                                            requete_sql  \\\n",
       "0                                                                                                                                                                                                                                                                                                                                                                                                                                                                                                                                                                                                                                                                                                                                                                                                                                                                                                                                                                                                                                                                                                                                                                                                                                                                                                                                                                                                                                                                                                                                                                                                                                                                                                                                                                                                                                                                                                                                                                                                                                                                                                                                                                                                                                                                                                                                                                                                                                                                                                                                                                                                                                                                                                                                                                                                                                                                                                                                                                                                                                                                                                                                                                                                                                                                                                                                                                                                                                                                                                                                                                                                                                                                                                                                                                                                                                                                                                                                                                                                                                                                                                                                                                                                                                                                                                                                                                                                                                                                                                                                                                                                                                                                                                                                                                                                                                                                                                                                                                                                                                                                                                                                                                                                                                                                                                                                                                                                                                                                                                                                                                                                                                                                                                                                                                                                                                                                                                                                                                                                                                                                                                                                                                                                                                                                                                                                                                                                                                                                                                                                                                                                                                                                                                                                                                                                                                                                                                                                                                                                                                                                                                                                                                                                                                                                                              select * from (select nom, adresse from Immeuble where id=1) as Koudalou   \n",
       "1                                                                                                                                                                                                                                                                                                                                                                                                                                                                                                                                                                                                                                                                                                                                                                                                                                                                                                                                                                                                                                                                                                                                                                                                                                                                                                                                                                                                                                                                                                                                                                                                                                                                                                                                                                                                                                                                                                                                                                                                                                                                                                                                                                                                                                                                                                                                                                                                                                                                                                                                                                                                                                                                                                                                                                                                                                                                                                                                                                                                                                                                                                                                                                                                                                                                                                                                                                                                                                                                                                                                                                                                                                                                                                                                                                                                                                                                                                                                                                                                                                                                                                                                                                                                                                                                                                                                                                                                                                                                                                                                                                                                                                                                                                                                                                                                                                                                                                                                                                                                                                                                                                                                                                                                                                                                                                                                                                                                                                                                                                                                                                                                                                                                                                                                                                                                                                                                                                                                                                                                                                                                                                                                                                                                                                                                                                                                                                                                                                                                                                                                                                                                                                                                                                                                                                                                                                                                                                                                                                                                                                                                                                                                                                                                                                                                                                                                                   SELECT * FROM Table   \n",
       "2                                                                                                                                                                                                                                                                                                                                                                                                                                                                                                                                                                                                                                                                                                                                                                                                                                                                                                                                                                                                                                                                                                                                                                                                                                                                                                                                                                                                                                                                                                                                                                                                                                                                                                                                                                                                                                                                                                                                                                                                                                                                                                                                                                                                                                                                                                                                                                                                                                                                                                                                                                                                                                                                                                                                                                                                                                                                                                                                                                                                                                                                                                                                                                                                                                                                                                                                                                                                                                                                                                                                                                                                                                                                                                                                                                                                                                                                                                                                                                                                                                                                                                                                                                                                                                                                                                                                                                                                                                                                                                                                                                                                                                                                                                                                                                                                                                                                                                                                                                                                                                                                                                                                                                                                                                                                                                                                                                                                                                                                                                                                                                                                                                                                                                                                                                                                                                                                                                                                                                                                                                                                                                                                                                                                                                                                                                                                                                                                                                                                                                                                                                                                                                                                                                                                                                                                                                                                                                                                                                                                                                                                                                                                                                                                                                  SELECT * FROM question WHERE q_id IN (SELECT r_fk_question_id FROM reponse WHERE r_date_ajout BETWEEN  2013-01-01  AND  2013-12-31 )   \n",
       "3                                                                                                                                                                                                                                                                                                                                                                                                                                                                                                                                                                                                                                                                                                                                                                                                                                                                                                                                                                                                                                                                                                                                                                                                                                                                                                                                                                                                                                                                                                                                                                                                                                                                                                                                                                                                                                                                                                                                                                                                                                                                                                                                                                                                                                                                                                                                                                                                                                                                                                                                                                                                                                                                                                                                                                                                                                                                                                                                                                                                                                                                                                                                                                                                                                                                                                                                                                                                                                                                                                                                                                                                                                                                                                                                                                                                                                                                                                                                                                                                                                                                                                                                                                                                                                                                                                                                                                                                                                                                                                                                                                                                                                                                                                                                                                                                                                                                                                                                                                                                                                                                                                                                                                                                                                                                                                                                                                                                                                                                                                                                                                                                                                                                                                                                                                                                                                                                                                                                                                                                                                                                                                                                                                                                                                                                                                                                                                                                                                                                                                                                                                                                                                                                                                                                                                                                                                                                                                                                                                                                                                                                                                                                                                                                                                      SELECT sum(a.Population)FROM travail.communes64 AS a WHERE EXISTS(SELECT * FROM travail.communes64 AS b WHERE b.Population > 10)   \n",
       "4                                                                                                                                                                                                                                                                                                                                                                                                                                                                                                                                                                                                                                                                                                                                                                                                                                                                                                                                                                                                                                                                                                                                                                                                                                                                                                                                                                                                                                                                                                                                                                                                                                                                                                                                                                                                                                                                                                                                                                                                                                                                                                                                                                                                                                                                                                                                                                                                                                                                                                                                                                                                                                                                                                                                                                                                                                                                                                                                                                                                                                                                                                                                                                                                                                                                                                                                                                                                                                                                                                                                                                                                                                                                                                                                                                                                                                                                                                                                                                                                                                                                                                                                                                                                                                                                                                                                                                                                                                                                                                                                                                                                                                                                                                                                                                                                                                                                                                                                                                                                                                                                                                                                                                                                                                                                                                                                                                                                                                                                                                                                                                                                                                                                                                                                                                                                                                                                                                                                                                                                                                                                                                                                                                                                                                                                                                                                                                                                                                                                                                                                                                                                                                                                                                                                                                                                                                                                                                                                                                                                                                                                                                                               SELECT timestamp, log_id, severity, json_payload, resource, labels FROM TABLE WHERE timestamp > TIMESTAMP_SUB(CURRENT_TIMESTAMP(), INTERVAL 1 HOUR) AND log_id = cloudaudit.googleapis.com/data_access ORDER BY timestamp ASC LIMIT 100   \n",
       "5                                                                                                                                                                                                                                                                                                                                                                                                                                                                                                                                                                                                                                                                                                                                                                                                                                                                                                                                                                                                                                                                                                                                                                                                                                                                                                                                                                                                                                                                                                                                                                                                                                                                                                                                                                                                                                                                                                                                                                                                                                                                                                                                                                                                                                                                                                                                                                                                                                                                                                                                                                                                                                                                                                                                                                                                                                                                                                                                                                                                                                                                                                                                                                                                                                                                                                                                                                                                                                                                                                                                                                                                                                                                                                                                                                                                                                                                                                                                                                                                                                                                                                                                                                                                                                                                                                                                                                                                                                                                                                                                                                                                                                                                                                                                                                                                                                                                                                                                                                                                                                                                                                                                                                                                                                                                                                                                                                                                                                                                                                                                                                                                                                                                                                                                                                                                                                                                                                                                                                                                                                                                                                                                                                                                                                                                                                                                                                                                                                                                                                                                                                                                                                                                                                                                                                                                                                                                                                                                                                                                                                                                               SELECT * FROM Orders WHERE CustomerID IN (SELECT CustomerID FROM Customers WHERE Country = 'USA' AND City IN (SELECT DISTINCT ShipCity FROM Shippers WHERE ShipperID IN (SELECT ShipperID FROM OrderDetails WHERE ProductID IN (SELECT ProductID FROM Products WHERE CategoryID = 1))))   \n",
       "6                                                                                                                                                                                                                                                                                                                                                                                                                                                                                                                                                                                                                                                                                                                                                                                                                                                                                                                                                                                                                                                                                                                                                                                                                                                                                                                                                                                                                                                                                                                                                                                                                                                                                                                                                                                                                                                                                                                                                                                                                                                                                                                                                                                                                                                                                                                                                                                                                                                                                                                                                                                                                                                                                                                                                                                                                                                                                                                                                                                                                                                                                                                                                                                                                                                                                                                                                                                                                                                                                                                                                                                                                                                                                                                                                                                                                                                                                                                                                                                                                                                                                                                                                                                                                                                                                                                                                                                                                                                                                                                                                                                                                                                                                                                                                                                                                                                                                                                                                                                                                                                                                                                                                                                                                                                                                                                                                                                                                                                                                                                                                                                                                                                                                                                                                                                                                                                                                                                                                                                                                                                                                                                                                                                                                                                                                                                                                                                                                                                                                                                                                                                                                                                                                                                                                                                                                                                 SELECT COUNT(count_table.mois) FROM(SELECT st.mois, st.pays, st.somme_transactions, stm.somme_transactions FROM (\\tSELECT EXTRACT(MONTH FROM t.date) AS mois, c.pays, SUM(t.montant) AS somme_transactions\\t\\tFROM transaction t\\tINNER JOIN city cON t.ville = c.villeGROUP BY mois, c.pays) stINNER JOIN somme_transactions_mois stm ON st.mois = stm.mois AND st.pays = stm.pays WHERE st.somme_transactions != stm.somme_transactions ORDER BY st.mois ASC, st.pays ASC) AS count_table GROUP BY count_table.mois   \n",
       "7   SELECT \\tTDI_D01 as TDI_D01, \\tTDI_D02 as TDI_D02, \\tTDI_D03 as TDI_D03, \\tTDI_D04 as TDI_D04, \\tTDI_D05 as TDI_D05, \\tTDI_D06 as TDI_D06, \\tTDI_D07 as TDI_D07, \\tnull as TDI_D08, \\tTDI_D09 as TDI_D09, \\tTDI_D10 as TDI_D10, \\tTDI_D11 as TDI_D11, \\tTDI_D12 as TDI_D12, \\tnull as TDI_D13, \\tnull as TDI_D14, \\tnull as TDI_D15, \\tnull AS TDI_D16, \\tnull AS TDI_D17, \\tnull AS TDI_D18, \\tnull AS TDI_D19, \\tnull AS TDI_D20, \\tnull AS TDI_D21, \\tnull AS TDI_D22, \\tnull AS TDI_D23, \\tnull AS TDI_D24, \\tnull AS TDI_D25, \\tnull AS TDI_D26, \\tnull AS TDI_D27, \\tnull AS TDI_D28, \\tnull AS TDI_D29, \\tnull AS TDI_D30, \\tTDI_I01 as TDI_I01, \\tTDI_I02 as TDI_I02, \\tTDI_I03 as TDI_I03, \\tTDI_I04 AS TDI_I04, \\tNULL AS TDI_I05, \\tNULL AS TDI_I06, \\tNULL AS TDI_I07, \\tNULL AS TDI_I08, \\tNULL AS TDI_I09, \\tNULL AS TDI_I10, \\tNULL AS TDI_I11, \\tNULL AS TDI_I12, \\tNULL AS TDI_I13, \\tNULL AS TDI_I14, \\tNULL AS TDI_I15, \\tNULL AS TDI_I16, \\tNULL AS TDI_I17, \\tNULL AS TDI_I18, \\tNULL AS TDI_I19, \\tNULL AS TDI_I20 FROM (  SELECT     to_char(CTX.CONT_DATE_CREATION,'yyyyMMdd') AS TDI_D01,     41 as TDI_D02,     CASE WHEN (SUM(CASE WHEN (NVL(THT.ADRC_COM_CONCESS,'N') = 'O') THEN 1 ELSE 0 END)>=1 AND SUM(CASE WHEN (NVL(THT.ADRC_COM_CONCESS,'N') <> 'O') THEN 1 ELSE 0 END)=0) THEN 'T' ELSE         (CASE WHEN (SUM(CASE WHEN (NVL(THT.ADRC_COM_CONCESS,'N') = 'O') THEN 1 ELSE 0 END)=0 AND SUM(CASE WHEN (NVL(THT.ADRC_COM_CONCESS,'N') <> 'O') THEN 1 ELSE 0 END)>=1) THEN 'HT' ELSE            (CASE WHEN (SUM(CASE WHEN (NVL(THT.ADRC_COM_CONCESS,'N') = 'O') THEN 1 ELSE 0 END)>=1 AND SUM(CASE WHEN (NVL(THT.ADRC_COM_CONCESS,'N') <> 'O') THEN 1 ELSE 0 END)>=1) THEN 'MIXTE' ELSE \\t\\t\\t'NRE' END) END) END AS  TDI_D03,      NVL(TO_CHAR(ACT.CLI_CHRONO),'NRE') AS TDI_D04,      'C-'||TO_CHAR(CTX.CONT_CHRONO_CONTRAT) as TDI_D05,      NVL(TO_CHAR(SOUS.SOUS_ID), 'NRE') as TDI_D06,      NVL(TO_CHAR(EDC.CPT_ID), 'NRE') as TDI_D07,      'NRE' AS TDI_D09,      NVL(UPPER(ACT.CLI_E_MAIL),'NRE') AS TDI_D10,      NVL(TO_CHAR(CSO.CONSO_CONSO_ANN),'NRE') as TDI_D11,      CTX.CONT_CHRONO_DOSSIER AS TDI_D12,     1 AS TDI_I01,     CASE WHEN CTX.CONT_ETAT_DOSSIER  =  'ENCRS' THEN 1 ELSE 0 END AS TDI_I02,     COUNT(DISTINCT ACT.CLI_CHRONO) AS TDI_I03, \\tCASE WHEN ACT.CLI_CHRONO is not null  THEN 1 ELSE 0 END AS TDI_I04      FROM FUS_CONTENTIEUX CTX     LEFT JOIN SIM_GCC_CLIENTS CL ON (CTX.CONT_CHRONO_CLIENT=CL.CLI_CHRONO)      \\t-- Calcul Client actif     LEFT JOIN (             select                  c.con_chrono,  \\t\\t\\t\\tCL.CLI_CHRONO,  \\t\\t\\t\\tECTR_CODE_ETAT,  \\t\\t\\t\\tactif,  \\t\\t\\t\\tdvl.date_debut,  \\t\\t\\t\\tdvl.date_fin, \\t\\t\\t\\tCLI_E_MAIL             from SIM_GCD_CONTRAT C                 INNER JOIN DVL_GCD_ETATS_CONTRAT DVL ON (C.CON_CHRONO=DVL.CON_CHRONO)                 INNER JOIN SIM_GCC_CLIENTS CL ON (CL.CLI_CHRONO=C.CLI_CHRONO AND (CLI_FAMILLE='DOM' OR CLI_CATEGORIE='NDOM'))             where DVL.ECTR_CODE_ETAT IN ('A', 'F') AND CL.CLI_CHRONO IS NOT NULL \\t\\t\\t) ACT ON (ACT.CLI_CHRONO=CL.CLI_CHRONO AND CTX.CONT_DATE_CREATION BETWEEN ACT.DATE_DEBUT AND ACT.DATE_FIN)      \\tLEFT JOIN SIM_GCT_ADR_EN_CLAIR A ON (CL.CLI_ADR_CHRONO=A.ADRC_CHRONO)     LEFT JOIN SIM_GCD_CONTRAT C ON (CONT_CHRONO_CONTRAT=C.CON_CHRONO) \\t \\t-- Récupération du contrat associé \\t     LEFT JOIN ( \\t\\t\\tSELECT  \\t\\t\\t\\tSIM_GCD_CONTRAT.CON_CHRONO AS CON_CHRONO,  \\t\\t\\t\\tMAX(SIM_GCD_COND_ADMIN.CADM_TYPE_PAIEMENT) AS TYPE_PAIEMENT \\t\\t\\tFROM SIM_GCD_CONTRAT \\t\\t\\t\\tINNER JOIN SIM_GCD_ENT_PREST ON (SIM_GCD_CONTRAT.CON_CHRONO=SIM_GCD_ENT_PREST.CON_CHRONO) \\t\\t\\t\\tINNER JOIN SIM_GCD_COND_ADMIN ON (SIM_GCD_COND_ADMIN.CADM_CHRONO=SIM_GCD_ENT_PREST.CADM_CHRONO) \\t\\t\\tGROUP BY SIM_GCD_CONTRAT.CON_CHRONO \\t\\t\\t) TP ON (C.CON_CHRONO = TP.CON_CHRONO) \\t\\t\\t     LEFT JOIN SIM_GCC_COMMUNES CO ON (CO.COM_CODE = A.ADRC_COM_CODE)     LEFT JOIN ODS_COMMUNES OC ON (OC.CODE_INSEE = nvl(CO.COM_CODE_INSEE,'NRE'))     LEFT JOIN FUS_KPI_CONTENTIEUX EK ON (EK.CONT_CHRONO_DOSSIER = CTX.CONT_CHRONO_DOSSIER)      \\tLEFT JOIN ( \\t\\t\\t\\tSELECT MAX(EPT_CHRONO) AS EPT_CHRONO,  \\t\\t\\t\\t\\t\\tEPT_NATURE_PREST AS EPT_NATURE_PREST,  \\t\\t\\t\\t\\t\\tCON_CHRONO AS CON_CHRONO \\t\\t\\t\\tFROM SIM_GCD_ENT_PREST \\t\\t\\t\\tGROUP BY EPT_NATURE_PREST, CON_CHRONO \\t\\t\\t\\t) EP ON (EP.CON_CHRONO=C.CON_CHRONO AND EP.EPT_NATURE_PREST = 'GAZ NATUREL') \\t \\tLEFT JOIN ( \\t\\t\\t\\tSELECT MAX(AVE_CHRONO) AS AVE_CHRONO,  \\t\\t\\t\\t\\tEPT_CHRONO AS EPT_CHRONO \\t\\t\\t\\tFROM SIM_GCD_DET_PREST \\t\\t\\t\\tGROUP BY EPT_CHRONO \\t\\t\\t\\t) AV ON (AV.EPT_CHRONO=EP.EPT_CHRONO)       \\tLEFT JOIN SIM_GCD_DET_PREST DP ON (DP.EPT_CHRONO=AV.EPT_CHRONO AND DP.AVE_CHRONO=AV.AVE_CHRONO AND (CONT_DATE_CREATION BETWEEN DP.DPT_DATE_DEBUT AND NVL(DP.DPT_DATE_FIN,to_date('31122045','ddMMyyyy'))))     LEFT JOIN SIM_GCD_TARIF TA ON (TA.TAR_CHRONO= DP.TAR_CHRONO)     LEFT JOIN SIM_GCD_DPREST_PTS DPS ON (DPS.DPT_CHRONO=DP.DPT_CHRONO)     LEFT JOIN SIM_GCD_PTS PT ON (PT.PTS_CHRONO=DPS.PTS_CHRONO)     LEFT JOIN SIM_GCT_ADR_EN_CLAIR THT ON (THT.ADRC_CHRONO=PT.PTS_ADR_CHRONO and THT.ADRC_TYP=PT.PTS_ADR_TYPE)  \\t-- Nouvelle Formule jointure Souscription \\t \\tLEFT JOIN ( \\t\\tSelect SOUS_ID, \\t\\t\\t\\tSOUS_CLI_CHRONO_CREE, \\t\\t\\t\\tSOUS_CON_CHRONO_CREE, \\t\\t\\t\\tRANK () OVER(PARTITION BY SOUS_CLI_CHRONO_CREE, SOUS_CON_CHRONO_CREE \\t\\t\\t\\tORDER BY SOUS_DATE_CREATION DESC) as RANK_SOUS \\t\\t\\tFROM FUS_SOUSCRIPTION \\t\\t\\tWHERE SOUS_CLI_CHRONO_CREE is not null and SOUS_CON_CHRONO_CREE is not null) SOUS ON (SOUS.SOUS_CLI_CHRONO_CREE=ACT.CLI_CHRONO and SOUS_CON_CHRONO_CREE=CTX.CONT_CHRONO_CONTRAT And RANK_SOUS=1) \\t\\t\\t   --- Extension Consommation Annuelle    \\tLEFT JOIN (SELECT  \\t\\t\\tCL.CLI_CHRONO, \\t\\t\\tC.CON_CHRONO, \\t\\t\\tSUM(CSO.CONSO_CONSO_ANN) AS CONSO_CONSO_ANN \\t\\tFROM FUS_PRESTATION \\t\\t\\tINNER JOIN SIM_GCD_CONTRAT C ON (PRESTA_CON_CHRONO=C.CON_CHRONO) \\t\\t\\tINNER JOIN SIM_GCC_CLIENTS CL ON (CL.CLI_CHRONO=C.CLI_CHRONO) \\t\\t\\tINNER JOIN SIM_GCD_PTS PTS ON (FUS_PRESTATION.PRESTA_PTS_CHRONO=PTS.PTS_CHRONO) \\t\\t\\tLEFT JOIN SIM_GCD_CONSOMME CSO ON (CSO.CLI_CHRONO = CL.CLI_CHRONO AND CSO.PTS_CHRONO = PTS.PTS_CHRONO) \\t\\tWHERE (CL.CLI_FAMILLE='DOM' OR CL.CLI_CATEGORIE='NDOM') and  \\t\\t\\tPRESTA_TAR_CHRONO is not null and \\t\\t\\tsysdate between DPT_DATE_DEBUT and NVL(DPT_DATE_FIN,TO_DATE('29990101','yyyyMMdd')) \\t\\tGROUP BY CL.CLI_CHRONO,C.CON_CHRONO) CSO ON (CSO.CLI_CHRONO=ACT.CLI_CHRONO and CSO.CON_CHRONO=CTX.CONT_CHRONO_CONTRAT) \\t\\t   --- Récupération Extranet DOM      LEFT JOIN FUS_EXT_DOM_GCC_CLT_EMAIL EDCL ON (EDCL.CLI_CHRONO=ACT.CLI_CHRONO)   LEFT JOIN FUS_EXT_DOM_COMPTE_EMAIL  EDC ON (EDCL.CPT_EMAIL=EDC.CPT_EMAIL)  WHERE (CL.CLI_FAMILLE='DOM' OR CL.CLI_CATEGORIE='NDOM')  GROUP BY       NVL(TO_CHAR(ACT.CLI_CHRONO),'NRE'),      to_char(CTX.CONT_DATE_CREATION,'yyyyMMdd'),      'C-'||TO_CHAR(CONT_CHRONO_CONTRAT),      CTX.CONT_CHRONO_DOSSIER,      CASE WHEN CTX.CONT_ETAT_DOSSIER  =  'ENCRS' THEN 1 ELSE 0 END, \\t NVL(UPPER(ACT.CLI_E_MAIL),'NRE'), \\t NVL(TO_CHAR(CSO.CONSO_CONSO_ANN),'NRE'), \\t NVL(TO_CHAR(SOUS.SOUS_ID), 'NRE'), \\t NVL(TO_CHAR(EDC.CPT_ID), 'NRE'), \\t CASE WHEN ACT.CLI_CHRONO is not null  THEN 1 ELSE 0 END ) EKI_MKT_FACT_CONTENTIEUX   \n",
       "8                                                                                                                                                                                  SELECT \\tTDI_D01 as TDI_D01, \\tTDI_D02 as TDI_D02, \\tTDI_D03 as TDI_D03, \\tTDI_D04 as TDI_D04, \\tTDI_D05 as TDI_D05, \\tTDI_D06 as TDI_D06, \\tTDI_D07 as TDI_D07, \\tnull as TDI_D08, \\tTDI_D09 as TDI_D09, \\tTDI_D10 as TDI_D10, \\tTDI_D11 as TDI_D11, \\tTDI_D12 as TDI_D12, \\tnull as TDI_D13, \\tnull as TDI_D14, \\tnull as TDI_D15, \\tnull AS TDI_D16, \\tnull AS TDI_D17, \\tnull AS TDI_D18, \\tnull AS TDI_D19, \\tnull AS TDI_D20, \\tnull AS TDI_D21, \\tnull AS TDI_D22, \\tnull AS TDI_D23, \\tnull AS TDI_D24, \\tnull AS TDI_D25, \\tnull AS TDI_D26, \\tnull AS TDI_D27, \\tnull AS TDI_D28, \\tnull AS TDI_D29, \\tnull AS TDI_D30, \\tTDI_I01 as TDI_I01, \\tTDI_I02 as TDI_I02, \\tTDI_I03 as TDI_I03, \\tTDI_I04 AS TDI_I04, \\tNULL AS TDI_I05, \\tNULL AS TDI_I06, \\tNULL AS TDI_I07, \\tNULL AS TDI_I08, \\tNULL AS TDI_I09, \\tNULL AS TDI_I10, \\tNULL AS TDI_I11, \\tNULL AS TDI_I12, \\tNULL AS TDI_I13, \\tNULL AS TDI_I14, \\tNULL AS TDI_I15, \\tNULL AS TDI_I16, \\tNULL AS TDI_I17, \\tNULL AS TDI_I18, \\tNULL AS TDI_I19, \\tNULL AS TDI_I20 FROM (  SELECT     to_char(CTX.CONT_DATE_CREATION,'yyyyMMdd') AS TDI_D01,     41 as TDI_D02,     CASE WHEN (SUM(CASE WHEN (NVL(THT.ADRC_COM_CONCESS,'N') = 'O') THEN 1 ELSE 0 END)>=1 AND SUM(CASE WHEN (NVL(THT.ADRC_COM_CONCESS,'N') <> 'O') THEN 1 ELSE 0 END)=0) THEN 'T' ELSE         (CASE WHEN (SUM(CASE WHEN (NVL(THT.ADRC_COM_CONCESS,'N') = 'O') THEN 1 ELSE 0 END)=0 AND SUM(CASE WHEN (NVL(THT.ADRC_COM_CONCESS,'N') <> 'O') THEN 1 ELSE 0 END)>=1) THEN 'HT' ELSE            (CASE WHEN (SUM(CASE WHEN (NVL(THT.ADRC_COM_CONCESS,'N') = 'O') THEN 1 ELSE 0 END)>=1 AND SUM(CASE WHEN (NVL(THT.ADRC_COM_CONCESS,'N') <> 'O') THEN 1 ELSE 0 END)>=1) THEN 'MIXTE' ELSE \\t\\t\\t'NRE' END) END) END AS  TDI_D03,      NVL(TO_CHAR(ACT.CLI_CHRONO),'NRE') AS TDI_D04,      'C-'||TO_CHAR(CTX.CONT_CHRONO_CONTRAT) as TDI_D05,      NVL(TO_CHAR(SOUS.SOUS_ID), 'NRE') as TDI_D06,      NVL(TO_CHAR(EDC.CPT_ID), 'NRE') as TDI_D07,      'NRE' AS TDI_D09,      NVL(UPPER(ACT.CLI_E_MAIL),'NRE') AS TDI_D10,      NVL(TO_CHAR(CSO.CONSO_CONSO_ANN),'NRE') as TDI_D11,      CTX.CONT_CHRONO_DOSSIER AS TDI_D12,     1 AS TDI_I01,     CASE WHEN CTX.CONT_ETAT_DOSSIER  =  'ENCRS' THEN 1 ELSE 0 END AS TDI_I02,     COUNT(DISTINCT ACT.CLI_CHRONO) AS TDI_I03, \\tCASE WHEN ACT.CLI_CHRONO is not null  THEN 1 ELSE 0 END AS TDI_I04      FROM FUS_CONTENTIEUX CTX     LEFT JOIN SIM_GCC_CLIENTS CL ON (CTX.CONT_CHRONO_CLIENT=CL.CLI_CHRONO)           LEFT JOIN (             select                  c.con_chrono,  \\t\\t\\t\\tCL.CLI_CHRONO,  \\t\\t\\t\\tECTR_CODE_ETAT,  \\t\\t\\t\\tactif,  \\t\\t\\t\\tdvl.date_debut,  \\t\\t\\t\\tdvl.date_fin, \\t\\t\\t\\tCLI_E_MAIL             from SIM_GCD_CONTRAT C                 INNER JOIN DVL_GCD_ETATS_CONTRAT DVL ON (C.CON_CHRONO=DVL.CON_CHRONO)                 INNER JOIN SIM_GCC_CLIENTS CL ON (CL.CLI_CHRONO=C.CLI_CHRONO AND (CLI_FAMILLE='DOM' OR CLI_CATEGORIE='NDOM'))             where DVL.ECTR_CODE_ETAT IN ('A', 'F') AND CL.CLI_CHRONO IS NOT NULL \\t\\t\\t) ACT ON (ACT.CLI_CHRONO=CL.CLI_CHRONO AND CTX.CONT_DATE_CREATION BETWEEN ACT.DATE_DEBUT AND ACT.DATE_FIN)      \\tLEFT JOIN SIM_GCT_ADR_EN_CLAIR A ON (CL.CLI_ADR_CHRONO=A.ADRC_CHRONO)     LEFT JOIN SIM_GCD_CONTRAT C ON (CONT_CHRONO_CONTRAT=C.CON_CHRONO) \\t \\t     LEFT JOIN ( \\t\\t\\tSELECT  \\t\\t\\t\\tSIM_GCD_CONTRAT.CON_CHRONO AS CON_CHRONO,  \\t\\t\\t\\tMAX(SIM_GCD_COND_ADMIN.CADM_TYPE_PAIEMENT) AS TYPE_PAIEMENT \\t\\t\\tFROM SIM_GCD_CONTRAT \\t\\t\\t\\tINNER JOIN SIM_GCD_ENT_PREST ON (SIM_GCD_CONTRAT.CON_CHRONO=SIM_GCD_ENT_PREST.CON_CHRONO) \\t\\t\\t\\tINNER JOIN SIM_GCD_COND_ADMIN ON (SIM_GCD_COND_ADMIN.CADM_CHRONO=SIM_GCD_ENT_PREST.CADM_CHRONO) \\t\\t\\tGROUP BY SIM_GCD_CONTRAT.CON_CHRONO \\t\\t\\t) TP ON (C.CON_CHRONO = TP.CON_CHRONO) \\t\\t\\t     LEFT JOIN SIM_GCC_COMMUNES CO ON (CO.COM_CODE = A.ADRC_COM_CODE)     LEFT JOIN ODS_COMMUNES OC ON (OC.CODE_INSEE = nvl(CO.COM_CODE_INSEE,'NRE'))     LEFT JOIN FUS_KPI_CONTENTIEUX EK ON (EK.CONT_CHRONO_DOSSIER = CTX.CONT_CHRONO_DOSSIER)      \\tLEFT JOIN ( \\t\\t\\t\\tSELECT MAX(EPT_CHRONO) AS EPT_CHRONO,  \\t\\t\\t\\t\\t\\tEPT_NATURE_PREST AS EPT_NATURE_PREST,  \\t\\t\\t\\t\\t\\tCON_CHRONO AS CON_CHRONO \\t\\t\\t\\tFROM SIM_GCD_ENT_PREST \\t\\t\\t\\tGROUP BY EPT_NATURE_PREST, CON_CHRONO \\t\\t\\t\\t) EP ON (EP.CON_CHRONO=C.CON_CHRONO AND EP.EPT_NATURE_PREST = 'GAZ NATUREL') \\t \\tLEFT JOIN ( \\t\\t\\t\\tSELECT MAX(AVE_CHRONO) AS AVE_CHRONO,  \\t\\t\\t\\t\\tEPT_CHRONO AS EPT_CHRONO \\t\\t\\t\\tFROM SIM_GCD_DET_PREST \\t\\t\\t\\tGROUP BY EPT_CHRONO \\t\\t\\t\\t) AV ON (AV.EPT_CHRONO=EP.EPT_CHRONO)       \\tLEFT JOIN SIM_GCD_DET_PREST DP ON (DP.EPT_CHRONO=AV.EPT_CHRONO AND DP.AVE_CHRONO=AV.AVE_CHRONO AND (CONT_DATE_CREATION BETWEEN DP.DPT_DATE_DEBUT AND NVL(DP.DPT_DATE_FIN,to_date('31122045','ddMMyyyy'))))     LEFT JOIN SIM_GCD_TARIF TA ON (TA.TAR_CHRONO= DP.TAR_CHRONO)     LEFT JOIN SIM_GCD_DPREST_PTS DPS ON (DPS.DPT_CHRONO=DP.DPT_CHRONO)     LEFT JOIN SIM_GCD_PTS PT ON (PT.PTS_CHRONO=DPS.PTS_CHRONO)     LEFT JOIN SIM_GCT_ADR_EN_CLAIR THT ON (THT.ADRC_CHRONO=PT.PTS_ADR_CHRONO and THT.ADRC_TYP=PT.PTS_ADR_TYPE)  \\t \\tLEFT JOIN ( \\t\\tSelect SOUS_ID, \\t\\t\\t\\tSOUS_CLI_CHRONO_CREE, \\t\\t\\t\\tSOUS_CON_CHRONO_CREE, \\t\\t\\t\\tRANK () OVER(PARTITION BY SOUS_CLI_CHRONO_CREE, SOUS_CON_CHRONO_CREE \\t\\t\\t\\tORDER BY SOUS_DATE_CREATION DESC) as RANK_SOUS \\t\\t\\tFROM FUS_SOUSCRIPTION \\t\\t\\tWHERE SOUS_CLI_CHRONO_CREE is not null and SOUS_CON_CHRONO_CREE is not null) SOUS ON (SOUS.SOUS_CLI_CHRONO_CREE=ACT.CLI_CHRONO and SOUS_CON_CHRONO_CREE=CTX.CONT_CHRONO_CONTRAT And RANK_SOUS=1) \\t\\t\\t    \\tLEFT JOIN (SELECT  \\t\\t\\tCL.CLI_CHRONO, \\t\\t\\tC.CON_CHRONO, \\t\\t\\tSUM(CSO.CONSO_CONSO_ANN) AS CONSO_CONSO_ANN \\t\\tFROM FUS_PRESTATION \\t\\t\\tINNER JOIN SIM_GCD_CONTRAT C ON (PRESTA_CON_CHRONO=C.CON_CHRONO) \\t\\t\\tINNER JOIN SIM_GCC_CLIENTS CL ON (CL.CLI_CHRONO=C.CLI_CHRONO) \\t\\t\\tINNER JOIN SIM_GCD_PTS PTS ON (FUS_PRESTATION.PRESTA_PTS_CHRONO=PTS.PTS_CHRONO) \\t\\t\\tLEFT JOIN SIM_GCD_CONSOMME CSO ON (CSO.CLI_CHRONO = CL.CLI_CHRONO AND CSO.PTS_CHRONO = PTS.PTS_CHRONO) \\t\\tWHERE (CL.CLI_FAMILLE='DOM' OR CL.CLI_CATEGORIE='NDOM') and  \\t\\t\\tPRESTA_TAR_CHRONO is not null and \\t\\t\\tsysdate between DPT_DATE_DEBUT and NVL(DPT_DATE_FIN,TO_DATE('29990101','yyyyMMdd')) \\t\\tGROUP BY CL.CLI_CHRONO,C.CON_CHRONO) CSO ON (CSO.CLI_CHRONO=ACT.CLI_CHRONO and CSO.CON_CHRONO=CTX.CONT_CHRONO_CONTRAT) \\t\\t      LEFT JOIN FUS_EXT_DOM_GCC_CLT_EMAIL EDCL ON (EDCL.CLI_CHRONO=ACT.CLI_CHRONO)   LEFT JOIN FUS_EXT_DOM_COMPTE_EMAIL  EDC ON (EDCL.CPT_EMAIL=EDC.CPT_EMAIL)  WHERE (CL.CLI_FAMILLE='DOM' OR CL.CLI_CATEGORIE='NDOM')  GROUP BY       NVL(TO_CHAR(ACT.CLI_CHRONO),'NRE'),      to_char(CTX.CONT_DATE_CREATION,'yyyyMMdd'),      'C-'||TO_CHAR(CONT_CHRONO_CONTRAT),      CTX.CONT_CHRONO_DOSSIER,      CASE WHEN CTX.CONT_ETAT_DOSSIER  =  'ENCRS' THEN 1 ELSE 0 END, \\t NVL(UPPER(ACT.CLI_E_MAIL),'NRE'), \\t NVL(TO_CHAR(CSO.CONSO_CONSO_ANN),'NRE'), \\t NVL(TO_CHAR(SOUS.SOUS_ID), 'NRE'), \\t NVL(TO_CHAR(EDC.CPT_ID), 'NRE'), \\t CASE WHEN ACT.CLI_CHRONO is not null  THEN 1 ELSE 0 END ) EKI_MKT_FACT_CONTENTIEUX   \n",
       "9                                                                                                                                                                                                                                                                                                                                                                                                                                                                                                                                                                                                                                                                                                                                                                                                                                                                                                                                                                                                                                                                                                                                                                                                                                                                                                                                                                                                                                                                                                                                                                                                                                                                                                                                                                                                                                                                                                                                                                                                                                                                                                                                                                                                                                                                                                                                                                                                                                                                                                                                                                                                                                                                                                                                                                                                                                                                                                                                                                                                                                                                                                                                                                                                                                                                                                                                                                                                                                                                                                                                                                                                                                                                                                                                                                                                                                                                                                                                                                                                                                                                                                                                                                                                                                                                                                                                                                                                                                                                                                                                                                                                                                                                                                                                                                                                                                                                                                                                                                                                                                                                                                                                                                                                                                                                                                                                                                                                                                                                                                                                                                                                                                                                                                                                                                                                                                                                                                                                                                                                                                                                                                                                                                                                                                                                                                                                                                                                                                                                                                                                                                                                                                                                                                                                                                                                                                                                                                                                                                                                                                                                                                                                                                                                                                                                                                                              Select * FROM T1,T2 Where T1.ID=T2.FK_ID   \n",
       "\n",
       "                                                                                                                                                                                                                                                                                                                                                                                                                                                                                                                                  table  \n",
       "0                                                                                                                                                                                                                                                                                                                                                                                                                                                                                                                              Immeuble  \n",
       "1                                                                                                                                                                                                                                                                                                                                                                                                                                                                                                                                 Table  \n",
       "2                                                                                                                                                                                                                                                                                                                                                                                                                                                                                                                     question, reponse  \n",
       "3                                                                                                                                                                                                                                                                                                                                                                                                                                                                                                                      travail, travail  \n",
       "4                                                                                                                                                                                                                                                                                                                                                                                                                                                                                                                                 TABLE  \n",
       "5                                                                                                                                                                                                                                                                                                                                                                                                                                                                                   Orders, Customers, Shippers, OrderDetails, Products  \n",
       "6                                                                                                                                                                                                                                                                                                                                                                                                                                                                                         t, transaction, city, somme_transactions_mois  \n",
       "7  FUS_CONTENTIEUX, SIM_GCC_CLIENTS, SIM_GCD_CONTRAT, DVL_GCD_ETATS_CONTRAT, SIM_GCC_CLIENTS, SIM_GCT_ADR_EN_CLAIR, SIM_GCD_CONTRAT, SIM_GCD_CONTRAT, SIM_GCD_ENT_PREST, SIM_GCD_COND_ADMIN, SIM_GCC_COMMUNES, ODS_COMMUNES, FUS_KPI_CONTENTIEUX, SIM_GCD_ENT_PREST, SIM_GCD_DET_PREST, SIM_GCD_DET_PREST, SIM_GCD_TARIF, SIM_GCD_DPREST_PTS, SIM_GCD_PTS, SIM_GCT_ADR_EN_CLAIR, FUS_SOUSCRIPTION, FUS_PRESTATION, SIM_GCD_CONTRAT, SIM_GCC_CLIENTS, SIM_GCD_PTS, SIM_GCD_CONSOMME, FUS_EXT_DOM_GCC_CLT_EMAIL, FUS_EXT_DOM_COMPTE_EMAIL  \n",
       "8  FUS_CONTENTIEUX, SIM_GCC_CLIENTS, SIM_GCD_CONTRAT, DVL_GCD_ETATS_CONTRAT, SIM_GCC_CLIENTS, SIM_GCT_ADR_EN_CLAIR, SIM_GCD_CONTRAT, SIM_GCD_CONTRAT, SIM_GCD_ENT_PREST, SIM_GCD_COND_ADMIN, SIM_GCC_COMMUNES, ODS_COMMUNES, FUS_KPI_CONTENTIEUX, SIM_GCD_ENT_PREST, SIM_GCD_DET_PREST, SIM_GCD_DET_PREST, SIM_GCD_TARIF, SIM_GCD_DPREST_PTS, SIM_GCD_PTS, SIM_GCT_ADR_EN_CLAIR, FUS_SOUSCRIPTION, FUS_PRESTATION, SIM_GCD_CONTRAT, SIM_GCC_CLIENTS, SIM_GCD_PTS, SIM_GCD_CONSOMME, FUS_EXT_DOM_GCC_CLT_EMAIL, FUS_EXT_DOM_COMPTE_EMAIL  \n",
       "9                                                                                                                                                                                                                                                                                                                                                                                                                                                                                                                                    T1  "
      ]
     },
     "execution_count": 16,
     "metadata": {},
     "output_type": "execute_result"
    }
   ],
   "source": [
    "def extraire_table(sql_query):\n",
    "    # Expression régulière pour extraire les noms de table\n",
    "    pattern = r'\\b(?:FROM|JOIN)\\s+(\\w+)\\b'\n",
    "\n",
    "    # Recherche des correspondances dans la requête SQL\n",
    "    table = re.findall(pattern, sql_query, re.IGNORECASE)\n",
    "    return table \n",
    "\n",
    "# Appliquer la fonction personnalisée à chaque ligne de la colonne 'requete_sql'\n",
    "df1['table'] = df1['requete_sql'].apply(extraire_table)\n",
    "\n",
    "# S'assurer que la colonne 'table' est de type chaîne\n",
    "df1['table'] = df1['table'].astype(str)\n",
    "\n",
    "# Supprimer les crochets de la colonne 'table'\n",
    "df1['table']=df1['table'].str.replace('[', '').str.replace(']', '')\n",
    "\n",
    "# Supprimer tous les guillemets simples de la colonne 'table'\n",
    "df1['table'] = df1['table'].str.replace('\\'', '')\n",
    "\n",
    "# Afficher le DataFrame résultant\n",
    "df1.head(10)"
   ]
  },
  {
   "cell_type": "code",
   "execution_count": 17,
   "metadata": {},
   "outputs": [],
   "source": [
    "df.to_csv(\"table_sql.csv\")\n",
    "df1.to_csv(\"table_sql1.csv\")"
   ]
  },
  {
   "cell_type": "code",
   "execution_count": 18,
   "metadata": {},
   "outputs": [
    {
     "ename": "FileNotFoundError",
     "evalue": "[Errno 2] No such file or directory: 'out.csv'",
     "output_type": "error",
     "traceback": [
      "\u001b[1;31m---------------------------------------------------------------------------\u001b[0m",
      "\u001b[1;31mFileNotFoundError\u001b[0m                         Traceback (most recent call last)",
      "\u001b[1;32mc:\\Code\\Parser_sql\\test_parsing.ipynb Cellule 17\u001b[0m line \u001b[0;36m4\n\u001b[0;32m      <a href='vscode-notebook-cell:/c%3A/Code/Parser_sql/test_parsing.ipynb#X21sZmlsZQ%3D%3D?line=0'>1</a>\u001b[0m \u001b[39m#test avec une extraction depuis Talend de la table job_sql_table\u001b[39;00m\n\u001b[0;32m      <a href='vscode-notebook-cell:/c%3A/Code/Parser_sql/test_parsing.ipynb#X21sZmlsZQ%3D%3D?line=1'>2</a>\u001b[0m \u001b[39m#erreur car les requetes se mettent sur plusieurs lignes...\u001b[39;00m\n\u001b[1;32m----> <a href='vscode-notebook-cell:/c%3A/Code/Parser_sql/test_parsing.ipynb#X21sZmlsZQ%3D%3D?line=3'>4</a>\u001b[0m df2\u001b[39m=\u001b[39mpd\u001b[39m.\u001b[39mread_csv(\u001b[39m\"\u001b[39m\u001b[39mout.csv\u001b[39m\u001b[39m\"\u001b[39m, sep\u001b[39m=\u001b[39m(\u001b[39m\"\u001b[39m\u001b[39m,\u001b[39m\u001b[39m\"\u001b[39m))\n\u001b[0;32m      <a href='vscode-notebook-cell:/c%3A/Code/Parser_sql/test_parsing.ipynb#X21sZmlsZQ%3D%3D?line=4'>5</a>\u001b[0m df2\u001b[39m.\u001b[39mhead()\n",
      "File \u001b[1;32mc:\\Python\\Lib\\site-packages\\pandas\\io\\parsers\\readers.py:912\u001b[0m, in \u001b[0;36mread_csv\u001b[1;34m(filepath_or_buffer, sep, delimiter, header, names, index_col, usecols, dtype, engine, converters, true_values, false_values, skipinitialspace, skiprows, skipfooter, nrows, na_values, keep_default_na, na_filter, verbose, skip_blank_lines, parse_dates, infer_datetime_format, keep_date_col, date_parser, date_format, dayfirst, cache_dates, iterator, chunksize, compression, thousands, decimal, lineterminator, quotechar, quoting, doublequote, escapechar, comment, encoding, encoding_errors, dialect, on_bad_lines, delim_whitespace, low_memory, memory_map, float_precision, storage_options, dtype_backend)\u001b[0m\n\u001b[0;32m    899\u001b[0m kwds_defaults \u001b[39m=\u001b[39m _refine_defaults_read(\n\u001b[0;32m    900\u001b[0m     dialect,\n\u001b[0;32m    901\u001b[0m     delimiter,\n\u001b[1;32m   (...)\u001b[0m\n\u001b[0;32m    908\u001b[0m     dtype_backend\u001b[39m=\u001b[39mdtype_backend,\n\u001b[0;32m    909\u001b[0m )\n\u001b[0;32m    910\u001b[0m kwds\u001b[39m.\u001b[39mupdate(kwds_defaults)\n\u001b[1;32m--> 912\u001b[0m \u001b[39mreturn\u001b[39;00m _read(filepath_or_buffer, kwds)\n",
      "File \u001b[1;32mc:\\Python\\Lib\\site-packages\\pandas\\io\\parsers\\readers.py:577\u001b[0m, in \u001b[0;36m_read\u001b[1;34m(filepath_or_buffer, kwds)\u001b[0m\n\u001b[0;32m    574\u001b[0m _validate_names(kwds\u001b[39m.\u001b[39mget(\u001b[39m\"\u001b[39m\u001b[39mnames\u001b[39m\u001b[39m\"\u001b[39m, \u001b[39mNone\u001b[39;00m))\n\u001b[0;32m    576\u001b[0m \u001b[39m# Create the parser.\u001b[39;00m\n\u001b[1;32m--> 577\u001b[0m parser \u001b[39m=\u001b[39m TextFileReader(filepath_or_buffer, \u001b[39m*\u001b[39m\u001b[39m*\u001b[39mkwds)\n\u001b[0;32m    579\u001b[0m \u001b[39mif\u001b[39;00m chunksize \u001b[39mor\u001b[39;00m iterator:\n\u001b[0;32m    580\u001b[0m     \u001b[39mreturn\u001b[39;00m parser\n",
      "File \u001b[1;32mc:\\Python\\Lib\\site-packages\\pandas\\io\\parsers\\readers.py:1407\u001b[0m, in \u001b[0;36mTextFileReader.__init__\u001b[1;34m(self, f, engine, **kwds)\u001b[0m\n\u001b[0;32m   1404\u001b[0m     \u001b[39mself\u001b[39m\u001b[39m.\u001b[39moptions[\u001b[39m\"\u001b[39m\u001b[39mhas_index_names\u001b[39m\u001b[39m\"\u001b[39m] \u001b[39m=\u001b[39m kwds[\u001b[39m\"\u001b[39m\u001b[39mhas_index_names\u001b[39m\u001b[39m\"\u001b[39m]\n\u001b[0;32m   1406\u001b[0m \u001b[39mself\u001b[39m\u001b[39m.\u001b[39mhandles: IOHandles \u001b[39m|\u001b[39m \u001b[39mNone\u001b[39;00m \u001b[39m=\u001b[39m \u001b[39mNone\u001b[39;00m\n\u001b[1;32m-> 1407\u001b[0m \u001b[39mself\u001b[39m\u001b[39m.\u001b[39m_engine \u001b[39m=\u001b[39m \u001b[39mself\u001b[39m\u001b[39m.\u001b[39m_make_engine(f, \u001b[39mself\u001b[39m\u001b[39m.\u001b[39mengine)\n",
      "File \u001b[1;32mc:\\Python\\Lib\\site-packages\\pandas\\io\\parsers\\readers.py:1661\u001b[0m, in \u001b[0;36mTextFileReader._make_engine\u001b[1;34m(self, f, engine)\u001b[0m\n\u001b[0;32m   1659\u001b[0m     \u001b[39mif\u001b[39;00m \u001b[39m\"\u001b[39m\u001b[39mb\u001b[39m\u001b[39m\"\u001b[39m \u001b[39mnot\u001b[39;00m \u001b[39min\u001b[39;00m mode:\n\u001b[0;32m   1660\u001b[0m         mode \u001b[39m+\u001b[39m\u001b[39m=\u001b[39m \u001b[39m\"\u001b[39m\u001b[39mb\u001b[39m\u001b[39m\"\u001b[39m\n\u001b[1;32m-> 1661\u001b[0m \u001b[39mself\u001b[39m\u001b[39m.\u001b[39mhandles \u001b[39m=\u001b[39m get_handle(\n\u001b[0;32m   1662\u001b[0m     f,\n\u001b[0;32m   1663\u001b[0m     mode,\n\u001b[0;32m   1664\u001b[0m     encoding\u001b[39m=\u001b[39m\u001b[39mself\u001b[39m\u001b[39m.\u001b[39moptions\u001b[39m.\u001b[39mget(\u001b[39m\"\u001b[39m\u001b[39mencoding\u001b[39m\u001b[39m\"\u001b[39m, \u001b[39mNone\u001b[39;00m),\n\u001b[0;32m   1665\u001b[0m     compression\u001b[39m=\u001b[39m\u001b[39mself\u001b[39m\u001b[39m.\u001b[39moptions\u001b[39m.\u001b[39mget(\u001b[39m\"\u001b[39m\u001b[39mcompression\u001b[39m\u001b[39m\"\u001b[39m, \u001b[39mNone\u001b[39;00m),\n\u001b[0;32m   1666\u001b[0m     memory_map\u001b[39m=\u001b[39m\u001b[39mself\u001b[39m\u001b[39m.\u001b[39moptions\u001b[39m.\u001b[39mget(\u001b[39m\"\u001b[39m\u001b[39mmemory_map\u001b[39m\u001b[39m\"\u001b[39m, \u001b[39mFalse\u001b[39;00m),\n\u001b[0;32m   1667\u001b[0m     is_text\u001b[39m=\u001b[39mis_text,\n\u001b[0;32m   1668\u001b[0m     errors\u001b[39m=\u001b[39m\u001b[39mself\u001b[39m\u001b[39m.\u001b[39moptions\u001b[39m.\u001b[39mget(\u001b[39m\"\u001b[39m\u001b[39mencoding_errors\u001b[39m\u001b[39m\"\u001b[39m, \u001b[39m\"\u001b[39m\u001b[39mstrict\u001b[39m\u001b[39m\"\u001b[39m),\n\u001b[0;32m   1669\u001b[0m     storage_options\u001b[39m=\u001b[39m\u001b[39mself\u001b[39m\u001b[39m.\u001b[39moptions\u001b[39m.\u001b[39mget(\u001b[39m\"\u001b[39m\u001b[39mstorage_options\u001b[39m\u001b[39m\"\u001b[39m, \u001b[39mNone\u001b[39;00m),\n\u001b[0;32m   1670\u001b[0m )\n\u001b[0;32m   1671\u001b[0m \u001b[39massert\u001b[39;00m \u001b[39mself\u001b[39m\u001b[39m.\u001b[39mhandles \u001b[39mis\u001b[39;00m \u001b[39mnot\u001b[39;00m \u001b[39mNone\u001b[39;00m\n\u001b[0;32m   1672\u001b[0m f \u001b[39m=\u001b[39m \u001b[39mself\u001b[39m\u001b[39m.\u001b[39mhandles\u001b[39m.\u001b[39mhandle\n",
      "File \u001b[1;32mc:\\Python\\Lib\\site-packages\\pandas\\io\\common.py:859\u001b[0m, in \u001b[0;36mget_handle\u001b[1;34m(path_or_buf, mode, encoding, compression, memory_map, is_text, errors, storage_options)\u001b[0m\n\u001b[0;32m    854\u001b[0m \u001b[39melif\u001b[39;00m \u001b[39misinstance\u001b[39m(handle, \u001b[39mstr\u001b[39m):\n\u001b[0;32m    855\u001b[0m     \u001b[39m# Check whether the filename is to be opened in binary mode.\u001b[39;00m\n\u001b[0;32m    856\u001b[0m     \u001b[39m# Binary mode does not support 'encoding' and 'newline'.\u001b[39;00m\n\u001b[0;32m    857\u001b[0m     \u001b[39mif\u001b[39;00m ioargs\u001b[39m.\u001b[39mencoding \u001b[39mand\u001b[39;00m \u001b[39m\"\u001b[39m\u001b[39mb\u001b[39m\u001b[39m\"\u001b[39m \u001b[39mnot\u001b[39;00m \u001b[39min\u001b[39;00m ioargs\u001b[39m.\u001b[39mmode:\n\u001b[0;32m    858\u001b[0m         \u001b[39m# Encoding\u001b[39;00m\n\u001b[1;32m--> 859\u001b[0m         handle \u001b[39m=\u001b[39m \u001b[39mopen\u001b[39m(\n\u001b[0;32m    860\u001b[0m             handle,\n\u001b[0;32m    861\u001b[0m             ioargs\u001b[39m.\u001b[39mmode,\n\u001b[0;32m    862\u001b[0m             encoding\u001b[39m=\u001b[39mioargs\u001b[39m.\u001b[39mencoding,\n\u001b[0;32m    863\u001b[0m             errors\u001b[39m=\u001b[39merrors,\n\u001b[0;32m    864\u001b[0m             newline\u001b[39m=\u001b[39m\u001b[39m\"\u001b[39m\u001b[39m\"\u001b[39m,\n\u001b[0;32m    865\u001b[0m         )\n\u001b[0;32m    866\u001b[0m     \u001b[39melse\u001b[39;00m:\n\u001b[0;32m    867\u001b[0m         \u001b[39m# Binary mode\u001b[39;00m\n\u001b[0;32m    868\u001b[0m         handle \u001b[39m=\u001b[39m \u001b[39mopen\u001b[39m(handle, ioargs\u001b[39m.\u001b[39mmode)\n",
      "\u001b[1;31mFileNotFoundError\u001b[0m: [Errno 2] No such file or directory: 'out.csv'"
     ]
    }
   ],
   "source": [
    "#test avec une extraction depuis Talend de la table job_sql_table\n",
    "#erreur car les requetes se mettent sur plusieurs lignes...\n",
    "\n",
    "df2=pd.read_csv(\"out.csv\", sep=(\",\"))\n",
    "df2.head()"
   ]
  }
 ],
 "metadata": {
  "kernelspec": {
   "display_name": "base",
   "language": "python",
   "name": "python3"
  },
  "language_info": {
   "codemirror_mode": {
    "name": "ipython",
    "version": 3
   },
   "file_extension": ".py",
   "mimetype": "text/x-python",
   "name": "python",
   "nbconvert_exporter": "python",
   "pygments_lexer": "ipython3",
   "version": "3.11.5"
  }
 },
 "nbformat": 4,
 "nbformat_minor": 2
}
