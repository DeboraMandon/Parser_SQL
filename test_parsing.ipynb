{
 "cells": [
  {
   "cell_type": "code",
   "execution_count": 1,
   "metadata": {},
   "outputs": [],
   "source": [
    "#importer les librairies\n",
    "import pandas as pd\n",
    "import re\n"
   ]
  },
  {
   "cell_type": "markdown",
   "metadata": {},
   "source": [
    "# création de la fonction qui permet de récupérer les tables dans une requête sql"
   ]
  },
  {
   "cell_type": "code",
   "execution_count": 2,
   "metadata": {},
   "outputs": [
    {
     "name": "stdout",
     "output_type": "stream",
     "text": [
      "Tables utilisées dans la requête SQL:\n",
      "['Clients', 'Commandes', 'DétailsCommande', 'Produits']\n"
     ]
    }
   ],
   "source": [
    "# La requête SQL de test\n",
    "sql_query = \"\"\"\n",
    "SELECT Clients.Nom, Clients.Prenom, Clients.Email, SUM(Produits.Prix * DétailsCommande.Quantité) AS MontantTotal\n",
    "FROM Clients\n",
    "JOIN Commandes ON Clients.IdClient = Commandes.IdClient\n",
    "JOIN DétailsCommande ON Commandes.IdCommande = DétailsCommande.IdCommande\n",
    "JOIN Produits ON DétailsCommande.IdProduit = Produits.IdProduit\n",
    "WHERE Commandes.DateCommande >= DATE_SUB(NOW(), INTERVAL 1 MONTH)\n",
    "GROUP BY Clients.IdClient\n",
    "HAVING MontantTotal >= 100;\n",
    "\"\"\"\n",
    "\n",
    "# Expression régulière pour extraire les noms de table\n",
    "pattern = r'\\b(?:FROM|JOIN)\\s+(\\w+)\\b'\n",
    "\n",
    "# Recherche des correspondances dans la requête SQL\n",
    "table = re.findall(pattern, sql_query, re.IGNORECASE)\n",
    "\n",
    "# Affichage des tables extraites\n",
    "print(\"Tables utilisées dans la requête SQL:\")\n",
    "print(table)\n"
   ]
  },
  {
   "cell_type": "markdown",
   "metadata": {},
   "source": [
    "## Test avec différentes requêtes"
   ]
  },
  {
   "cell_type": "code",
   "execution_count": 3,
   "metadata": {},
   "outputs": [
    {
     "name": "stdout",
     "output_type": "stream",
     "text": [
      "Tables utilisées dans la requête SQL:\n",
      "['Immeuble']\n"
     ]
    }
   ],
   "source": [
    "sql1=\"select * from (select nom, adresse from Immeuble where id=1) as Koudalou\"\n",
    "\n",
    "table = re.findall(pattern, sql1, re.IGNORECASE)\n",
    "\n",
    "# Affichage des tables extraites\n",
    "print(\"Tables utilisées dans la requête SQL:\")\n",
    "print(table)"
   ]
  },
  {
   "cell_type": "code",
   "execution_count": 4,
   "metadata": {},
   "outputs": [
    {
     "name": "stdout",
     "output_type": "stream",
     "text": [
      "Tables utilisées dans la requête SQL:\n",
      "['Table']\n"
     ]
    }
   ],
   "source": [
    "sql=\"SELECT * FROM Table\"\n",
    "\n",
    "table = re.findall(pattern, sql, re.IGNORECASE)\n",
    "\n",
    "# Affichage des tables extraites\n",
    "print(\"Tables utilisées dans la requête SQL:\")\n",
    "print(table)"
   ]
  },
  {
   "cell_type": "code",
   "execution_count": 5,
   "metadata": {},
   "outputs": [
    {
     "name": "stdout",
     "output_type": "stream",
     "text": [
      "Tables utilisées dans la requête SQL:\n",
      "['question', 'reponse']\n"
     ]
    }
   ],
   "source": [
    "sql3=\"SELECT * FROM question WHERE q_id IN (SELECT r_fk_question_id FROM reponse WHERE r_date_ajout BETWEEN '2013-01-01' AND '2013-12-31')\"\n",
    "\n",
    "table = re.findall(pattern, sql3, re.IGNORECASE)\n",
    "\n",
    "# Affichage des tables extraites\n",
    "print(\"Tables utilisées dans la requête SQL:\")\n",
    "print(table)"
   ]
  },
  {
   "cell_type": "code",
   "execution_count": 6,
   "metadata": {},
   "outputs": [
    {
     "name": "stdout",
     "output_type": "stream",
     "text": [
      "Tables utilisées dans la requête SQL:\n",
      "['travail', 'travail']\n"
     ]
    }
   ],
   "source": [
    "sql4=\"SELECT sum(a.Population)FROM travail.communes64 AS a WHERE EXISTS(SELECT * FROM travail.communes64 AS b WHERE b.Population > 10)\"\n",
    "\n",
    "table = re.findall(pattern, sql4, re.IGNORECASE)\n",
    "\n",
    "# Affichage des tables extraites\n",
    "print(\"Tables utilisées dans la requête SQL:\")\n",
    "print(table)"
   ]
  },
  {
   "cell_type": "markdown",
   "metadata": {},
   "source": [
    "# Création d'un dataframe pour faire tourner le script sur un fichier csv"
   ]
  },
  {
   "cell_type": "code",
   "execution_count": 7,
   "metadata": {},
   "outputs": [],
   "source": [
    "#créer le dataframe à partir d'un fichier csv\n",
    "df=pd.read_csv(\"sql_requetes.csv\", sep=';')"
   ]
  },
  {
   "cell_type": "code",
   "execution_count": 8,
   "metadata": {},
   "outputs": [],
   "source": [
    "#lire toutes les infos du df\n",
    "pd.set_option('display.max_columns', None)\n",
    "pd.set_option('display.max_rows', None)\n",
    "pd.set_option('display.max_colwidth', None)"
   ]
  },
  {
   "cell_type": "code",
   "execution_count": 9,
   "metadata": {},
   "outputs": [
    {
     "data": {
      "text/html": [
       "<div>\n",
       "<style scoped>\n",
       "    .dataframe tbody tr th:only-of-type {\n",
       "        vertical-align: middle;\n",
       "    }\n",
       "\n",
       "    .dataframe tbody tr th {\n",
       "        vertical-align: top;\n",
       "    }\n",
       "\n",
       "    .dataframe thead th {\n",
       "        text-align: right;\n",
       "    }\n",
       "</style>\n",
       "<table border=\"1\" class=\"dataframe\">\n",
       "  <thead>\n",
       "    <tr style=\"text-align: right;\">\n",
       "      <th></th>\n",
       "      <th>projet</th>\n",
       "      <th>requete_sql</th>\n",
       "    </tr>\n",
       "  </thead>\n",
       "  <tbody>\n",
       "    <tr>\n",
       "      <th>0</th>\n",
       "      <td>ATP</td>\n",
       "      <td>select * from (select nom, adresse from Immeuble where id=1) as Koudalou</td>\n",
       "    </tr>\n",
       "    <tr>\n",
       "      <th>1</th>\n",
       "      <td>ATP</td>\n",
       "      <td>SELECT * FROM Table</td>\n",
       "    </tr>\n",
       "    <tr>\n",
       "      <th>2</th>\n",
       "      <td>ATP</td>\n",
       "      <td>SELECT * FROM question WHERE q_id IN (SELECT r_fk_question_id FROM reponse WHERE r_date_ajout BETWEEN  2013-01-01  AND  2013-12-31 )</td>\n",
       "    </tr>\n",
       "    <tr>\n",
       "      <th>3</th>\n",
       "      <td>ATP</td>\n",
       "      <td>SELECT sum(a.Population)FROM travail.communes64 AS a WHERE EXISTS(SELECT * FROM travail.communes64 AS b WHERE b.Population &gt; 10)</td>\n",
       "    </tr>\n",
       "    <tr>\n",
       "      <th>4</th>\n",
       "      <td>ATP</td>\n",
       "      <td>SELECT timestamp, log_id, severity, json_payload, resource, labels FROM TABLE WHERE timestamp &gt; TIMESTAMP_SUB(CURRENT_TIMESTAMP(), INTERVAL 1 HOUR) AND log_id = cloudaudit.googleapis.com/data_access ORDER BY timestamp ASC LIMIT 100</td>\n",
       "    </tr>\n",
       "    <tr>\n",
       "      <th>5</th>\n",
       "      <td>ATP</td>\n",
       "      <td>SELECT * FROM Orders WHERE CustomerID IN (SELECT CustomerID FROM Customers WHERE Country = 'USA' AND City IN (SELECT DISTINCT ShipCity FROM Shippers WHERE ShipperID IN (SELECT ShipperID FROM OrderDetails WHERE ProductID IN (SELECT ProductID FROM Products WHERE CategoryID = 1))))</td>\n",
       "    </tr>\n",
       "    <tr>\n",
       "      <th>6</th>\n",
       "      <td>ATP</td>\n",
       "      <td>SELECT COUNT(count_table.mois) FROM(SELECT st.mois, st.pays, st.somme_transactions, stm.somme_transactions FROM (\\tSELECT EXTRACT(MONTH FROM t.date) AS mois, c.pays, SUM(t.montant) AS somme_transactions\\t\\tFROM transaction t\\tINNER JOIN city cON t.ville = c.villeGROUP BY mois, c.pays) stINNER JOIN somme_transactions_mois stm ON st.mois = stm.mois AND st.pays = stm.pays WHERE st.somme_transactions != stm.somme_transactions ORDER BY st.mois ASC, st.pays ASC) AS count_table GROUP BY count_table.mois</td>\n",
       "    </tr>\n",
       "  </tbody>\n",
       "</table>\n",
       "</div>"
      ],
      "text/plain": [
       "  projet  \\\n",
       "0    ATP   \n",
       "1    ATP   \n",
       "2    ATP   \n",
       "3    ATP   \n",
       "4    ATP   \n",
       "5    ATP   \n",
       "6    ATP   \n",
       "\n",
       "                                                                                                                                                                                                                                                                                                                                                                                                                                                                                                             requete_sql  \n",
       "0                                                                                                                                                                                                                                                                                                                                                                                                                                               select * from (select nom, adresse from Immeuble where id=1) as Koudalou  \n",
       "1                                                                                                                                                                                                                                                                                                                                                                                                                                                                                                    SELECT * FROM Table  \n",
       "2                                                                                                                                                                                                                                                                                                                                                                                   SELECT * FROM question WHERE q_id IN (SELECT r_fk_question_id FROM reponse WHERE r_date_ajout BETWEEN  2013-01-01  AND  2013-12-31 )  \n",
       "3                                                                                                                                                                                                                                                                                                                                                                                       SELECT sum(a.Population)FROM travail.communes64 AS a WHERE EXISTS(SELECT * FROM travail.communes64 AS b WHERE b.Population > 10)  \n",
       "4                                                                                                                                                                                                                                                                                SELECT timestamp, log_id, severity, json_payload, resource, labels FROM TABLE WHERE timestamp > TIMESTAMP_SUB(CURRENT_TIMESTAMP(), INTERVAL 1 HOUR) AND log_id = cloudaudit.googleapis.com/data_access ORDER BY timestamp ASC LIMIT 100  \n",
       "5                                                                                                                                                                                                                                SELECT * FROM Orders WHERE CustomerID IN (SELECT CustomerID FROM Customers WHERE Country = 'USA' AND City IN (SELECT DISTINCT ShipCity FROM Shippers WHERE ShipperID IN (SELECT ShipperID FROM OrderDetails WHERE ProductID IN (SELECT ProductID FROM Products WHERE CategoryID = 1))))  \n",
       "6  SELECT COUNT(count_table.mois) FROM(SELECT st.mois, st.pays, st.somme_transactions, stm.somme_transactions FROM (\\tSELECT EXTRACT(MONTH FROM t.date) AS mois, c.pays, SUM(t.montant) AS somme_transactions\\t\\tFROM transaction t\\tINNER JOIN city cON t.ville = c.villeGROUP BY mois, c.pays) stINNER JOIN somme_transactions_mois stm ON st.mois = stm.mois AND st.pays = stm.pays WHERE st.somme_transactions != stm.somme_transactions ORDER BY st.mois ASC, st.pays ASC) AS count_table GROUP BY count_table.mois  "
      ]
     },
     "execution_count": 9,
     "metadata": {},
     "output_type": "execute_result"
    }
   ],
   "source": [
    "#lire les 10 premières lignes du dataframe\n",
    "df.head(10)"
   ]
  },
  {
   "cell_type": "code",
   "execution_count": 10,
   "metadata": {},
   "outputs": [
    {
     "data": {
      "text/html": [
       "<div>\n",
       "<style scoped>\n",
       "    .dataframe tbody tr th:only-of-type {\n",
       "        vertical-align: middle;\n",
       "    }\n",
       "\n",
       "    .dataframe tbody tr th {\n",
       "        vertical-align: top;\n",
       "    }\n",
       "\n",
       "    .dataframe thead th {\n",
       "        text-align: right;\n",
       "    }\n",
       "</style>\n",
       "<table border=\"1\" class=\"dataframe\">\n",
       "  <thead>\n",
       "    <tr style=\"text-align: right;\">\n",
       "      <th></th>\n",
       "      <th>projet</th>\n",
       "      <th>requete_sql</th>\n",
       "      <th>table</th>\n",
       "    </tr>\n",
       "  </thead>\n",
       "  <tbody>\n",
       "    <tr>\n",
       "      <th>0</th>\n",
       "      <td>ATP</td>\n",
       "      <td>select * from (select nom, adresse from Immeuble where id=1) as Koudalou</td>\n",
       "      <td>Immeuble</td>\n",
       "    </tr>\n",
       "    <tr>\n",
       "      <th>1</th>\n",
       "      <td>ATP</td>\n",
       "      <td>SELECT * FROM Table</td>\n",
       "      <td>Table</td>\n",
       "    </tr>\n",
       "    <tr>\n",
       "      <th>2</th>\n",
       "      <td>ATP</td>\n",
       "      <td>SELECT * FROM question WHERE q_id IN (SELECT r_fk_question_id FROM reponse WHERE r_date_ajout BETWEEN  2013-01-01  AND  2013-12-31 )</td>\n",
       "      <td>question, reponse</td>\n",
       "    </tr>\n",
       "    <tr>\n",
       "      <th>3</th>\n",
       "      <td>ATP</td>\n",
       "      <td>SELECT sum(a.Population)FROM travail.communes64 AS a WHERE EXISTS(SELECT * FROM travail.communes64 AS b WHERE b.Population &gt; 10)</td>\n",
       "      <td>travail, travail</td>\n",
       "    </tr>\n",
       "    <tr>\n",
       "      <th>4</th>\n",
       "      <td>ATP</td>\n",
       "      <td>SELECT timestamp, log_id, severity, json_payload, resource, labels FROM TABLE WHERE timestamp &gt; TIMESTAMP_SUB(CURRENT_TIMESTAMP(), INTERVAL 1 HOUR) AND log_id = cloudaudit.googleapis.com/data_access ORDER BY timestamp ASC LIMIT 100</td>\n",
       "      <td>TABLE</td>\n",
       "    </tr>\n",
       "    <tr>\n",
       "      <th>5</th>\n",
       "      <td>ATP</td>\n",
       "      <td>SELECT * FROM Orders WHERE CustomerID IN (SELECT CustomerID FROM Customers WHERE Country = 'USA' AND City IN (SELECT DISTINCT ShipCity FROM Shippers WHERE ShipperID IN (SELECT ShipperID FROM OrderDetails WHERE ProductID IN (SELECT ProductID FROM Products WHERE CategoryID = 1))))</td>\n",
       "      <td>Orders, Customers, Shippers, OrderDetails, Products</td>\n",
       "    </tr>\n",
       "    <tr>\n",
       "      <th>6</th>\n",
       "      <td>ATP</td>\n",
       "      <td>SELECT COUNT(count_table.mois) FROM(SELECT st.mois, st.pays, st.somme_transactions, stm.somme_transactions FROM (\\tSELECT EXTRACT(MONTH FROM t.date) AS mois, c.pays, SUM(t.montant) AS somme_transactions\\t\\tFROM transaction t\\tINNER JOIN city cON t.ville = c.villeGROUP BY mois, c.pays) stINNER JOIN somme_transactions_mois stm ON st.mois = stm.mois AND st.pays = stm.pays WHERE st.somme_transactions != stm.somme_transactions ORDER BY st.mois ASC, st.pays ASC) AS count_table GROUP BY count_table.mois</td>\n",
       "      <td>t, transaction, city, somme_transactions_mois</td>\n",
       "    </tr>\n",
       "  </tbody>\n",
       "</table>\n",
       "</div>"
      ],
      "text/plain": [
       "  projet  \\\n",
       "0    ATP   \n",
       "1    ATP   \n",
       "2    ATP   \n",
       "3    ATP   \n",
       "4    ATP   \n",
       "5    ATP   \n",
       "6    ATP   \n",
       "\n",
       "                                                                                                                                                                                                                                                                                                                                                                                                                                                                                                             requete_sql  \\\n",
       "0                                                                                                                                                                                                                                                                                                                                                                                                                                               select * from (select nom, adresse from Immeuble where id=1) as Koudalou   \n",
       "1                                                                                                                                                                                                                                                                                                                                                                                                                                                                                                    SELECT * FROM Table   \n",
       "2                                                                                                                                                                                                                                                                                                                                                                                   SELECT * FROM question WHERE q_id IN (SELECT r_fk_question_id FROM reponse WHERE r_date_ajout BETWEEN  2013-01-01  AND  2013-12-31 )   \n",
       "3                                                                                                                                                                                                                                                                                                                                                                                       SELECT sum(a.Population)FROM travail.communes64 AS a WHERE EXISTS(SELECT * FROM travail.communes64 AS b WHERE b.Population > 10)   \n",
       "4                                                                                                                                                                                                                                                                                SELECT timestamp, log_id, severity, json_payload, resource, labels FROM TABLE WHERE timestamp > TIMESTAMP_SUB(CURRENT_TIMESTAMP(), INTERVAL 1 HOUR) AND log_id = cloudaudit.googleapis.com/data_access ORDER BY timestamp ASC LIMIT 100   \n",
       "5                                                                                                                                                                                                                                SELECT * FROM Orders WHERE CustomerID IN (SELECT CustomerID FROM Customers WHERE Country = 'USA' AND City IN (SELECT DISTINCT ShipCity FROM Shippers WHERE ShipperID IN (SELECT ShipperID FROM OrderDetails WHERE ProductID IN (SELECT ProductID FROM Products WHERE CategoryID = 1))))   \n",
       "6  SELECT COUNT(count_table.mois) FROM(SELECT st.mois, st.pays, st.somme_transactions, stm.somme_transactions FROM (\\tSELECT EXTRACT(MONTH FROM t.date) AS mois, c.pays, SUM(t.montant) AS somme_transactions\\t\\tFROM transaction t\\tINNER JOIN city cON t.ville = c.villeGROUP BY mois, c.pays) stINNER JOIN somme_transactions_mois stm ON st.mois = stm.mois AND st.pays = stm.pays WHERE st.somme_transactions != stm.somme_transactions ORDER BY st.mois ASC, st.pays ASC) AS count_table GROUP BY count_table.mois   \n",
       "\n",
       "                                                 table  \n",
       "0                                             Immeuble  \n",
       "1                                                Table  \n",
       "2                                    question, reponse  \n",
       "3                                     travail, travail  \n",
       "4                                                TABLE  \n",
       "5  Orders, Customers, Shippers, OrderDetails, Products  \n",
       "6        t, transaction, city, somme_transactions_mois  "
      ]
     },
     "execution_count": 10,
     "metadata": {},
     "output_type": "execute_result"
    }
   ],
   "source": [
    "def extraire_table(sql_query):\n",
    "    # Expression régulière pour extraire les noms de table\n",
    "    pattern = r'\\b(?:FROM|JOIN)\\s+(\\w+)\\b'\n",
    "\n",
    "    # Recherche des correspondances dans la requête SQL\n",
    "    table = re.findall(pattern, sql_query, re.IGNORECASE)\n",
    "    return table \n",
    "\n",
    "# Appliquer la fonction personnalisée à chaque ligne de la colonne 'requete_sql'\n",
    "df['table'] = df['requete_sql'].apply(extraire_table)\n",
    "\n",
    "# S'assurer que la colonne 'table' est de type chaîne\n",
    "df['table'] = df['table'].astype(str)\n",
    "\n",
    "# Supprimer les crochets de la colonne 'table'\n",
    "df['table']=df['table'].str.replace('[', '').str.replace(']', '')\n",
    "\n",
    "# Supprimer tous les guillemets simples de la colonne 'table'\n",
    "df['table'] = df['table'].str.replace('\\'', '')\n",
    "\n",
    "# Afficher le DataFrame résultant\n",
    "df.head(10)"
   ]
  },
  {
   "cell_type": "code",
   "execution_count": 11,
   "metadata": {},
   "outputs": [],
   "source": [
    "df.to_csv(\"table_sql.csv\")"
   ]
  },
  {
   "cell_type": "code",
   "execution_count": 12,
   "metadata": {},
   "outputs": [
    {
     "ename": "ParserError",
     "evalue": "Error tokenizing data. C error: Expected 2 fields in line 10605, saw 10\n",
     "output_type": "error",
     "traceback": [
      "\u001b[1;31m---------------------------------------------------------------------------\u001b[0m",
      "\u001b[1;31mParserError\u001b[0m                               Traceback (most recent call last)",
      "\u001b[1;32mc:\\Code\\Parser_sql\\test_parsing.ipynb Cellule 15\u001b[0m line \u001b[0;36m4\n\u001b[0;32m      <a href='vscode-notebook-cell:/c%3A/Code/Parser_sql/test_parsing.ipynb#X16sZmlsZQ%3D%3D?line=0'>1</a>\u001b[0m \u001b[39m#test avec une extraction depuis Talend de la table job_sql_table\u001b[39;00m\n\u001b[0;32m      <a href='vscode-notebook-cell:/c%3A/Code/Parser_sql/test_parsing.ipynb#X16sZmlsZQ%3D%3D?line=1'>2</a>\u001b[0m \u001b[39m#erreur car les requetes se mettent sur plusieurs lignes...\u001b[39;00m\n\u001b[1;32m----> <a href='vscode-notebook-cell:/c%3A/Code/Parser_sql/test_parsing.ipynb#X16sZmlsZQ%3D%3D?line=3'>4</a>\u001b[0m df1\u001b[39m=\u001b[39mpd\u001b[39m.\u001b[39mread_csv(\u001b[39m\"\u001b[39m\u001b[39mout.csv\u001b[39m\u001b[39m\"\u001b[39m, sep\u001b[39m=\u001b[39m(\u001b[39m\"\u001b[39m\u001b[39m,\u001b[39m\u001b[39m\"\u001b[39m))\n\u001b[0;32m      <a href='vscode-notebook-cell:/c%3A/Code/Parser_sql/test_parsing.ipynb#X16sZmlsZQ%3D%3D?line=4'>5</a>\u001b[0m df1\u001b[39m.\u001b[39mhead()\n",
      "File \u001b[1;32mc:\\Python\\Lib\\site-packages\\pandas\\io\\parsers\\readers.py:912\u001b[0m, in \u001b[0;36mread_csv\u001b[1;34m(filepath_or_buffer, sep, delimiter, header, names, index_col, usecols, dtype, engine, converters, true_values, false_values, skipinitialspace, skiprows, skipfooter, nrows, na_values, keep_default_na, na_filter, verbose, skip_blank_lines, parse_dates, infer_datetime_format, keep_date_col, date_parser, date_format, dayfirst, cache_dates, iterator, chunksize, compression, thousands, decimal, lineterminator, quotechar, quoting, doublequote, escapechar, comment, encoding, encoding_errors, dialect, on_bad_lines, delim_whitespace, low_memory, memory_map, float_precision, storage_options, dtype_backend)\u001b[0m\n\u001b[0;32m    899\u001b[0m kwds_defaults \u001b[39m=\u001b[39m _refine_defaults_read(\n\u001b[0;32m    900\u001b[0m     dialect,\n\u001b[0;32m    901\u001b[0m     delimiter,\n\u001b[1;32m   (...)\u001b[0m\n\u001b[0;32m    908\u001b[0m     dtype_backend\u001b[39m=\u001b[39mdtype_backend,\n\u001b[0;32m    909\u001b[0m )\n\u001b[0;32m    910\u001b[0m kwds\u001b[39m.\u001b[39mupdate(kwds_defaults)\n\u001b[1;32m--> 912\u001b[0m \u001b[39mreturn\u001b[39;00m _read(filepath_or_buffer, kwds)\n",
      "File \u001b[1;32mc:\\Python\\Lib\\site-packages\\pandas\\io\\parsers\\readers.py:583\u001b[0m, in \u001b[0;36m_read\u001b[1;34m(filepath_or_buffer, kwds)\u001b[0m\n\u001b[0;32m    580\u001b[0m     \u001b[39mreturn\u001b[39;00m parser\n\u001b[0;32m    582\u001b[0m \u001b[39mwith\u001b[39;00m parser:\n\u001b[1;32m--> 583\u001b[0m     \u001b[39mreturn\u001b[39;00m parser\u001b[39m.\u001b[39mread(nrows)\n",
      "File \u001b[1;32mc:\\Python\\Lib\\site-packages\\pandas\\io\\parsers\\readers.py:1704\u001b[0m, in \u001b[0;36mTextFileReader.read\u001b[1;34m(self, nrows)\u001b[0m\n\u001b[0;32m   1697\u001b[0m nrows \u001b[39m=\u001b[39m validate_integer(\u001b[39m\"\u001b[39m\u001b[39mnrows\u001b[39m\u001b[39m\"\u001b[39m, nrows)\n\u001b[0;32m   1698\u001b[0m \u001b[39mtry\u001b[39;00m:\n\u001b[0;32m   1699\u001b[0m     \u001b[39m# error: \"ParserBase\" has no attribute \"read\"\u001b[39;00m\n\u001b[0;32m   1700\u001b[0m     (\n\u001b[0;32m   1701\u001b[0m         index,\n\u001b[0;32m   1702\u001b[0m         columns,\n\u001b[0;32m   1703\u001b[0m         col_dict,\n\u001b[1;32m-> 1704\u001b[0m     ) \u001b[39m=\u001b[39m \u001b[39mself\u001b[39m\u001b[39m.\u001b[39m_engine\u001b[39m.\u001b[39mread(  \u001b[39m# type: ignore[attr-defined]\u001b[39;00m\n\u001b[0;32m   1705\u001b[0m         nrows\n\u001b[0;32m   1706\u001b[0m     )\n\u001b[0;32m   1707\u001b[0m \u001b[39mexcept\u001b[39;00m \u001b[39mException\u001b[39;00m:\n\u001b[0;32m   1708\u001b[0m     \u001b[39mself\u001b[39m\u001b[39m.\u001b[39mclose()\n",
      "File \u001b[1;32mc:\\Python\\Lib\\site-packages\\pandas\\io\\parsers\\c_parser_wrapper.py:234\u001b[0m, in \u001b[0;36mCParserWrapper.read\u001b[1;34m(self, nrows)\u001b[0m\n\u001b[0;32m    232\u001b[0m \u001b[39mtry\u001b[39;00m:\n\u001b[0;32m    233\u001b[0m     \u001b[39mif\u001b[39;00m \u001b[39mself\u001b[39m\u001b[39m.\u001b[39mlow_memory:\n\u001b[1;32m--> 234\u001b[0m         chunks \u001b[39m=\u001b[39m \u001b[39mself\u001b[39m\u001b[39m.\u001b[39m_reader\u001b[39m.\u001b[39mread_low_memory(nrows)\n\u001b[0;32m    235\u001b[0m         \u001b[39m# destructive to chunks\u001b[39;00m\n\u001b[0;32m    236\u001b[0m         data \u001b[39m=\u001b[39m _concatenate_chunks(chunks)\n",
      "File \u001b[1;32mc:\\Python\\Lib\\site-packages\\pandas\\_libs\\parsers.pyx:814\u001b[0m, in \u001b[0;36mpandas._libs.parsers.TextReader.read_low_memory\u001b[1;34m()\u001b[0m\n",
      "File \u001b[1;32mc:\\Python\\Lib\\site-packages\\pandas\\_libs\\parsers.pyx:875\u001b[0m, in \u001b[0;36mpandas._libs.parsers.TextReader._read_rows\u001b[1;34m()\u001b[0m\n",
      "File \u001b[1;32mc:\\Python\\Lib\\site-packages\\pandas\\_libs\\parsers.pyx:850\u001b[0m, in \u001b[0;36mpandas._libs.parsers.TextReader._tokenize_rows\u001b[1;34m()\u001b[0m\n",
      "File \u001b[1;32mc:\\Python\\Lib\\site-packages\\pandas\\_libs\\parsers.pyx:861\u001b[0m, in \u001b[0;36mpandas._libs.parsers.TextReader._check_tokenize_status\u001b[1;34m()\u001b[0m\n",
      "File \u001b[1;32mc:\\Python\\Lib\\site-packages\\pandas\\_libs\\parsers.pyx:2029\u001b[0m, in \u001b[0;36mpandas._libs.parsers.raise_parser_error\u001b[1;34m()\u001b[0m\n",
      "\u001b[1;31mParserError\u001b[0m: Error tokenizing data. C error: Expected 2 fields in line 10605, saw 10\n"
     ]
    }
   ],
   "source": [
    "#test avec une extraction depuis Talend de la table job_sql_table\n",
    "#erreur car les requetes se mettent sur plusieurs lignes...\n",
    "\n",
    "df1=pd.read_csv(\"out.csv\", sep=(\",\"))\n",
    "df1.head()"
   ]
  }
 ],
 "metadata": {
  "kernelspec": {
   "display_name": "base",
   "language": "python",
   "name": "python3"
  },
  "language_info": {
   "codemirror_mode": {
    "name": "ipython",
    "version": 3
   },
   "file_extension": ".py",
   "mimetype": "text/x-python",
   "name": "python",
   "nbconvert_exporter": "python",
   "pygments_lexer": "ipython3",
   "version": "3.11.5"
  }
 },
 "nbformat": 4,
 "nbformat_minor": 2
}
