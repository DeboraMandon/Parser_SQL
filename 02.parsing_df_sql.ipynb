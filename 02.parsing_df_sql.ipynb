{
 "cells": [
  {
   "cell_type": "code",
   "execution_count": 3,
   "metadata": {},
   "outputs": [],
   "source": [
    "#importer les librairies\n",
    "import pandas as pd\n",
    "import re\n",
    "import sqlparse\n",
    "import sqlparser\n",
    "import pyparsing\n"
   ]
  },
  {
   "cell_type": "markdown",
   "metadata": {},
   "source": [
    "# Création du dataframe"
   ]
  },
  {
   "cell_type": "code",
   "execution_count": 6,
   "metadata": {},
   "outputs": [],
   "source": [
    "#créer le dataframe à partir d'un fichier csv\n",
    "df=pd.read_csv(\"sql_requetes.csv\", sep=\";\")"
   ]
  },
  {
   "cell_type": "code",
   "execution_count": 7,
   "metadata": {},
   "outputs": [],
   "source": [
    "#lire toutes les infos du df\n",
    "pd.set_option('display.max_columns', None)\n",
    "pd.set_option('display.max_rows', None)\n",
    "pd.set_option('display.max_colwidth', None)"
   ]
  },
  {
   "cell_type": "code",
   "execution_count": 8,
   "metadata": {},
   "outputs": [
    {
     "data": {
      "text/html": [
       "<div>\n",
       "<style scoped>\n",
       "    .dataframe tbody tr th:only-of-type {\n",
       "        vertical-align: middle;\n",
       "    }\n",
       "\n",
       "    .dataframe tbody tr th {\n",
       "        vertical-align: top;\n",
       "    }\n",
       "\n",
       "    .dataframe thead th {\n",
       "        text-align: right;\n",
       "    }\n",
       "</style>\n",
       "<table border=\"1\" class=\"dataframe\">\n",
       "  <thead>\n",
       "    <tr style=\"text-align: right;\">\n",
       "      <th></th>\n",
       "      <th>projet</th>\n",
       "      <th>requete_sql</th>\n",
       "    </tr>\n",
       "  </thead>\n",
       "  <tbody>\n",
       "    <tr>\n",
       "      <th>0</th>\n",
       "      <td>ATP</td>\n",
       "      <td>select * from (select nom, adresse from Immeuble where id=1) as Koudalou</td>\n",
       "    </tr>\n",
       "    <tr>\n",
       "      <th>1</th>\n",
       "      <td>ATP</td>\n",
       "      <td>SELECT * FROM Table</td>\n",
       "    </tr>\n",
       "    <tr>\n",
       "      <th>2</th>\n",
       "      <td>ATP</td>\n",
       "      <td>SELECT * FROM question WHERE q_id IN (SELECT r_fk_question_id FROM reponse WHERE r_date_ajout BETWEEN  2013-01-01  AND  2013-12-31 )</td>\n",
       "    </tr>\n",
       "    <tr>\n",
       "      <th>3</th>\n",
       "      <td>ATP</td>\n",
       "      <td>SELECT sum(a.Population)FROM travail.communes64 AS a WHERE EXISTS(SELECT * FROM travail.communes64 AS b WHERE b.Population &gt; 10)</td>\n",
       "    </tr>\n",
       "    <tr>\n",
       "      <th>4</th>\n",
       "      <td>ATP</td>\n",
       "      <td>SELECT timestamp, log_id, severity, json_payload, resource, labels FROM TABLE WHERE timestamp &gt; TIMESTAMP_SUB(CURRENT_TIMESTAMP(), INTERVAL 1 HOUR) AND log_id = cloudaudit.googleapis.com/data_access ORDER BY timestamp ASC LIMIT 100</td>\n",
       "    </tr>\n",
       "    <tr>\n",
       "      <th>5</th>\n",
       "      <td>ATP</td>\n",
       "      <td>SELECT * FROM Orders WHERE CustomerID IN (SELECT CustomerID FROM Customers WHERE Country = 'USA' AND City IN (SELECT DISTINCT ShipCity FROM Shippers WHERE ShipperID IN (SELECT ShipperID FROM OrderDetails WHERE ProductID IN (SELECT ProductID FROM Products WHERE CategoryID = 1))))</td>\n",
       "    </tr>\n",
       "    <tr>\n",
       "      <th>6</th>\n",
       "      <td>ATP</td>\n",
       "      <td>SELECT COUNT(count_table.mois) FROM(SELECT st.mois, st.pays, st.somme_transactions, stm.somme_transactions FROM (\\tSELECT EXTRACT(MONTH FROM t.date) AS mois, c.pays, SUM(t.montant) AS somme_transactions\\t\\tFROM transaction t\\tINNER JOIN city cON t.ville = c.villeGROUP BY mois, c.pays) stINNER JOIN somme_transactions_mois stm ON st.mois = stm.mois AND st.pays = stm.pays WHERE st.somme_transactions != stm.somme_transactions ORDER BY st.mois ASC, st.pays ASC) AS count_table GROUP BY count_table.mois</td>\n",
       "    </tr>\n",
       "    <tr>\n",
       "      <th>7</th>\n",
       "      <td>PLE</td>\n",
       "      <td>SELECT \\tTDI_D01 as TDI_D01, \\tTDI_D02 as TDI_D02, \\tTDI_D03 as TDI_D03, \\tTDI_D04 as TDI_D04, \\tTDI_D05 as TDI_D05, \\tTDI_D06 as TDI_D06, \\tTDI_D07 as TDI_D07, \\tnull as TDI_D08, \\tTDI_D09 as TDI_D09, \\tTDI_D10 as TDI_D10, \\tTDI_D11 as TDI_D11, \\tTDI_D12 as TDI_D12, \\tnull as TDI_D13, \\tnull as TDI_D14, \\tnull as TDI_D15, \\tnull AS TDI_D16, \\tnull AS TDI_D17, \\tnull AS TDI_D18, \\tnull AS TDI_D19, \\tnull AS TDI_D20, \\tnull AS TDI_D21, \\tnull AS TDI_D22, \\tnull AS TDI_D23, \\tnull AS TDI_D24, \\tnull AS TDI_D25, \\tnull AS TDI_D26, \\tnull AS TDI_D27, \\tnull AS TDI_D28, \\tnull AS TDI_D29, \\tnull AS TDI_D30, \\tTDI_I01 as TDI_I01, \\tTDI_I02 as TDI_I02, \\tTDI_I03 as TDI_I03, \\tTDI_I04 AS TDI_I04, \\tNULL AS TDI_I05, \\tNULL AS TDI_I06, \\tNULL AS TDI_I07, \\tNULL AS TDI_I08, \\tNULL AS TDI_I09, \\tNULL AS TDI_I10, \\tNULL AS TDI_I11, \\tNULL AS TDI_I12, \\tNULL AS TDI_I13, \\tNULL AS TDI_I14, \\tNULL AS TDI_I15, \\tNULL AS TDI_I16, \\tNULL AS TDI_I17, \\tNULL AS TDI_I18, \\tNULL AS TDI_I19, \\tNULL AS TDI_I20 FROM (  SELECT     to_char(CTX.CONT_DATE_CREATION,'yyyyMMdd') AS TDI_D01,     41 as TDI_D02,     CASE WHEN (SUM(CASE WHEN (NVL(THT.ADRC_COM_CONCESS,'N') = 'O') THEN 1 ELSE 0 END)&gt;=1 AND SUM(CASE WHEN (NVL(THT.ADRC_COM_CONCESS,'N') &lt;&gt; 'O') THEN 1 ELSE 0 END)=0) THEN 'T' ELSE         (CASE WHEN (SUM(CASE WHEN (NVL(THT.ADRC_COM_CONCESS,'N') = 'O') THEN 1 ELSE 0 END)=0 AND SUM(CASE WHEN (NVL(THT.ADRC_COM_CONCESS,'N') &lt;&gt; 'O') THEN 1 ELSE 0 END)&gt;=1) THEN 'HT' ELSE            (CASE WHEN (SUM(CASE WHEN (NVL(THT.ADRC_COM_CONCESS,'N') = 'O') THEN 1 ELSE 0 END)&gt;=1 AND SUM(CASE WHEN (NVL(THT.ADRC_COM_CONCESS,'N') &lt;&gt; 'O') THEN 1 ELSE 0 END)&gt;=1) THEN 'MIXTE' ELSE \\t\\t\\t'NRE' END) END) END AS  TDI_D03,      NVL(TO_CHAR(ACT.CLI_CHRONO),'NRE') AS TDI_D04,      'C-'||TO_CHAR(CTX.CONT_CHRONO_CONTRAT) as TDI_D05,      NVL(TO_CHAR(SOUS.SOUS_ID), 'NRE') as TDI_D06,      NVL(TO_CHAR(EDC.CPT_ID), 'NRE') as TDI_D07,      'NRE' AS TDI_D09,      NVL(UPPER(ACT.CLI_E_MAIL),'NRE') AS TDI_D10,      NVL(TO_CHAR(CSO.CONSO_CONSO_ANN),'NRE') as TDI_D11,      CTX.CONT_CHRONO_DOSSIER AS TDI_D12,     1 AS TDI_I01,     CASE WHEN CTX.CONT_ETAT_DOSSIER  =  'ENCRS' THEN 1 ELSE 0 END AS TDI_I02,     COUNT(DISTINCT ACT.CLI_CHRONO) AS TDI_I03, \\tCASE WHEN ACT.CLI_CHRONO is not null  THEN 1 ELSE 0 END AS TDI_I04      FROM FUS_CONTENTIEUX CTX     LEFT JOIN SIM_GCC_CLIENTS CL ON (CTX.CONT_CHRONO_CLIENT=CL.CLI_CHRONO)      \\t-- Calcul Client actif     LEFT JOIN (             select                  c.con_chrono,  \\t\\t\\t\\tCL.CLI_CHRONO,  \\t\\t\\t\\tECTR_CODE_ETAT,  \\t\\t\\t\\tactif,  \\t\\t\\t\\tdvl.date_debut,  \\t\\t\\t\\tdvl.date_fin, \\t\\t\\t\\tCLI_E_MAIL             from SIM_GCD_CONTRAT C                 INNER JOIN DVL_GCD_ETATS_CONTRAT DVL ON (C.CON_CHRONO=DVL.CON_CHRONO)                 INNER JOIN SIM_GCC_CLIENTS CL ON (CL.CLI_CHRONO=C.CLI_CHRONO AND (CLI_FAMILLE='DOM' OR CLI_CATEGORIE='NDOM'))             where DVL.ECTR_CODE_ETAT IN ('A', 'F') AND CL.CLI_CHRONO IS NOT NULL \\t\\t\\t) ACT ON (ACT.CLI_CHRONO=CL.CLI_CHRONO AND CTX.CONT_DATE_CREATION BETWEEN ACT.DATE_DEBUT AND ACT.DATE_FIN)      \\tLEFT JOIN SIM_GCT_ADR_EN_CLAIR A ON (CL.CLI_ADR_CHRONO=A.ADRC_CHRONO)     LEFT JOIN SIM_GCD_CONTRAT C ON (CONT_CHRONO_CONTRAT=C.CON_CHRONO) \\t \\t-- Récupération du contrat associé \\t     LEFT JOIN ( \\t\\t\\tSELECT  \\t\\t\\t\\tSIM_GCD_CONTRAT.CON_CHRONO AS CON_CHRONO,  \\t\\t\\t\\tMAX(SIM_GCD_COND_ADMIN.CADM_TYPE_PAIEMENT) AS TYPE_PAIEMENT \\t\\t\\tFROM SIM_GCD_CONTRAT \\t\\t\\t\\tINNER JOIN SIM_GCD_ENT_PREST ON (SIM_GCD_CONTRAT.CON_CHRONO=SIM_GCD_ENT_PREST.CON_CHRONO) \\t\\t\\t\\tINNER JOIN SIM_GCD_COND_ADMIN ON (SIM_GCD_COND_ADMIN.CADM_CHRONO=SIM_GCD_ENT_PREST.CADM_CHRONO) \\t\\t\\tGROUP BY SIM_GCD_CONTRAT.CON_CHRONO \\t\\t\\t) TP ON (C.CON_CHRONO = TP.CON_CHRONO) \\t\\t\\t     LEFT JOIN SIM_GCC_COMMUNES CO ON (CO.COM_CODE = A.ADRC_COM_CODE)     LEFT JOIN ODS_COMMUNES OC ON (OC.CODE_INSEE = nvl(CO.COM_CODE_INSEE,'NRE'))     LEFT JOIN FUS_KPI_CONTENTIEUX EK ON (EK.CONT_CHRONO_DOSSIER = CTX.CONT_CHRONO_DOSSIER)      \\tLEFT JOIN ( \\t\\t\\t\\tSELECT MAX(EPT_CHRONO) AS EPT_CHRONO,  \\t\\t\\t\\t\\t\\tEPT_NATURE_PREST AS EPT_NATURE_PREST,  \\t\\t\\t\\t\\t\\tCON_CHRONO AS CON_CHRONO \\t\\t\\t\\tFROM SIM_GCD_ENT_PREST \\t\\t\\t\\tGROUP BY EPT_NATURE_PREST, CON_CHRONO \\t\\t\\t\\t) EP ON (EP.CON_CHRONO=C.CON_CHRONO AND EP.EPT_NATURE_PREST = 'GAZ NATUREL') \\t \\tLEFT JOIN ( \\t\\t\\t\\tSELECT MAX(AVE_CHRONO) AS AVE_CHRONO,  \\t\\t\\t\\t\\tEPT_CHRONO AS EPT_CHRONO \\t\\t\\t\\tFROM SIM_GCD_DET_PREST \\t\\t\\t\\tGROUP BY EPT_CHRONO \\t\\t\\t\\t) AV ON (AV.EPT_CHRONO=EP.EPT_CHRONO)       \\tLEFT JOIN SIM_GCD_DET_PREST DP ON (DP.EPT_CHRONO=AV.EPT_CHRONO AND DP.AVE_CHRONO=AV.AVE_CHRONO AND (CONT_DATE_CREATION BETWEEN DP.DPT_DATE_DEBUT AND NVL(DP.DPT_DATE_FIN,to_date('31122045','ddMMyyyy'))))     LEFT JOIN SIM_GCD_TARIF TA ON (TA.TAR_CHRONO= DP.TAR_CHRONO)     LEFT JOIN SIM_GCD_DPREST_PTS DPS ON (DPS.DPT_CHRONO=DP.DPT_CHRONO)     LEFT JOIN SIM_GCD_PTS PT ON (PT.PTS_CHRONO=DPS.PTS_CHRONO)     LEFT JOIN SIM_GCT_ADR_EN_CLAIR THT ON (THT.ADRC_CHRONO=PT.PTS_ADR_CHRONO and THT.ADRC_TYP=PT.PTS_ADR_TYPE)  \\t-- Nouvelle Formule jointure Souscription \\t \\tLEFT JOIN ( \\t\\tSelect SOUS_ID, \\t\\t\\t\\tSOUS_CLI_CHRONO_CREE, \\t\\t\\t\\tSOUS_CON_CHRONO_CREE, \\t\\t\\t\\tRANK () OVER(PARTITION BY SOUS_CLI_CHRONO_CREE, SOUS_CON_CHRONO_CREE \\t\\t\\t\\tORDER BY SOUS_DATE_CREATION DESC) as RANK_SOUS \\t\\t\\tFROM FUS_SOUSCRIPTION \\t\\t\\tWHERE SOUS_CLI_CHRONO_CREE is not null and SOUS_CON_CHRONO_CREE is not null) SOUS ON (SOUS.SOUS_CLI_CHRONO_CREE=ACT.CLI_CHRONO and SOUS_CON_CHRONO_CREE=CTX.CONT_CHRONO_CONTRAT And RANK_SOUS=1) \\t\\t\\t   --- Extension Consommation Annuelle    \\tLEFT JOIN (SELECT  \\t\\t\\tCL.CLI_CHRONO, \\t\\t\\tC.CON_CHRONO, \\t\\t\\tSUM(CSO.CONSO_CONSO_ANN) AS CONSO_CONSO_ANN \\t\\tFROM FUS_PRESTATION \\t\\t\\tINNER JOIN SIM_GCD_CONTRAT C ON (PRESTA_CON_CHRONO=C.CON_CHRONO) \\t\\t\\tINNER JOIN SIM_GCC_CLIENTS CL ON (CL.CLI_CHRONO=C.CLI_CHRONO) \\t\\t\\tINNER JOIN SIM_GCD_PTS PTS ON (FUS_PRESTATION.PRESTA_PTS_CHRONO=PTS.PTS_CHRONO) \\t\\t\\tLEFT JOIN SIM_GCD_CONSOMME CSO ON (CSO.CLI_CHRONO = CL.CLI_CHRONO AND CSO.PTS_CHRONO = PTS.PTS_CHRONO) \\t\\tWHERE (CL.CLI_FAMILLE='DOM' OR CL.CLI_CATEGORIE='NDOM') and  \\t\\t\\tPRESTA_TAR_CHRONO is not null and \\t\\t\\tsysdate between DPT_DATE_DEBUT and NVL(DPT_DATE_FIN,TO_DATE('29990101','yyyyMMdd')) \\t\\tGROUP BY CL.CLI_CHRONO,C.CON_CHRONO) CSO ON (CSO.CLI_CHRONO=ACT.CLI_CHRONO and CSO.CON_CHRONO=CTX.CONT_CHRONO_CONTRAT) \\t\\t   --- Récupération Extranet DOM      LEFT JOIN FUS_EXT_DOM_GCC_CLT_EMAIL EDCL ON (EDCL.CLI_CHRONO=ACT.CLI_CHRONO)   LEFT JOIN FUS_EXT_DOM_COMPTE_EMAIL  EDC ON (EDCL.CPT_EMAIL=EDC.CPT_EMAIL)  WHERE (CL.CLI_FAMILLE='DOM' OR CL.CLI_CATEGORIE='NDOM')  GROUP BY       NVL(TO_CHAR(ACT.CLI_CHRONO),'NRE'),      to_char(CTX.CONT_DATE_CREATION,'yyyyMMdd'),      'C-'||TO_CHAR(CONT_CHRONO_CONTRAT),      CTX.CONT_CHRONO_DOSSIER,      CASE WHEN CTX.CONT_ETAT_DOSSIER  =  'ENCRS' THEN 1 ELSE 0 END, \\t NVL(UPPER(ACT.CLI_E_MAIL),'NRE'), \\t NVL(TO_CHAR(CSO.CONSO_CONSO_ANN),'NRE'), \\t NVL(TO_CHAR(SOUS.SOUS_ID), 'NRE'), \\t NVL(TO_CHAR(EDC.CPT_ID), 'NRE'), \\t CASE WHEN ACT.CLI_CHRONO is not null  THEN 1 ELSE 0 END ) EKI_MKT_FACT_CONTENTIEUX</td>\n",
       "    </tr>\n",
       "    <tr>\n",
       "      <th>8</th>\n",
       "      <td>PLE</td>\n",
       "      <td>SELECT \\tTDI_D01 as TDI_D01, \\tTDI_D02 as TDI_D02, \\tTDI_D03 as TDI_D03, \\tTDI_D04 as TDI_D04, \\tTDI_D05 as TDI_D05, \\tTDI_D06 as TDI_D06, \\tTDI_D07 as TDI_D07, \\tnull as TDI_D08, \\tTDI_D09 as TDI_D09, \\tTDI_D10 as TDI_D10, \\tTDI_D11 as TDI_D11, \\tTDI_D12 as TDI_D12, \\tnull as TDI_D13, \\tnull as TDI_D14, \\tnull as TDI_D15, \\tnull AS TDI_D16, \\tnull AS TDI_D17, \\tnull AS TDI_D18, \\tnull AS TDI_D19, \\tnull AS TDI_D20, \\tnull AS TDI_D21, \\tnull AS TDI_D22, \\tnull AS TDI_D23, \\tnull AS TDI_D24, \\tnull AS TDI_D25, \\tnull AS TDI_D26, \\tnull AS TDI_D27, \\tnull AS TDI_D28, \\tnull AS TDI_D29, \\tnull AS TDI_D30, \\tTDI_I01 as TDI_I01, \\tTDI_I02 as TDI_I02, \\tTDI_I03 as TDI_I03, \\tTDI_I04 AS TDI_I04, \\tNULL AS TDI_I05, \\tNULL AS TDI_I06, \\tNULL AS TDI_I07, \\tNULL AS TDI_I08, \\tNULL AS TDI_I09, \\tNULL AS TDI_I10, \\tNULL AS TDI_I11, \\tNULL AS TDI_I12, \\tNULL AS TDI_I13, \\tNULL AS TDI_I14, \\tNULL AS TDI_I15, \\tNULL AS TDI_I16, \\tNULL AS TDI_I17, \\tNULL AS TDI_I18, \\tNULL AS TDI_I19, \\tNULL AS TDI_I20 FROM (  SELECT     to_char(CTX.CONT_DATE_CREATION,'yyyyMMdd') AS TDI_D01,     41 as TDI_D02,     CASE WHEN (SUM(CASE WHEN (NVL(THT.ADRC_COM_CONCESS,'N') = 'O') THEN 1 ELSE 0 END)&gt;=1 AND SUM(CASE WHEN (NVL(THT.ADRC_COM_CONCESS,'N') &lt;&gt; 'O') THEN 1 ELSE 0 END)=0) THEN 'T' ELSE         (CASE WHEN (SUM(CASE WHEN (NVL(THT.ADRC_COM_CONCESS,'N') = 'O') THEN 1 ELSE 0 END)=0 AND SUM(CASE WHEN (NVL(THT.ADRC_COM_CONCESS,'N') &lt;&gt; 'O') THEN 1 ELSE 0 END)&gt;=1) THEN 'HT' ELSE            (CASE WHEN (SUM(CASE WHEN (NVL(THT.ADRC_COM_CONCESS,'N') = 'O') THEN 1 ELSE 0 END)&gt;=1 AND SUM(CASE WHEN (NVL(THT.ADRC_COM_CONCESS,'N') &lt;&gt; 'O') THEN 1 ELSE 0 END)&gt;=1) THEN 'MIXTE' ELSE \\t\\t\\t'NRE' END) END) END AS  TDI_D03,      NVL(TO_CHAR(ACT.CLI_CHRONO),'NRE') AS TDI_D04,      'C-'||TO_CHAR(CTX.CONT_CHRONO_CONTRAT) as TDI_D05,      NVL(TO_CHAR(SOUS.SOUS_ID), 'NRE') as TDI_D06,      NVL(TO_CHAR(EDC.CPT_ID), 'NRE') as TDI_D07,      'NRE' AS TDI_D09,      NVL(UPPER(ACT.CLI_E_MAIL),'NRE') AS TDI_D10,      NVL(TO_CHAR(CSO.CONSO_CONSO_ANN),'NRE') as TDI_D11,      CTX.CONT_CHRONO_DOSSIER AS TDI_D12,     1 AS TDI_I01,     CASE WHEN CTX.CONT_ETAT_DOSSIER  =  'ENCRS' THEN 1 ELSE 0 END AS TDI_I02,     COUNT(DISTINCT ACT.CLI_CHRONO) AS TDI_I03, \\tCASE WHEN ACT.CLI_CHRONO is not null  THEN 1 ELSE 0 END AS TDI_I04      FROM FUS_CONTENTIEUX CTX     LEFT JOIN SIM_GCC_CLIENTS CL ON (CTX.CONT_CHRONO_CLIENT=CL.CLI_CHRONO)           LEFT JOIN (             select                  c.con_chrono,  \\t\\t\\t\\tCL.CLI_CHRONO,  \\t\\t\\t\\tECTR_CODE_ETAT,  \\t\\t\\t\\tactif,  \\t\\t\\t\\tdvl.date_debut,  \\t\\t\\t\\tdvl.date_fin, \\t\\t\\t\\tCLI_E_MAIL             from SIM_GCD_CONTRAT C                 INNER JOIN DVL_GCD_ETATS_CONTRAT DVL ON (C.CON_CHRONO=DVL.CON_CHRONO)                 INNER JOIN SIM_GCC_CLIENTS CL ON (CL.CLI_CHRONO=C.CLI_CHRONO AND (CLI_FAMILLE='DOM' OR CLI_CATEGORIE='NDOM'))             where DVL.ECTR_CODE_ETAT IN ('A', 'F') AND CL.CLI_CHRONO IS NOT NULL \\t\\t\\t) ACT ON (ACT.CLI_CHRONO=CL.CLI_CHRONO AND CTX.CONT_DATE_CREATION BETWEEN ACT.DATE_DEBUT AND ACT.DATE_FIN)      \\tLEFT JOIN SIM_GCT_ADR_EN_CLAIR A ON (CL.CLI_ADR_CHRONO=A.ADRC_CHRONO)     LEFT JOIN SIM_GCD_CONTRAT C ON (CONT_CHRONO_CONTRAT=C.CON_CHRONO) \\t \\t     LEFT JOIN ( \\t\\t\\tSELECT  \\t\\t\\t\\tSIM_GCD_CONTRAT.CON_CHRONO AS CON_CHRONO,  \\t\\t\\t\\tMAX(SIM_GCD_COND_ADMIN.CADM_TYPE_PAIEMENT) AS TYPE_PAIEMENT \\t\\t\\tFROM SIM_GCD_CONTRAT \\t\\t\\t\\tINNER JOIN SIM_GCD_ENT_PREST ON (SIM_GCD_CONTRAT.CON_CHRONO=SIM_GCD_ENT_PREST.CON_CHRONO) \\t\\t\\t\\tINNER JOIN SIM_GCD_COND_ADMIN ON (SIM_GCD_COND_ADMIN.CADM_CHRONO=SIM_GCD_ENT_PREST.CADM_CHRONO) \\t\\t\\tGROUP BY SIM_GCD_CONTRAT.CON_CHRONO \\t\\t\\t) TP ON (C.CON_CHRONO = TP.CON_CHRONO) \\t\\t\\t     LEFT JOIN SIM_GCC_COMMUNES CO ON (CO.COM_CODE = A.ADRC_COM_CODE)     LEFT JOIN ODS_COMMUNES OC ON (OC.CODE_INSEE = nvl(CO.COM_CODE_INSEE,'NRE'))     LEFT JOIN FUS_KPI_CONTENTIEUX EK ON (EK.CONT_CHRONO_DOSSIER = CTX.CONT_CHRONO_DOSSIER)      \\tLEFT JOIN ( \\t\\t\\t\\tSELECT MAX(EPT_CHRONO) AS EPT_CHRONO,  \\t\\t\\t\\t\\t\\tEPT_NATURE_PREST AS EPT_NATURE_PREST,  \\t\\t\\t\\t\\t\\tCON_CHRONO AS CON_CHRONO \\t\\t\\t\\tFROM SIM_GCD_ENT_PREST \\t\\t\\t\\tGROUP BY EPT_NATURE_PREST, CON_CHRONO \\t\\t\\t\\t) EP ON (EP.CON_CHRONO=C.CON_CHRONO AND EP.EPT_NATURE_PREST = 'GAZ NATUREL') \\t \\tLEFT JOIN ( \\t\\t\\t\\tSELECT MAX(AVE_CHRONO) AS AVE_CHRONO,  \\t\\t\\t\\t\\tEPT_CHRONO AS EPT_CHRONO \\t\\t\\t\\tFROM SIM_GCD_DET_PREST \\t\\t\\t\\tGROUP BY EPT_CHRONO \\t\\t\\t\\t) AV ON (AV.EPT_CHRONO=EP.EPT_CHRONO)       \\tLEFT JOIN SIM_GCD_DET_PREST DP ON (DP.EPT_CHRONO=AV.EPT_CHRONO AND DP.AVE_CHRONO=AV.AVE_CHRONO AND (CONT_DATE_CREATION BETWEEN DP.DPT_DATE_DEBUT AND NVL(DP.DPT_DATE_FIN,to_date('31122045','ddMMyyyy'))))     LEFT JOIN SIM_GCD_TARIF TA ON (TA.TAR_CHRONO= DP.TAR_CHRONO)     LEFT JOIN SIM_GCD_DPREST_PTS DPS ON (DPS.DPT_CHRONO=DP.DPT_CHRONO)     LEFT JOIN SIM_GCD_PTS PT ON (PT.PTS_CHRONO=DPS.PTS_CHRONO)     LEFT JOIN SIM_GCT_ADR_EN_CLAIR THT ON (THT.ADRC_CHRONO=PT.PTS_ADR_CHRONO and THT.ADRC_TYP=PT.PTS_ADR_TYPE)  \\t \\tLEFT JOIN ( \\t\\tSelect SOUS_ID, \\t\\t\\t\\tSOUS_CLI_CHRONO_CREE, \\t\\t\\t\\tSOUS_CON_CHRONO_CREE, \\t\\t\\t\\tRANK () OVER(PARTITION BY SOUS_CLI_CHRONO_CREE, SOUS_CON_CHRONO_CREE \\t\\t\\t\\tORDER BY SOUS_DATE_CREATION DESC) as RANK_SOUS \\t\\t\\tFROM FUS_SOUSCRIPTION \\t\\t\\tWHERE SOUS_CLI_CHRONO_CREE is not null and SOUS_CON_CHRONO_CREE is not null) SOUS ON (SOUS.SOUS_CLI_CHRONO_CREE=ACT.CLI_CHRONO and SOUS_CON_CHRONO_CREE=CTX.CONT_CHRONO_CONTRAT And RANK_SOUS=1) \\t\\t\\t    \\tLEFT JOIN (SELECT  \\t\\t\\tCL.CLI_CHRONO, \\t\\t\\tC.CON_CHRONO, \\t\\t\\tSUM(CSO.CONSO_CONSO_ANN) AS CONSO_CONSO_ANN \\t\\tFROM FUS_PRESTATION \\t\\t\\tINNER JOIN SIM_GCD_CONTRAT C ON (PRESTA_CON_CHRONO=C.CON_CHRONO) \\t\\t\\tINNER JOIN SIM_GCC_CLIENTS CL ON (CL.CLI_CHRONO=C.CLI_CHRONO) \\t\\t\\tINNER JOIN SIM_GCD_PTS PTS ON (FUS_PRESTATION.PRESTA_PTS_CHRONO=PTS.PTS_CHRONO) \\t\\t\\tLEFT JOIN SIM_GCD_CONSOMME CSO ON (CSO.CLI_CHRONO = CL.CLI_CHRONO AND CSO.PTS_CHRONO = PTS.PTS_CHRONO) \\t\\tWHERE (CL.CLI_FAMILLE='DOM' OR CL.CLI_CATEGORIE='NDOM') and  \\t\\t\\tPRESTA_TAR_CHRONO is not null and \\t\\t\\tsysdate between DPT_DATE_DEBUT and NVL(DPT_DATE_FIN,TO_DATE('29990101','yyyyMMdd')) \\t\\tGROUP BY CL.CLI_CHRONO,C.CON_CHRONO) CSO ON (CSO.CLI_CHRONO=ACT.CLI_CHRONO and CSO.CON_CHRONO=CTX.CONT_CHRONO_CONTRAT) \\t\\t      LEFT JOIN FUS_EXT_DOM_GCC_CLT_EMAIL EDCL ON (EDCL.CLI_CHRONO=ACT.CLI_CHRONO)   LEFT JOIN FUS_EXT_DOM_COMPTE_EMAIL  EDC ON (EDCL.CPT_EMAIL=EDC.CPT_EMAIL)  WHERE (CL.CLI_FAMILLE='DOM' OR CL.CLI_CATEGORIE='NDOM')  GROUP BY       NVL(TO_CHAR(ACT.CLI_CHRONO),'NRE'),      to_char(CTX.CONT_DATE_CREATION,'yyyyMMdd'),      'C-'||TO_CHAR(CONT_CHRONO_CONTRAT),      CTX.CONT_CHRONO_DOSSIER,      CASE WHEN CTX.CONT_ETAT_DOSSIER  =  'ENCRS' THEN 1 ELSE 0 END, \\t NVL(UPPER(ACT.CLI_E_MAIL),'NRE'), \\t NVL(TO_CHAR(CSO.CONSO_CONSO_ANN),'NRE'), \\t NVL(TO_CHAR(SOUS.SOUS_ID), 'NRE'), \\t NVL(TO_CHAR(EDC.CPT_ID), 'NRE'), \\t CASE WHEN ACT.CLI_CHRONO is not null  THEN 1 ELSE 0 END ) EKI_MKT_FACT_CONTENTIEUX</td>\n",
       "    </tr>\n",
       "    <tr>\n",
       "      <th>9</th>\n",
       "      <td>PLE</td>\n",
       "      <td>Select * FROM T1,T2 Where T1.ID=T2.FK_ID</td>\n",
       "    </tr>\n",
       "  </tbody>\n",
       "</table>\n",
       "</div>"
      ],
      "text/plain": [
       "  projet  \\\n",
       "0    ATP   \n",
       "1    ATP   \n",
       "2    ATP   \n",
       "3    ATP   \n",
       "4    ATP   \n",
       "5    ATP   \n",
       "6    ATP   \n",
       "7    PLE   \n",
       "8    PLE   \n",
       "9    PLE   \n",
       "\n",
       "                                                                                                                                                                                                                                                                                                                                                                                                                                                                                                                                                                                                                                                                                                                                                                                                                                                                                                                                                                                                                                                                                                                                                                                                                                                                                                                                                                                                                                                                                                                                                                                                                                                                                                                                                                                                                                                                                                                                                                                                                                                                                                                                                                                                                                                                                                                                                                                                                                                                                                                                                                                                                                                                                                                                                                                                                                                                                                                                                                                                                                                                                                                                                                                                                                                                                                                                                                                                                                                                                                                                                                                                                                                                                                                                                                                                                                                                                                                                                                                                                                                                                                                                                                                                                                                                                                                                                                                                                                                                                                                                                                                                                                                                                                                                                                                                                                                                                                                                                                                                                                                                                                                                                                                                                                                                                                                                                                                                                                                                                                                                                                                                                                                                                                                                                                                                                                                                                                                                                                                                                                                                                                                                                                                                                                                                                                                                                                                                                                                                                                                                                                                                                                                                                                                                                                                                                                                                                                                                                                                                                                                                                                                                                                                                                                                                                                                                                            requete_sql  \n",
       "0                                                                                                                                                                                                                                                                                                                                                                                                                                                                                                                                                                                                                                                                                                                                                                                                                                                                                                                                                                                                                                                                                                                                                                                                                                                                                                                                                                                                                                                                                                                                                                                                                                                                                                                                                                                                                                                                                                                                                                                                                                                                                                                                                                                                                                                                                                                                                                                                                                                                                                                                                                                                                                                                                                                                                                                                                                                                                                                                                                                                                                                                                                                                                                                                                                                                                                                                                                                                                                                                                                                                                                                                                                                                                                                                                                                                                                                                                                                                                                                                                                                                                                                                                                                                                                                                                                                                                                                                                                                                                                                                                                                                                                                                                                                                                                                                                                                                                                                                                                                                                                                                                                                                                                                                                                                                                                                                                                                                                                                                                                                                                                                                                                                                                                                                                                                                                                                                                                                                                                                                                                                                                                                                                                                                                                                                                                                                                                                                                                                                                                                                                                                                                                                                                                                                                                                                                                                                                                                                                                                                                                                                                                                                                                                                                                                                                              select * from (select nom, adresse from Immeuble where id=1) as Koudalou  \n",
       "1                                                                                                                                                                                                                                                                                                                                                                                                                                                                                                                                                                                                                                                                                                                                                                                                                                                                                                                                                                                                                                                                                                                                                                                                                                                                                                                                                                                                                                                                                                                                                                                                                                                                                                                                                                                                                                                                                                                                                                                                                                                                                                                                                                                                                                                                                                                                                                                                                                                                                                                                                                                                                                                                                                                                                                                                                                                                                                                                                                                                                                                                                                                                                                                                                                                                                                                                                                                                                                                                                                                                                                                                                                                                                                                                                                                                                                                                                                                                                                                                                                                                                                                                                                                                                                                                                                                                                                                                                                                                                                                                                                                                                                                                                                                                                                                                                                                                                                                                                                                                                                                                                                                                                                                                                                                                                                                                                                                                                                                                                                                                                                                                                                                                                                                                                                                                                                                                                                                                                                                                                                                                                                                                                                                                                                                                                                                                                                                                                                                                                                                                                                                                                                                                                                                                                                                                                                                                                                                                                                                                                                                                                                                                                                                                                                                                                                                                                   SELECT * FROM Table  \n",
       "2                                                                                                                                                                                                                                                                                                                                                                                                                                                                                                                                                                                                                                                                                                                                                                                                                                                                                                                                                                                                                                                                                                                                                                                                                                                                                                                                                                                                                                                                                                                                                                                                                                                                                                                                                                                                                                                                                                                                                                                                                                                                                                                                                                                                                                                                                                                                                                                                                                                                                                                                                                                                                                                                                                                                                                                                                                                                                                                                                                                                                                                                                                                                                                                                                                                                                                                                                                                                                                                                                                                                                                                                                                                                                                                                                                                                                                                                                                                                                                                                                                                                                                                                                                                                                                                                                                                                                                                                                                                                                                                                                                                                                                                                                                                                                                                                                                                                                                                                                                                                                                                                                                                                                                                                                                                                                                                                                                                                                                                                                                                                                                                                                                                                                                                                                                                                                                                                                                                                                                                                                                                                                                                                                                                                                                                                                                                                                                                                                                                                                                                                                                                                                                                                                                                                                                                                                                                                                                                                                                                                                                                                                                                                                                                                                                  SELECT * FROM question WHERE q_id IN (SELECT r_fk_question_id FROM reponse WHERE r_date_ajout BETWEEN  2013-01-01  AND  2013-12-31 )  \n",
       "3                                                                                                                                                                                                                                                                                                                                                                                                                                                                                                                                                                                                                                                                                                                                                                                                                                                                                                                                                                                                                                                                                                                                                                                                                                                                                                                                                                                                                                                                                                                                                                                                                                                                                                                                                                                                                                                                                                                                                                                                                                                                                                                                                                                                                                                                                                                                                                                                                                                                                                                                                                                                                                                                                                                                                                                                                                                                                                                                                                                                                                                                                                                                                                                                                                                                                                                                                                                                                                                                                                                                                                                                                                                                                                                                                                                                                                                                                                                                                                                                                                                                                                                                                                                                                                                                                                                                                                                                                                                                                                                                                                                                                                                                                                                                                                                                                                                                                                                                                                                                                                                                                                                                                                                                                                                                                                                                                                                                                                                                                                                                                                                                                                                                                                                                                                                                                                                                                                                                                                                                                                                                                                                                                                                                                                                                                                                                                                                                                                                                                                                                                                                                                                                                                                                                                                                                                                                                                                                                                                                                                                                                                                                                                                                                                                      SELECT sum(a.Population)FROM travail.communes64 AS a WHERE EXISTS(SELECT * FROM travail.communes64 AS b WHERE b.Population > 10)  \n",
       "4                                                                                                                                                                                                                                                                                                                                                                                                                                                                                                                                                                                                                                                                                                                                                                                                                                                                                                                                                                                                                                                                                                                                                                                                                                                                                                                                                                                                                                                                                                                                                                                                                                                                                                                                                                                                                                                                                                                                                                                                                                                                                                                                                                                                                                                                                                                                                                                                                                                                                                                                                                                                                                                                                                                                                                                                                                                                                                                                                                                                                                                                                                                                                                                                                                                                                                                                                                                                                                                                                                                                                                                                                                                                                                                                                                                                                                                                                                                                                                                                                                                                                                                                                                                                                                                                                                                                                                                                                                                                                                                                                                                                                                                                                                                                                                                                                                                                                                                                                                                                                                                                                                                                                                                                                                                                                                                                                                                                                                                                                                                                                                                                                                                                                                                                                                                                                                                                                                                                                                                                                                                                                                                                                                                                                                                                                                                                                                                                                                                                                                                                                                                                                                                                                                                                                                                                                                                                                                                                                                                                                                                                                                                               SELECT timestamp, log_id, severity, json_payload, resource, labels FROM TABLE WHERE timestamp > TIMESTAMP_SUB(CURRENT_TIMESTAMP(), INTERVAL 1 HOUR) AND log_id = cloudaudit.googleapis.com/data_access ORDER BY timestamp ASC LIMIT 100  \n",
       "5                                                                                                                                                                                                                                                                                                                                                                                                                                                                                                                                                                                                                                                                                                                                                                                                                                                                                                                                                                                                                                                                                                                                                                                                                                                                                                                                                                                                                                                                                                                                                                                                                                                                                                                                                                                                                                                                                                                                                                                                                                                                                                                                                                                                                                                                                                                                                                                                                                                                                                                                                                                                                                                                                                                                                                                                                                                                                                                                                                                                                                                                                                                                                                                                                                                                                                                                                                                                                                                                                                                                                                                                                                                                                                                                                                                                                                                                                                                                                                                                                                                                                                                                                                                                                                                                                                                                                                                                                                                                                                                                                                                                                                                                                                                                                                                                                                                                                                                                                                                                                                                                                                                                                                                                                                                                                                                                                                                                                                                                                                                                                                                                                                                                                                                                                                                                                                                                                                                                                                                                                                                                                                                                                                                                                                                                                                                                                                                                                                                                                                                                                                                                                                                                                                                                                                                                                                                                                                                                                                                                                                                                               SELECT * FROM Orders WHERE CustomerID IN (SELECT CustomerID FROM Customers WHERE Country = 'USA' AND City IN (SELECT DISTINCT ShipCity FROM Shippers WHERE ShipperID IN (SELECT ShipperID FROM OrderDetails WHERE ProductID IN (SELECT ProductID FROM Products WHERE CategoryID = 1))))  \n",
       "6                                                                                                                                                                                                                                                                                                                                                                                                                                                                                                                                                                                                                                                                                                                                                                                                                                                                                                                                                                                                                                                                                                                                                                                                                                                                                                                                                                                                                                                                                                                                                                                                                                                                                                                                                                                                                                                                                                                                                                                                                                                                                                                                                                                                                                                                                                                                                                                                                                                                                                                                                                                                                                                                                                                                                                                                                                                                                                                                                                                                                                                                                                                                                                                                                                                                                                                                                                                                                                                                                                                                                                                                                                                                                                                                                                                                                                                                                                                                                                                                                                                                                                                                                                                                                                                                                                                                                                                                                                                                                                                                                                                                                                                                                                                                                                                                                                                                                                                                                                                                                                                                                                                                                                                                                                                                                                                                                                                                                                                                                                                                                                                                                                                                                                                                                                                                                                                                                                                                                                                                                                                                                                                                                                                                                                                                                                                                                                                                                                                                                                                                                                                                                                                                                                                                                                                                                                                 SELECT COUNT(count_table.mois) FROM(SELECT st.mois, st.pays, st.somme_transactions, stm.somme_transactions FROM (\\tSELECT EXTRACT(MONTH FROM t.date) AS mois, c.pays, SUM(t.montant) AS somme_transactions\\t\\tFROM transaction t\\tINNER JOIN city cON t.ville = c.villeGROUP BY mois, c.pays) stINNER JOIN somme_transactions_mois stm ON st.mois = stm.mois AND st.pays = stm.pays WHERE st.somme_transactions != stm.somme_transactions ORDER BY st.mois ASC, st.pays ASC) AS count_table GROUP BY count_table.mois  \n",
       "7   SELECT \\tTDI_D01 as TDI_D01, \\tTDI_D02 as TDI_D02, \\tTDI_D03 as TDI_D03, \\tTDI_D04 as TDI_D04, \\tTDI_D05 as TDI_D05, \\tTDI_D06 as TDI_D06, \\tTDI_D07 as TDI_D07, \\tnull as TDI_D08, \\tTDI_D09 as TDI_D09, \\tTDI_D10 as TDI_D10, \\tTDI_D11 as TDI_D11, \\tTDI_D12 as TDI_D12, \\tnull as TDI_D13, \\tnull as TDI_D14, \\tnull as TDI_D15, \\tnull AS TDI_D16, \\tnull AS TDI_D17, \\tnull AS TDI_D18, \\tnull AS TDI_D19, \\tnull AS TDI_D20, \\tnull AS TDI_D21, \\tnull AS TDI_D22, \\tnull AS TDI_D23, \\tnull AS TDI_D24, \\tnull AS TDI_D25, \\tnull AS TDI_D26, \\tnull AS TDI_D27, \\tnull AS TDI_D28, \\tnull AS TDI_D29, \\tnull AS TDI_D30, \\tTDI_I01 as TDI_I01, \\tTDI_I02 as TDI_I02, \\tTDI_I03 as TDI_I03, \\tTDI_I04 AS TDI_I04, \\tNULL AS TDI_I05, \\tNULL AS TDI_I06, \\tNULL AS TDI_I07, \\tNULL AS TDI_I08, \\tNULL AS TDI_I09, \\tNULL AS TDI_I10, \\tNULL AS TDI_I11, \\tNULL AS TDI_I12, \\tNULL AS TDI_I13, \\tNULL AS TDI_I14, \\tNULL AS TDI_I15, \\tNULL AS TDI_I16, \\tNULL AS TDI_I17, \\tNULL AS TDI_I18, \\tNULL AS TDI_I19, \\tNULL AS TDI_I20 FROM (  SELECT     to_char(CTX.CONT_DATE_CREATION,'yyyyMMdd') AS TDI_D01,     41 as TDI_D02,     CASE WHEN (SUM(CASE WHEN (NVL(THT.ADRC_COM_CONCESS,'N') = 'O') THEN 1 ELSE 0 END)>=1 AND SUM(CASE WHEN (NVL(THT.ADRC_COM_CONCESS,'N') <> 'O') THEN 1 ELSE 0 END)=0) THEN 'T' ELSE         (CASE WHEN (SUM(CASE WHEN (NVL(THT.ADRC_COM_CONCESS,'N') = 'O') THEN 1 ELSE 0 END)=0 AND SUM(CASE WHEN (NVL(THT.ADRC_COM_CONCESS,'N') <> 'O') THEN 1 ELSE 0 END)>=1) THEN 'HT' ELSE            (CASE WHEN (SUM(CASE WHEN (NVL(THT.ADRC_COM_CONCESS,'N') = 'O') THEN 1 ELSE 0 END)>=1 AND SUM(CASE WHEN (NVL(THT.ADRC_COM_CONCESS,'N') <> 'O') THEN 1 ELSE 0 END)>=1) THEN 'MIXTE' ELSE \\t\\t\\t'NRE' END) END) END AS  TDI_D03,      NVL(TO_CHAR(ACT.CLI_CHRONO),'NRE') AS TDI_D04,      'C-'||TO_CHAR(CTX.CONT_CHRONO_CONTRAT) as TDI_D05,      NVL(TO_CHAR(SOUS.SOUS_ID), 'NRE') as TDI_D06,      NVL(TO_CHAR(EDC.CPT_ID), 'NRE') as TDI_D07,      'NRE' AS TDI_D09,      NVL(UPPER(ACT.CLI_E_MAIL),'NRE') AS TDI_D10,      NVL(TO_CHAR(CSO.CONSO_CONSO_ANN),'NRE') as TDI_D11,      CTX.CONT_CHRONO_DOSSIER AS TDI_D12,     1 AS TDI_I01,     CASE WHEN CTX.CONT_ETAT_DOSSIER  =  'ENCRS' THEN 1 ELSE 0 END AS TDI_I02,     COUNT(DISTINCT ACT.CLI_CHRONO) AS TDI_I03, \\tCASE WHEN ACT.CLI_CHRONO is not null  THEN 1 ELSE 0 END AS TDI_I04      FROM FUS_CONTENTIEUX CTX     LEFT JOIN SIM_GCC_CLIENTS CL ON (CTX.CONT_CHRONO_CLIENT=CL.CLI_CHRONO)      \\t-- Calcul Client actif     LEFT JOIN (             select                  c.con_chrono,  \\t\\t\\t\\tCL.CLI_CHRONO,  \\t\\t\\t\\tECTR_CODE_ETAT,  \\t\\t\\t\\tactif,  \\t\\t\\t\\tdvl.date_debut,  \\t\\t\\t\\tdvl.date_fin, \\t\\t\\t\\tCLI_E_MAIL             from SIM_GCD_CONTRAT C                 INNER JOIN DVL_GCD_ETATS_CONTRAT DVL ON (C.CON_CHRONO=DVL.CON_CHRONO)                 INNER JOIN SIM_GCC_CLIENTS CL ON (CL.CLI_CHRONO=C.CLI_CHRONO AND (CLI_FAMILLE='DOM' OR CLI_CATEGORIE='NDOM'))             where DVL.ECTR_CODE_ETAT IN ('A', 'F') AND CL.CLI_CHRONO IS NOT NULL \\t\\t\\t) ACT ON (ACT.CLI_CHRONO=CL.CLI_CHRONO AND CTX.CONT_DATE_CREATION BETWEEN ACT.DATE_DEBUT AND ACT.DATE_FIN)      \\tLEFT JOIN SIM_GCT_ADR_EN_CLAIR A ON (CL.CLI_ADR_CHRONO=A.ADRC_CHRONO)     LEFT JOIN SIM_GCD_CONTRAT C ON (CONT_CHRONO_CONTRAT=C.CON_CHRONO) \\t \\t-- Récupération du contrat associé \\t     LEFT JOIN ( \\t\\t\\tSELECT  \\t\\t\\t\\tSIM_GCD_CONTRAT.CON_CHRONO AS CON_CHRONO,  \\t\\t\\t\\tMAX(SIM_GCD_COND_ADMIN.CADM_TYPE_PAIEMENT) AS TYPE_PAIEMENT \\t\\t\\tFROM SIM_GCD_CONTRAT \\t\\t\\t\\tINNER JOIN SIM_GCD_ENT_PREST ON (SIM_GCD_CONTRAT.CON_CHRONO=SIM_GCD_ENT_PREST.CON_CHRONO) \\t\\t\\t\\tINNER JOIN SIM_GCD_COND_ADMIN ON (SIM_GCD_COND_ADMIN.CADM_CHRONO=SIM_GCD_ENT_PREST.CADM_CHRONO) \\t\\t\\tGROUP BY SIM_GCD_CONTRAT.CON_CHRONO \\t\\t\\t) TP ON (C.CON_CHRONO = TP.CON_CHRONO) \\t\\t\\t     LEFT JOIN SIM_GCC_COMMUNES CO ON (CO.COM_CODE = A.ADRC_COM_CODE)     LEFT JOIN ODS_COMMUNES OC ON (OC.CODE_INSEE = nvl(CO.COM_CODE_INSEE,'NRE'))     LEFT JOIN FUS_KPI_CONTENTIEUX EK ON (EK.CONT_CHRONO_DOSSIER = CTX.CONT_CHRONO_DOSSIER)      \\tLEFT JOIN ( \\t\\t\\t\\tSELECT MAX(EPT_CHRONO) AS EPT_CHRONO,  \\t\\t\\t\\t\\t\\tEPT_NATURE_PREST AS EPT_NATURE_PREST,  \\t\\t\\t\\t\\t\\tCON_CHRONO AS CON_CHRONO \\t\\t\\t\\tFROM SIM_GCD_ENT_PREST \\t\\t\\t\\tGROUP BY EPT_NATURE_PREST, CON_CHRONO \\t\\t\\t\\t) EP ON (EP.CON_CHRONO=C.CON_CHRONO AND EP.EPT_NATURE_PREST = 'GAZ NATUREL') \\t \\tLEFT JOIN ( \\t\\t\\t\\tSELECT MAX(AVE_CHRONO) AS AVE_CHRONO,  \\t\\t\\t\\t\\tEPT_CHRONO AS EPT_CHRONO \\t\\t\\t\\tFROM SIM_GCD_DET_PREST \\t\\t\\t\\tGROUP BY EPT_CHRONO \\t\\t\\t\\t) AV ON (AV.EPT_CHRONO=EP.EPT_CHRONO)       \\tLEFT JOIN SIM_GCD_DET_PREST DP ON (DP.EPT_CHRONO=AV.EPT_CHRONO AND DP.AVE_CHRONO=AV.AVE_CHRONO AND (CONT_DATE_CREATION BETWEEN DP.DPT_DATE_DEBUT AND NVL(DP.DPT_DATE_FIN,to_date('31122045','ddMMyyyy'))))     LEFT JOIN SIM_GCD_TARIF TA ON (TA.TAR_CHRONO= DP.TAR_CHRONO)     LEFT JOIN SIM_GCD_DPREST_PTS DPS ON (DPS.DPT_CHRONO=DP.DPT_CHRONO)     LEFT JOIN SIM_GCD_PTS PT ON (PT.PTS_CHRONO=DPS.PTS_CHRONO)     LEFT JOIN SIM_GCT_ADR_EN_CLAIR THT ON (THT.ADRC_CHRONO=PT.PTS_ADR_CHRONO and THT.ADRC_TYP=PT.PTS_ADR_TYPE)  \\t-- Nouvelle Formule jointure Souscription \\t \\tLEFT JOIN ( \\t\\tSelect SOUS_ID, \\t\\t\\t\\tSOUS_CLI_CHRONO_CREE, \\t\\t\\t\\tSOUS_CON_CHRONO_CREE, \\t\\t\\t\\tRANK () OVER(PARTITION BY SOUS_CLI_CHRONO_CREE, SOUS_CON_CHRONO_CREE \\t\\t\\t\\tORDER BY SOUS_DATE_CREATION DESC) as RANK_SOUS \\t\\t\\tFROM FUS_SOUSCRIPTION \\t\\t\\tWHERE SOUS_CLI_CHRONO_CREE is not null and SOUS_CON_CHRONO_CREE is not null) SOUS ON (SOUS.SOUS_CLI_CHRONO_CREE=ACT.CLI_CHRONO and SOUS_CON_CHRONO_CREE=CTX.CONT_CHRONO_CONTRAT And RANK_SOUS=1) \\t\\t\\t   --- Extension Consommation Annuelle    \\tLEFT JOIN (SELECT  \\t\\t\\tCL.CLI_CHRONO, \\t\\t\\tC.CON_CHRONO, \\t\\t\\tSUM(CSO.CONSO_CONSO_ANN) AS CONSO_CONSO_ANN \\t\\tFROM FUS_PRESTATION \\t\\t\\tINNER JOIN SIM_GCD_CONTRAT C ON (PRESTA_CON_CHRONO=C.CON_CHRONO) \\t\\t\\tINNER JOIN SIM_GCC_CLIENTS CL ON (CL.CLI_CHRONO=C.CLI_CHRONO) \\t\\t\\tINNER JOIN SIM_GCD_PTS PTS ON (FUS_PRESTATION.PRESTA_PTS_CHRONO=PTS.PTS_CHRONO) \\t\\t\\tLEFT JOIN SIM_GCD_CONSOMME CSO ON (CSO.CLI_CHRONO = CL.CLI_CHRONO AND CSO.PTS_CHRONO = PTS.PTS_CHRONO) \\t\\tWHERE (CL.CLI_FAMILLE='DOM' OR CL.CLI_CATEGORIE='NDOM') and  \\t\\t\\tPRESTA_TAR_CHRONO is not null and \\t\\t\\tsysdate between DPT_DATE_DEBUT and NVL(DPT_DATE_FIN,TO_DATE('29990101','yyyyMMdd')) \\t\\tGROUP BY CL.CLI_CHRONO,C.CON_CHRONO) CSO ON (CSO.CLI_CHRONO=ACT.CLI_CHRONO and CSO.CON_CHRONO=CTX.CONT_CHRONO_CONTRAT) \\t\\t   --- Récupération Extranet DOM      LEFT JOIN FUS_EXT_DOM_GCC_CLT_EMAIL EDCL ON (EDCL.CLI_CHRONO=ACT.CLI_CHRONO)   LEFT JOIN FUS_EXT_DOM_COMPTE_EMAIL  EDC ON (EDCL.CPT_EMAIL=EDC.CPT_EMAIL)  WHERE (CL.CLI_FAMILLE='DOM' OR CL.CLI_CATEGORIE='NDOM')  GROUP BY       NVL(TO_CHAR(ACT.CLI_CHRONO),'NRE'),      to_char(CTX.CONT_DATE_CREATION,'yyyyMMdd'),      'C-'||TO_CHAR(CONT_CHRONO_CONTRAT),      CTX.CONT_CHRONO_DOSSIER,      CASE WHEN CTX.CONT_ETAT_DOSSIER  =  'ENCRS' THEN 1 ELSE 0 END, \\t NVL(UPPER(ACT.CLI_E_MAIL),'NRE'), \\t NVL(TO_CHAR(CSO.CONSO_CONSO_ANN),'NRE'), \\t NVL(TO_CHAR(SOUS.SOUS_ID), 'NRE'), \\t NVL(TO_CHAR(EDC.CPT_ID), 'NRE'), \\t CASE WHEN ACT.CLI_CHRONO is not null  THEN 1 ELSE 0 END ) EKI_MKT_FACT_CONTENTIEUX  \n",
       "8                                                                                                                                                                                  SELECT \\tTDI_D01 as TDI_D01, \\tTDI_D02 as TDI_D02, \\tTDI_D03 as TDI_D03, \\tTDI_D04 as TDI_D04, \\tTDI_D05 as TDI_D05, \\tTDI_D06 as TDI_D06, \\tTDI_D07 as TDI_D07, \\tnull as TDI_D08, \\tTDI_D09 as TDI_D09, \\tTDI_D10 as TDI_D10, \\tTDI_D11 as TDI_D11, \\tTDI_D12 as TDI_D12, \\tnull as TDI_D13, \\tnull as TDI_D14, \\tnull as TDI_D15, \\tnull AS TDI_D16, \\tnull AS TDI_D17, \\tnull AS TDI_D18, \\tnull AS TDI_D19, \\tnull AS TDI_D20, \\tnull AS TDI_D21, \\tnull AS TDI_D22, \\tnull AS TDI_D23, \\tnull AS TDI_D24, \\tnull AS TDI_D25, \\tnull AS TDI_D26, \\tnull AS TDI_D27, \\tnull AS TDI_D28, \\tnull AS TDI_D29, \\tnull AS TDI_D30, \\tTDI_I01 as TDI_I01, \\tTDI_I02 as TDI_I02, \\tTDI_I03 as TDI_I03, \\tTDI_I04 AS TDI_I04, \\tNULL AS TDI_I05, \\tNULL AS TDI_I06, \\tNULL AS TDI_I07, \\tNULL AS TDI_I08, \\tNULL AS TDI_I09, \\tNULL AS TDI_I10, \\tNULL AS TDI_I11, \\tNULL AS TDI_I12, \\tNULL AS TDI_I13, \\tNULL AS TDI_I14, \\tNULL AS TDI_I15, \\tNULL AS TDI_I16, \\tNULL AS TDI_I17, \\tNULL AS TDI_I18, \\tNULL AS TDI_I19, \\tNULL AS TDI_I20 FROM (  SELECT     to_char(CTX.CONT_DATE_CREATION,'yyyyMMdd') AS TDI_D01,     41 as TDI_D02,     CASE WHEN (SUM(CASE WHEN (NVL(THT.ADRC_COM_CONCESS,'N') = 'O') THEN 1 ELSE 0 END)>=1 AND SUM(CASE WHEN (NVL(THT.ADRC_COM_CONCESS,'N') <> 'O') THEN 1 ELSE 0 END)=0) THEN 'T' ELSE         (CASE WHEN (SUM(CASE WHEN (NVL(THT.ADRC_COM_CONCESS,'N') = 'O') THEN 1 ELSE 0 END)=0 AND SUM(CASE WHEN (NVL(THT.ADRC_COM_CONCESS,'N') <> 'O') THEN 1 ELSE 0 END)>=1) THEN 'HT' ELSE            (CASE WHEN (SUM(CASE WHEN (NVL(THT.ADRC_COM_CONCESS,'N') = 'O') THEN 1 ELSE 0 END)>=1 AND SUM(CASE WHEN (NVL(THT.ADRC_COM_CONCESS,'N') <> 'O') THEN 1 ELSE 0 END)>=1) THEN 'MIXTE' ELSE \\t\\t\\t'NRE' END) END) END AS  TDI_D03,      NVL(TO_CHAR(ACT.CLI_CHRONO),'NRE') AS TDI_D04,      'C-'||TO_CHAR(CTX.CONT_CHRONO_CONTRAT) as TDI_D05,      NVL(TO_CHAR(SOUS.SOUS_ID), 'NRE') as TDI_D06,      NVL(TO_CHAR(EDC.CPT_ID), 'NRE') as TDI_D07,      'NRE' AS TDI_D09,      NVL(UPPER(ACT.CLI_E_MAIL),'NRE') AS TDI_D10,      NVL(TO_CHAR(CSO.CONSO_CONSO_ANN),'NRE') as TDI_D11,      CTX.CONT_CHRONO_DOSSIER AS TDI_D12,     1 AS TDI_I01,     CASE WHEN CTX.CONT_ETAT_DOSSIER  =  'ENCRS' THEN 1 ELSE 0 END AS TDI_I02,     COUNT(DISTINCT ACT.CLI_CHRONO) AS TDI_I03, \\tCASE WHEN ACT.CLI_CHRONO is not null  THEN 1 ELSE 0 END AS TDI_I04      FROM FUS_CONTENTIEUX CTX     LEFT JOIN SIM_GCC_CLIENTS CL ON (CTX.CONT_CHRONO_CLIENT=CL.CLI_CHRONO)           LEFT JOIN (             select                  c.con_chrono,  \\t\\t\\t\\tCL.CLI_CHRONO,  \\t\\t\\t\\tECTR_CODE_ETAT,  \\t\\t\\t\\tactif,  \\t\\t\\t\\tdvl.date_debut,  \\t\\t\\t\\tdvl.date_fin, \\t\\t\\t\\tCLI_E_MAIL             from SIM_GCD_CONTRAT C                 INNER JOIN DVL_GCD_ETATS_CONTRAT DVL ON (C.CON_CHRONO=DVL.CON_CHRONO)                 INNER JOIN SIM_GCC_CLIENTS CL ON (CL.CLI_CHRONO=C.CLI_CHRONO AND (CLI_FAMILLE='DOM' OR CLI_CATEGORIE='NDOM'))             where DVL.ECTR_CODE_ETAT IN ('A', 'F') AND CL.CLI_CHRONO IS NOT NULL \\t\\t\\t) ACT ON (ACT.CLI_CHRONO=CL.CLI_CHRONO AND CTX.CONT_DATE_CREATION BETWEEN ACT.DATE_DEBUT AND ACT.DATE_FIN)      \\tLEFT JOIN SIM_GCT_ADR_EN_CLAIR A ON (CL.CLI_ADR_CHRONO=A.ADRC_CHRONO)     LEFT JOIN SIM_GCD_CONTRAT C ON (CONT_CHRONO_CONTRAT=C.CON_CHRONO) \\t \\t     LEFT JOIN ( \\t\\t\\tSELECT  \\t\\t\\t\\tSIM_GCD_CONTRAT.CON_CHRONO AS CON_CHRONO,  \\t\\t\\t\\tMAX(SIM_GCD_COND_ADMIN.CADM_TYPE_PAIEMENT) AS TYPE_PAIEMENT \\t\\t\\tFROM SIM_GCD_CONTRAT \\t\\t\\t\\tINNER JOIN SIM_GCD_ENT_PREST ON (SIM_GCD_CONTRAT.CON_CHRONO=SIM_GCD_ENT_PREST.CON_CHRONO) \\t\\t\\t\\tINNER JOIN SIM_GCD_COND_ADMIN ON (SIM_GCD_COND_ADMIN.CADM_CHRONO=SIM_GCD_ENT_PREST.CADM_CHRONO) \\t\\t\\tGROUP BY SIM_GCD_CONTRAT.CON_CHRONO \\t\\t\\t) TP ON (C.CON_CHRONO = TP.CON_CHRONO) \\t\\t\\t     LEFT JOIN SIM_GCC_COMMUNES CO ON (CO.COM_CODE = A.ADRC_COM_CODE)     LEFT JOIN ODS_COMMUNES OC ON (OC.CODE_INSEE = nvl(CO.COM_CODE_INSEE,'NRE'))     LEFT JOIN FUS_KPI_CONTENTIEUX EK ON (EK.CONT_CHRONO_DOSSIER = CTX.CONT_CHRONO_DOSSIER)      \\tLEFT JOIN ( \\t\\t\\t\\tSELECT MAX(EPT_CHRONO) AS EPT_CHRONO,  \\t\\t\\t\\t\\t\\tEPT_NATURE_PREST AS EPT_NATURE_PREST,  \\t\\t\\t\\t\\t\\tCON_CHRONO AS CON_CHRONO \\t\\t\\t\\tFROM SIM_GCD_ENT_PREST \\t\\t\\t\\tGROUP BY EPT_NATURE_PREST, CON_CHRONO \\t\\t\\t\\t) EP ON (EP.CON_CHRONO=C.CON_CHRONO AND EP.EPT_NATURE_PREST = 'GAZ NATUREL') \\t \\tLEFT JOIN ( \\t\\t\\t\\tSELECT MAX(AVE_CHRONO) AS AVE_CHRONO,  \\t\\t\\t\\t\\tEPT_CHRONO AS EPT_CHRONO \\t\\t\\t\\tFROM SIM_GCD_DET_PREST \\t\\t\\t\\tGROUP BY EPT_CHRONO \\t\\t\\t\\t) AV ON (AV.EPT_CHRONO=EP.EPT_CHRONO)       \\tLEFT JOIN SIM_GCD_DET_PREST DP ON (DP.EPT_CHRONO=AV.EPT_CHRONO AND DP.AVE_CHRONO=AV.AVE_CHRONO AND (CONT_DATE_CREATION BETWEEN DP.DPT_DATE_DEBUT AND NVL(DP.DPT_DATE_FIN,to_date('31122045','ddMMyyyy'))))     LEFT JOIN SIM_GCD_TARIF TA ON (TA.TAR_CHRONO= DP.TAR_CHRONO)     LEFT JOIN SIM_GCD_DPREST_PTS DPS ON (DPS.DPT_CHRONO=DP.DPT_CHRONO)     LEFT JOIN SIM_GCD_PTS PT ON (PT.PTS_CHRONO=DPS.PTS_CHRONO)     LEFT JOIN SIM_GCT_ADR_EN_CLAIR THT ON (THT.ADRC_CHRONO=PT.PTS_ADR_CHRONO and THT.ADRC_TYP=PT.PTS_ADR_TYPE)  \\t \\tLEFT JOIN ( \\t\\tSelect SOUS_ID, \\t\\t\\t\\tSOUS_CLI_CHRONO_CREE, \\t\\t\\t\\tSOUS_CON_CHRONO_CREE, \\t\\t\\t\\tRANK () OVER(PARTITION BY SOUS_CLI_CHRONO_CREE, SOUS_CON_CHRONO_CREE \\t\\t\\t\\tORDER BY SOUS_DATE_CREATION DESC) as RANK_SOUS \\t\\t\\tFROM FUS_SOUSCRIPTION \\t\\t\\tWHERE SOUS_CLI_CHRONO_CREE is not null and SOUS_CON_CHRONO_CREE is not null) SOUS ON (SOUS.SOUS_CLI_CHRONO_CREE=ACT.CLI_CHRONO and SOUS_CON_CHRONO_CREE=CTX.CONT_CHRONO_CONTRAT And RANK_SOUS=1) \\t\\t\\t    \\tLEFT JOIN (SELECT  \\t\\t\\tCL.CLI_CHRONO, \\t\\t\\tC.CON_CHRONO, \\t\\t\\tSUM(CSO.CONSO_CONSO_ANN) AS CONSO_CONSO_ANN \\t\\tFROM FUS_PRESTATION \\t\\t\\tINNER JOIN SIM_GCD_CONTRAT C ON (PRESTA_CON_CHRONO=C.CON_CHRONO) \\t\\t\\tINNER JOIN SIM_GCC_CLIENTS CL ON (CL.CLI_CHRONO=C.CLI_CHRONO) \\t\\t\\tINNER JOIN SIM_GCD_PTS PTS ON (FUS_PRESTATION.PRESTA_PTS_CHRONO=PTS.PTS_CHRONO) \\t\\t\\tLEFT JOIN SIM_GCD_CONSOMME CSO ON (CSO.CLI_CHRONO = CL.CLI_CHRONO AND CSO.PTS_CHRONO = PTS.PTS_CHRONO) \\t\\tWHERE (CL.CLI_FAMILLE='DOM' OR CL.CLI_CATEGORIE='NDOM') and  \\t\\t\\tPRESTA_TAR_CHRONO is not null and \\t\\t\\tsysdate between DPT_DATE_DEBUT and NVL(DPT_DATE_FIN,TO_DATE('29990101','yyyyMMdd')) \\t\\tGROUP BY CL.CLI_CHRONO,C.CON_CHRONO) CSO ON (CSO.CLI_CHRONO=ACT.CLI_CHRONO and CSO.CON_CHRONO=CTX.CONT_CHRONO_CONTRAT) \\t\\t      LEFT JOIN FUS_EXT_DOM_GCC_CLT_EMAIL EDCL ON (EDCL.CLI_CHRONO=ACT.CLI_CHRONO)   LEFT JOIN FUS_EXT_DOM_COMPTE_EMAIL  EDC ON (EDCL.CPT_EMAIL=EDC.CPT_EMAIL)  WHERE (CL.CLI_FAMILLE='DOM' OR CL.CLI_CATEGORIE='NDOM')  GROUP BY       NVL(TO_CHAR(ACT.CLI_CHRONO),'NRE'),      to_char(CTX.CONT_DATE_CREATION,'yyyyMMdd'),      'C-'||TO_CHAR(CONT_CHRONO_CONTRAT),      CTX.CONT_CHRONO_DOSSIER,      CASE WHEN CTX.CONT_ETAT_DOSSIER  =  'ENCRS' THEN 1 ELSE 0 END, \\t NVL(UPPER(ACT.CLI_E_MAIL),'NRE'), \\t NVL(TO_CHAR(CSO.CONSO_CONSO_ANN),'NRE'), \\t NVL(TO_CHAR(SOUS.SOUS_ID), 'NRE'), \\t NVL(TO_CHAR(EDC.CPT_ID), 'NRE'), \\t CASE WHEN ACT.CLI_CHRONO is not null  THEN 1 ELSE 0 END ) EKI_MKT_FACT_CONTENTIEUX  \n",
       "9                                                                                                                                                                                                                                                                                                                                                                                                                                                                                                                                                                                                                                                                                                                                                                                                                                                                                                                                                                                                                                                                                                                                                                                                                                                                                                                                                                                                                                                                                                                                                                                                                                                                                                                                                                                                                                                                                                                                                                                                                                                                                                                                                                                                                                                                                                                                                                                                                                                                                                                                                                                                                                                                                                                                                                                                                                                                                                                                                                                                                                                                                                                                                                                                                                                                                                                                                                                                                                                                                                                                                                                                                                                                                                                                                                                                                                                                                                                                                                                                                                                                                                                                                                                                                                                                                                                                                                                                                                                                                                                                                                                                                                                                                                                                                                                                                                                                                                                                                                                                                                                                                                                                                                                                                                                                                                                                                                                                                                                                                                                                                                                                                                                                                                                                                                                                                                                                                                                                                                                                                                                                                                                                                                                                                                                                                                                                                                                                                                                                                                                                                                                                                                                                                                                                                                                                                                                                                                                                                                                                                                                                                                                                                                                                                                                                                                                              Select * FROM T1,T2 Where T1.ID=T2.FK_ID  "
      ]
     },
     "execution_count": 8,
     "metadata": {},
     "output_type": "execute_result"
    }
   ],
   "source": [
    "#lire les 10 premières lignes du dataframe\n",
    "df.head(10)"
   ]
  },
  {
   "cell_type": "markdown",
   "metadata": {},
   "source": [
    "## Test du sqlparse - ne traite pas la récupération des noms de table"
   ]
  },
  {
   "cell_type": "code",
   "execution_count": 16,
   "metadata": {},
   "outputs": [
    {
     "data": {
      "text/plain": [
       "['SELECT * FROM question WHERE q_id IN (SELECT r_fk_question_id FROM reponse WHERE r_date_ajout BETWEEN  2013-01-01  AND  2013-12-31 );',\n",
       " 'SELECT * FROM Table']"
      ]
     },
     "execution_count": 16,
     "metadata": {},
     "output_type": "execute_result"
    }
   ],
   "source": [
    "# Divise une chaîne contenant deux instructions SQL :\n",
    "raw = 'SELECT * FROM question WHERE q_id IN (SELECT r_fk_question_id FROM reponse WHERE r_date_ajout BETWEEN  2013-01-01  AND  2013-12-31 );SELECT * FROM Table'\n",
    "statements = sqlparse.split(raw)\n",
    "statements"
   ]
  },
  {
   "cell_type": "code",
   "execution_count": 15,
   "metadata": {},
   "outputs": [
    {
     "name": "stdout",
     "output_type": "stream",
     "text": [
      "SELECT *\n",
      "FROM question\n",
      "WHERE q_id IN\n",
      "    (SELECT r_fk_question_id\n",
      "     FROM reponse\n",
      "     WHERE r_date_ajout BETWEEN 2013-01-01 AND 2013-12-31 );\n"
     ]
    }
   ],
   "source": [
    "# Formater la première déclaration :\n",
    "first = statements[0]\n",
    "print(sqlparse.format(first, reindent=True, keyword_case='upper'))"
   ]
  },
  {
   "cell_type": "code",
   "execution_count": 16,
   "metadata": {},
   "outputs": [
    {
     "data": {
      "text/plain": [
       "[<DML 'select' at 0x2D326273340>,\n",
       " <Whitespace ' ' at 0x2D326272BC0>,\n",
       " <Wildcard '*' at 0x2D3262A8400>,\n",
       " <Whitespace ' ' at 0x2D3262A83A0>,\n",
       " <Keyword 'from' at 0x2D3262A84C0>,\n",
       " <Whitespace ' ' at 0x2D3262A8520>,\n",
       " <Identifier 'foo' at 0x2D326214F50>]"
      ]
     },
     "execution_count": 16,
     "metadata": {},
     "output_type": "execute_result"
    }
   ],
   "source": [
    "# Analyser une instruction SQL :\n",
    "parsed = sqlparse.parse('select * from foo')[0]\n",
    "parsed.tokens"
   ]
  },
  {
   "cell_type": "markdown",
   "metadata": {},
   "source": [
    "## Test sqlparser"
   ]
  },
  {
   "cell_type": "code",
   "execution_count": 23,
   "metadata": {},
   "outputs": [],
   "source": [
    "def extract_tables(sql):\n",
    "    tables = set()\n",
    "    \n",
    "    # Analyser la requête SQL pour obtenir un objet Token\n",
    "    tokens = sqlparse.parse(sql)\n",
    "    \n",
    "    # Vérifier s'il y a des erreurs de syntaxe\n",
    "    if not tokens:\n",
    "        raise Exception('extract_tables: SQL invalide.')\n",
    "\n",
    "    # Utiliser le premier objet Token (la première instruction SQL)\n",
    "    root_token = tokens[0]\n",
    "    \n",
    "    for item in root_token.tokens:\n",
    "        if isinstance(item, sqlparse.sql.Identifier):\n",
    "            tables.add(item.get_real_name())\n",
    "        elif isinstance(item, sqlparse.sql.IdentifierList):\n",
    "            # Appel récursif pour les identifiants imbriqués\n",
    "            tables.update(extract_tables(item))\n",
    "        elif isinstance(item, sqlparse.sql.Function):\n",
    "            # Gérer les fonctions pouvant référencer des tables\n",
    "            tables.update(extract_tables(item))\n",
    "\n",
    "    return tables\n",
    "\n",
    "\n"
   ]
  },
  {
   "cell_type": "code",
   "execution_count": 25,
   "metadata": {},
   "outputs": [
    {
     "name": "stdout",
     "output_type": "stream",
     "text": [
      "{'question'}\n"
     ]
    }
   ],
   "source": [
    "result=extract_tables(raw)\n",
    "print(result)"
   ]
  },
  {
   "cell_type": "markdown",
   "metadata": {},
   "source": [
    "## Test d'un nouvelle regex - non fonctionnelle pour toutes les requetes"
   ]
  },
  {
   "cell_type": "code",
   "execution_count": 9,
   "metadata": {},
   "outputs": [],
   "source": [
    "def extract_tables_from_query(query):\n",
    "    # Utilisation de sqlparse pour analyser la requête SQL\n",
    "    parsed = sqlparse.parse(query)\n",
    "\n",
    "    # Initialisation d'une liste pour stocker les noms de table\n",
    "    tables = []\n",
    "\n",
    "    # Fonction récursive pour extraire les tables des sous-requêtes\n",
    "    def extract_tables_recursive(tokens, ignore_aliases=False):\n",
    "        for token in tokens:\n",
    "            if isinstance(token, sqlparse.sql.Identifier):\n",
    "                # Ignorer les alias de colonne à l'intérieur des sous-requêtes\n",
    "                if not ignore_aliases:\n",
    "                    tables.append(str(token.get_real_name()))\n",
    "            elif isinstance(token, sqlparse.sql.IdentifierList):\n",
    "                for identifier in token.get_identifiers():\n",
    "                    extract_tables_recursive([identifier], ignore_aliases)\n",
    "            elif isinstance(token, sqlparse.sql.Function) and token.get_real_name().upper() == 'FROM':\n",
    "                # Vérifier si c'est une sous-requête\n",
    "                if '(' in token.value and ')' in token.value:\n",
    "                    # Extraire les tables de la sous-requête sans prendre en compte les alias\n",
    "                    subquery = token.value[token.value.find('(')+1:token.value.rfind(')')]\n",
    "                    extract_tables_recursive(sqlparse.parse(subquery)[0].tokens, ignore_aliases=True)\n",
    "                else:\n",
    "                    # Ce n'est pas une sous-requête, extraire les tables normalement\n",
    "                    for identifier in token.get_identifiers():\n",
    "                        extract_tables_recursive([identifier], ignore_aliases)\n",
    "            elif isinstance(token, sqlparse.sql.Parenthesis):\n",
    "                # Appel récursif pour traiter les sous-requêtes imbriquées\n",
    "                extract_tables_recursive(token.tokens, ignore_aliases)\n",
    "\n",
    "    # Parcours des éléments analysés pour extraire les noms de table\n",
    "    for stmt in parsed:\n",
    "        extract_tables_recursive(stmt.tokens)\n",
    "\n",
    "    return tables"
   ]
  },
  {
   "cell_type": "code",
   "execution_count": 10,
   "metadata": {},
   "outputs": [
    {
     "name": "stdout",
     "output_type": "stream",
     "text": [
      "Tables extraites (query) : ['T1', 'T2']\n",
      "Tables extraites (query2) : ['Koudalou']\n",
      "Tables extraites (query3) : ['TDI_D01', 'TDI_D02', 'TDI_D03', 'TDI_D04', 'TDI_D05', 'TDI_D06', 'TDI_D07', 'TDI_D08', 'TDI_D09', 'TDI_D10', 'TDI_D11', 'TDI_D12', 'TDI_D13', 'TDI_D14', 'TDI_D15', 'TDI_D16', 'TDI_D17', 'TDI_D18', 'TDI_D19', 'TDI_D20', 'TDI_D21', 'TDI_D22', 'TDI_D23', 'TDI_D24', 'TDI_D25', 'TDI_D26', 'TDI_D27', 'TDI_D28', 'TDI_D29', 'TDI_D30', 'TDI_I01', 'TDI_I02', 'TDI_I03', 'TDI_I04', 'TDI_I05', 'TDI_I06', 'TDI_I07', 'TDI_I08', 'TDI_I09', 'TDI_I10', 'TDI_I11', 'TDI_I12', 'TDI_I13', 'TDI_I14', 'TDI_I15', 'TDI_I16', 'TDI_I17', 'TDI_I18', 'TDI_I19', 'TDI_I20', 'EKI_MKT_FACT_CONTENTIEUX']\n"
     ]
    }
   ],
   "source": [
    "# Exemple d'utilisation avec votre requête\n",
    "query = \"Select * FROM T1,T2 Where T1.ID=T2.FK_ID\"\n",
    "query2=\"select * from (select nom, adresse from Immeuble where id=1) as Koudalou\"\n",
    "query3=\"SELECT \tTDI_D01 as TDI_D01, \tTDI_D02 as TDI_D02, \tTDI_D03 as TDI_D03, \tTDI_D04 as TDI_D04, \tTDI_D05 as TDI_D05, \tTDI_D06 as TDI_D06, \tTDI_D07 as TDI_D07, \tnull as TDI_D08, \tTDI_D09 as TDI_D09, \tTDI_D10 as TDI_D10, \tTDI_D11 as TDI_D11, \tTDI_D12 as TDI_D12, \tnull as TDI_D13, \tnull as TDI_D14, \tnull as TDI_D15, \tnull AS TDI_D16, \tnull AS TDI_D17, \tnull AS TDI_D18, \tnull AS TDI_D19, \tnull AS TDI_D20, \tnull AS TDI_D21, \tnull AS TDI_D22, \tnull AS TDI_D23, \tnull AS TDI_D24, \tnull AS TDI_D25, \tnull AS TDI_D26, \tnull AS TDI_D27, \tnull AS TDI_D28, \tnull AS TDI_D29, \tnull AS TDI_D30, \tTDI_I01 as TDI_I01, \tTDI_I02 as TDI_I02, \tTDI_I03 as TDI_I03, \tTDI_I04 AS TDI_I04, \tNULL AS TDI_I05, \tNULL AS TDI_I06, \tNULL AS TDI_I07, \tNULL AS TDI_I08, \tNULL AS TDI_I09, \tNULL AS TDI_I10, \tNULL AS TDI_I11, \tNULL AS TDI_I12, \tNULL AS TDI_I13, \tNULL AS TDI_I14, \tNULL AS TDI_I15, \tNULL AS TDI_I16, \tNULL AS TDI_I17, \tNULL AS TDI_I18, \tNULL AS TDI_I19, \tNULL AS TDI_I20 FROM (  SELECT     to_char(CTX.CONT_DATE_CREATION,'yyyyMMdd') AS TDI_D01,     41 as TDI_D02,     CASE WHEN (SUM(CASE WHEN (NVL(THT.ADRC_COM_CONCESS,'N') = 'O') THEN 1 ELSE 0 END)>=1 AND SUM(CASE WHEN (NVL(THT.ADRC_COM_CONCESS,'N') <> 'O') THEN 1 ELSE 0 END)=0) THEN 'T' ELSE         (CASE WHEN (SUM(CASE WHEN (NVL(THT.ADRC_COM_CONCESS,'N') = 'O') THEN 1 ELSE 0 END)=0 AND SUM(CASE WHEN (NVL(THT.ADRC_COM_CONCESS,'N') <> 'O') THEN 1 ELSE 0 END)>=1) THEN 'HT' ELSE            (CASE WHEN (SUM(CASE WHEN (NVL(THT.ADRC_COM_CONCESS,'N') = 'O') THEN 1 ELSE 0 END)>=1 AND SUM(CASE WHEN (NVL(THT.ADRC_COM_CONCESS,'N') <> 'O') THEN 1 ELSE 0 END)>=1) THEN 'MIXTE' ELSE \t\t\t'NRE' END) END) END AS  TDI_D03,      NVL(TO_CHAR(ACT.CLI_CHRONO),'NRE') AS TDI_D04,      'C-'||TO_CHAR(CTX.CONT_CHRONO_CONTRAT) as TDI_D05,      NVL(TO_CHAR(SOUS.SOUS_ID), 'NRE') as TDI_D06,      NVL(TO_CHAR(EDC.CPT_ID), 'NRE') as TDI_D07,      'NRE' AS TDI_D09,      NVL(UPPER(ACT.CLI_E_MAIL),'NRE') AS TDI_D10,      NVL(TO_CHAR(CSO.CONSO_CONSO_ANN),'NRE') as TDI_D11,      CTX.CONT_CHRONO_DOSSIER AS TDI_D12,     1 AS TDI_I01,     CASE WHEN CTX.CONT_ETAT_DOSSIER  =  'ENCRS' THEN 1 ELSE 0 END AS TDI_I02,     COUNT(DISTINCT ACT.CLI_CHRONO) AS TDI_I03, \tCASE WHEN ACT.CLI_CHRONO is not null  THEN 1 ELSE 0 END AS TDI_I04      FROM FUS_CONTENTIEUX CTX     LEFT JOIN SIM_GCC_CLIENTS CL ON (CTX.CONT_CHRONO_CLIENT=CL.CLI_CHRONO)           LEFT JOIN (             select                  c.con_chrono,  \t\t\t\tCL.CLI_CHRONO,  \t\t\t\tECTR_CODE_ETAT,  \t\t\t\tactif,  \t\t\t\tdvl.date_debut,  \t\t\t\tdvl.date_fin, \t\t\t\tCLI_E_MAIL             from SIM_GCD_CONTRAT C                 INNER JOIN DVL_GCD_ETATS_CONTRAT DVL ON (C.CON_CHRONO=DVL.CON_CHRONO)                 INNER JOIN SIM_GCC_CLIENTS CL ON (CL.CLI_CHRONO=C.CLI_CHRONO AND (CLI_FAMILLE='DOM' OR CLI_CATEGORIE='NDOM'))             where DVL.ECTR_CODE_ETAT IN ('A', 'F') AND CL.CLI_CHRONO IS NOT NULL \t\t\t) ACT ON (ACT.CLI_CHRONO=CL.CLI_CHRONO AND CTX.CONT_DATE_CREATION BETWEEN ACT.DATE_DEBUT AND ACT.DATE_FIN)      \tLEFT JOIN SIM_GCT_ADR_EN_CLAIR A ON (CL.CLI_ADR_CHRONO=A.ADRC_CHRONO)     LEFT JOIN SIM_GCD_CONTRAT C ON (CONT_CHRONO_CONTRAT=C.CON_CHRONO) \t \t     LEFT JOIN ( \t\t\tSELECT  \t\t\t\tSIM_GCD_CONTRAT.CON_CHRONO AS CON_CHRONO,  \t\t\t\tMAX(SIM_GCD_COND_ADMIN.CADM_TYPE_PAIEMENT) AS TYPE_PAIEMENT \t\t\tFROM SIM_GCD_CONTRAT \t\t\t\tINNER JOIN SIM_GCD_ENT_PREST ON (SIM_GCD_CONTRAT.CON_CHRONO=SIM_GCD_ENT_PREST.CON_CHRONO) \t\t\t\tINNER JOIN SIM_GCD_COND_ADMIN ON (SIM_GCD_COND_ADMIN.CADM_CHRONO=SIM_GCD_ENT_PREST.CADM_CHRONO) \t\t\tGROUP BY SIM_GCD_CONTRAT.CON_CHRONO \t\t\t) TP ON (C.CON_CHRONO = TP.CON_CHRONO) \t\t\t     LEFT JOIN SIM_GCC_COMMUNES CO ON (CO.COM_CODE = A.ADRC_COM_CODE)     LEFT JOIN ODS_COMMUNES OC ON (OC.CODE_INSEE = nvl(CO.COM_CODE_INSEE,'NRE'))     LEFT JOIN FUS_KPI_CONTENTIEUX EK ON (EK.CONT_CHRONO_DOSSIER = CTX.CONT_CHRONO_DOSSIER)      \tLEFT JOIN ( \t\t\t\tSELECT MAX(EPT_CHRONO) AS EPT_CHRONO,  \t\t\t\t\t\tEPT_NATURE_PREST AS EPT_NATURE_PREST,  \t\t\t\t\t\tCON_CHRONO AS CON_CHRONO \t\t\t\tFROM SIM_GCD_ENT_PREST \t\t\t\tGROUP BY EPT_NATURE_PREST, CON_CHRONO \t\t\t\t) EP ON (EP.CON_CHRONO=C.CON_CHRONO AND EP.EPT_NATURE_PREST = 'GAZ NATUREL') \t \tLEFT JOIN ( \t\t\t\tSELECT MAX(AVE_CHRONO) AS AVE_CHRONO,  \t\t\t\t\tEPT_CHRONO AS EPT_CHRONO \t\t\t\tFROM SIM_GCD_DET_PREST \t\t\t\tGROUP BY EPT_CHRONO \t\t\t\t) AV ON (AV.EPT_CHRONO=EP.EPT_CHRONO)       \tLEFT JOIN SIM_GCD_DET_PREST DP ON (DP.EPT_CHRONO=AV.EPT_CHRONO AND DP.AVE_CHRONO=AV.AVE_CHRONO AND (CONT_DATE_CREATION BETWEEN DP.DPT_DATE_DEBUT AND NVL(DP.DPT_DATE_FIN,to_date('31122045','ddMMyyyy'))))     LEFT JOIN SIM_GCD_TARIF TA ON (TA.TAR_CHRONO= DP.TAR_CHRONO)     LEFT JOIN SIM_GCD_DPREST_PTS DPS ON (DPS.DPT_CHRONO=DP.DPT_CHRONO)     LEFT JOIN SIM_GCD_PTS PT ON (PT.PTS_CHRONO=DPS.PTS_CHRONO)     LEFT JOIN SIM_GCT_ADR_EN_CLAIR THT ON (THT.ADRC_CHRONO=PT.PTS_ADR_CHRONO and THT.ADRC_TYP=PT.PTS_ADR_TYPE)  \t \tLEFT JOIN ( \t\tSelect SOUS_ID, \t\t\t\tSOUS_CLI_CHRONO_CREE, \t\t\t\tSOUS_CON_CHRONO_CREE, \t\t\t\tRANK () OVER(PARTITION BY SOUS_CLI_CHRONO_CREE, SOUS_CON_CHRONO_CREE \t\t\t\tORDER BY SOUS_DATE_CREATION DESC) as RANK_SOUS \t\t\tFROM FUS_SOUSCRIPTION \t\t\tWHERE SOUS_CLI_CHRONO_CREE is not null and SOUS_CON_CHRONO_CREE is not null) SOUS ON (SOUS.SOUS_CLI_CHRONO_CREE=ACT.CLI_CHRONO and SOUS_CON_CHRONO_CREE=CTX.CONT_CHRONO_CONTRAT And RANK_SOUS=1) \t\t\t    \tLEFT JOIN (SELECT  \t\t\tCL.CLI_CHRONO, \t\t\tC.CON_CHRONO, \t\t\tSUM(CSO.CONSO_CONSO_ANN) AS CONSO_CONSO_ANN \t\tFROM FUS_PRESTATION \t\t\tINNER JOIN SIM_GCD_CONTRAT C ON (PRESTA_CON_CHRONO=C.CON_CHRONO) \t\t\tINNER JOIN SIM_GCC_CLIENTS CL ON (CL.CLI_CHRONO=C.CLI_CHRONO) \t\t\tINNER JOIN SIM_GCD_PTS PTS ON (FUS_PRESTATION.PRESTA_PTS_CHRONO=PTS.PTS_CHRONO) \t\t\tLEFT JOIN SIM_GCD_CONSOMME CSO ON (CSO.CLI_CHRONO = CL.CLI_CHRONO AND CSO.PTS_CHRONO = PTS.PTS_CHRONO) \t\tWHERE (CL.CLI_FAMILLE='DOM' OR CL.CLI_CATEGORIE='NDOM') and  \t\t\tPRESTA_TAR_CHRONO is not null and \t\t\tsysdate between DPT_DATE_DEBUT and NVL(DPT_DATE_FIN,TO_DATE('29990101','yyyyMMdd')) \t\tGROUP BY CL.CLI_CHRONO,C.CON_CHRONO) CSO ON (CSO.CLI_CHRONO=ACT.CLI_CHRONO and CSO.CON_CHRONO=CTX.CONT_CHRONO_CONTRAT) \t\t      LEFT JOIN FUS_EXT_DOM_GCC_CLT_EMAIL EDCL ON (EDCL.CLI_CHRONO=ACT.CLI_CHRONO)   LEFT JOIN FUS_EXT_DOM_COMPTE_EMAIL  EDC ON (EDCL.CPT_EMAIL=EDC.CPT_EMAIL)  WHERE (CL.CLI_FAMILLE='DOM' OR CL.CLI_CATEGORIE='NDOM')  GROUP BY       NVL(TO_CHAR(ACT.CLI_CHRONO),'NRE'),      to_char(CTX.CONT_DATE_CREATION,'yyyyMMdd'),      'C-'||TO_CHAR(CONT_CHRONO_CONTRAT),      CTX.CONT_CHRONO_DOSSIER,      CASE WHEN CTX.CONT_ETAT_DOSSIER  =  'ENCRS' THEN 1 ELSE 0 END, \t NVL(UPPER(ACT.CLI_E_MAIL),'NRE'), \t NVL(TO_CHAR(CSO.CONSO_CONSO_ANN),'NRE'), \t NVL(TO_CHAR(SOUS.SOUS_ID), 'NRE'), \t NVL(TO_CHAR(EDC.CPT_ID), 'NRE'), \t CASE WHEN ACT.CLI_CHRONO is not null  THEN 1 ELSE 0 END ) EKI_MKT_FACT_CONTENTIEUX\"\n",
    "tables = extract_tables_from_query(query)\n",
    "tables2 = extract_tables_from_query(query2)\n",
    "tables3 = extract_tables_from_query(query3)\n",
    "print(\"Tables extraites (query) :\", tables)\n",
    "print(\"Tables extraites (query2) :\", tables2)\n",
    "print(\"Tables extraites (query3) :\", tables3)\n",
    "\n",
    "# Cette fonction ne donne pas les bons resultats pour la query3"
   ]
  },
  {
   "cell_type": "markdown",
   "metadata": {},
   "source": [
    "## Test du NLTK - echec"
   ]
  },
  {
   "cell_type": "code",
   "execution_count": 71,
   "metadata": {},
   "outputs": [],
   "source": [
    "import nltk"
   ]
  },
  {
   "cell_type": "code",
   "execution_count": 66,
   "metadata": {},
   "outputs": [],
   "source": [
    "from nltk import RegexpParser"
   ]
  },
  {
   "cell_type": "code",
   "execution_count": 68,
   "metadata": {},
   "outputs": [],
   "source": [
    "from nltk.tokenize import word_tokenize"
   ]
  },
  {
   "cell_type": "code",
   "execution_count": 75,
   "metadata": {},
   "outputs": [
    {
     "name": "stderr",
     "output_type": "stream",
     "text": [
      "[nltk_data] Downloading package punkt to\n",
      "[nltk_data]     C:\\Users\\DéboraMandon\\AppData\\Roaming\\nltk_data...\n",
      "[nltk_data]   Package punkt is already up-to-date!\n",
      "[nltk_data] Downloading package averaged_perceptron_tagger to\n",
      "[nltk_data]     C:\\Users\\DéboraMandon\\AppData\\Roaming\\nltk_data...\n",
      "[nltk_data]   Unzipping taggers\\averaged_perceptron_tagger.zip.\n"
     ]
    },
    {
     "data": {
      "text/plain": [
       "True"
      ]
     },
     "execution_count": 75,
     "metadata": {},
     "output_type": "execute_result"
    }
   ],
   "source": [
    "# Télécharger les données nécessaires\n",
    "nltk.download('punkt')\n",
    "nltk.download('averaged_perceptron_tagger')"
   ]
  },
  {
   "cell_type": "code",
   "execution_count": 76,
   "metadata": {},
   "outputs": [
    {
     "name": "stdout",
     "output_type": "stream",
     "text": [
      "Noms de tables: ['SELECT * FROM employees JOIN departments ON employees.department_id = departments.department_id']\n"
     ]
    }
   ],
   "source": [
    "# Fonction pour extraire les noms de tables\n",
    "def extract_table_names(query):\n",
    "    words = word_tokenize(query)\n",
    "    tagged = nltk.pos_tag(words)\n",
    "\n",
    "    # Définir la structure grammaticale pour les noms de tables\n",
    "    grammar = r\"\"\"\n",
    "        TABLE: {<DT|IN|FROM|JOIN|,>*<NN.*>+}\n",
    "    \"\"\"\n",
    "\n",
    "    cp = RegexpParser(grammar)\n",
    "    tree = cp.parse(tagged)\n",
    "\n",
    "    table_names = []\n",
    "    for subtree in tree.subtrees(filter=lambda t: t.label() == 'TABLE'):\n",
    "        table_name = ' '.join(word for word, pos in subtree.leaves())\n",
    "        table_names.append(table_name)\n",
    "\n",
    "    return table_names\n",
    "\n",
    "# Exemple d'utilisation\n",
    "query = \"SELECT * FROM employees JOIN departments ON employees.department_id = departments.department_id\"\n",
    "table_names = extract_table_names(query)\n",
    "print(\"Noms de tables:\", table_names)"
   ]
  },
  {
   "cell_type": "code",
   "execution_count": 31,
   "metadata": {},
   "outputs": [
    {
     "data": {
      "text/html": [
       "<div>\n",
       "<style scoped>\n",
       "    .dataframe tbody tr th:only-of-type {\n",
       "        vertical-align: middle;\n",
       "    }\n",
       "\n",
       "    .dataframe tbody tr th {\n",
       "        vertical-align: top;\n",
       "    }\n",
       "\n",
       "    .dataframe thead th {\n",
       "        text-align: right;\n",
       "    }\n",
       "</style>\n",
       "<table border=\"1\" class=\"dataframe\">\n",
       "  <thead>\n",
       "    <tr style=\"text-align: right;\">\n",
       "      <th></th>\n",
       "      <th>projet</th>\n",
       "      <th>requete_sql</th>\n",
       "    </tr>\n",
       "  </thead>\n",
       "  <tbody>\n",
       "    <tr>\n",
       "      <th>0</th>\n",
       "      <td>ATP</td>\n",
       "      <td>select * from (select nom, adresse from Immeub...</td>\n",
       "    </tr>\n",
       "    <tr>\n",
       "      <th>1</th>\n",
       "      <td>ATP</td>\n",
       "      <td>SELECT * FROM Table</td>\n",
       "    </tr>\n",
       "    <tr>\n",
       "      <th>2</th>\n",
       "      <td>ATP</td>\n",
       "      <td>SELECT * FROM question WHERE q_id IN (SELECT r...</td>\n",
       "    </tr>\n",
       "    <tr>\n",
       "      <th>3</th>\n",
       "      <td>ATP</td>\n",
       "      <td>SELECT sum(a.Population)FROM travail.communes6...</td>\n",
       "    </tr>\n",
       "    <tr>\n",
       "      <th>4</th>\n",
       "      <td>ATP</td>\n",
       "      <td>SELECT timestamp, log_id, severity, json_paylo...</td>\n",
       "    </tr>\n",
       "    <tr>\n",
       "      <th>5</th>\n",
       "      <td>ATP</td>\n",
       "      <td>SELECT * FROM Orders WHERE CustomerID IN (SEL...</td>\n",
       "    </tr>\n",
       "    <tr>\n",
       "      <th>6</th>\n",
       "      <td>ATP</td>\n",
       "      <td>SELECT COUNT(count_table.mois) FROM(SELECT st....</td>\n",
       "    </tr>\n",
       "    <tr>\n",
       "      <th>7</th>\n",
       "      <td>PLE</td>\n",
       "      <td>SELECT \\tTDI_D01 as TDI_D01, \\tTDI_D02 as TDI...</td>\n",
       "    </tr>\n",
       "    <tr>\n",
       "      <th>8</th>\n",
       "      <td>PLE</td>\n",
       "      <td>SELECT \\tTDI_D01 as TDI_D01, \\tTDI_D02 as TDI...</td>\n",
       "    </tr>\n",
       "    <tr>\n",
       "      <th>9</th>\n",
       "      <td>PLE</td>\n",
       "      <td>Select * FROM T1,T2 Where T1.ID=T2.FK_ID</td>\n",
       "    </tr>\n",
       "  </tbody>\n",
       "</table>\n",
       "</div>"
      ],
      "text/plain": [
       "  projet                                        requete_sql\n",
       "0    ATP  select * from (select nom, adresse from Immeub...\n",
       "1    ATP                                SELECT * FROM Table\n",
       "2    ATP  SELECT * FROM question WHERE q_id IN (SELECT r...\n",
       "3    ATP  SELECT sum(a.Population)FROM travail.communes6...\n",
       "4    ATP  SELECT timestamp, log_id, severity, json_paylo...\n",
       "5    ATP   SELECT * FROM Orders WHERE CustomerID IN (SEL...\n",
       "6    ATP  SELECT COUNT(count_table.mois) FROM(SELECT st....\n",
       "7    PLE   SELECT \\tTDI_D01 as TDI_D01, \\tTDI_D02 as TDI...\n",
       "8    PLE   SELECT \\tTDI_D01 as TDI_D01, \\tTDI_D02 as TDI...\n",
       "9    PLE           Select * FROM T1,T2 Where T1.ID=T2.FK_ID"
      ]
     },
     "execution_count": 31,
     "metadata": {},
     "output_type": "execute_result"
    }
   ],
   "source": [
    "df=pd.read_csv(\"sql_requetes.csv\", sep=\";\")\n",
    "df"
   ]
  },
  {
   "cell_type": "code",
   "execution_count": 34,
   "metadata": {},
   "outputs": [
    {
     "name": "stdout",
     "output_type": "stream",
     "text": [
      "  projet                                        requete_sql  \\\n",
      "0    ATP  select * from (select nom, adresse from Immeub...   \n",
      "1    ATP                                SELECT * FROM Table   \n",
      "2    ATP  SELECT * FROM question WHERE q_id IN (SELECT r...   \n",
      "3    ATP  SELECT sum(a.Population)FROM travail.communes6...   \n",
      "4    ATP  SELECT timestamp, log_id, severity, json_paylo...   \n",
      "5    ATP   SELECT * FROM Orders WHERE CustomerID IN (SEL...   \n",
      "6    ATP  SELECT COUNT(count_table.mois) FROM(SELECT st....   \n",
      "7    PLE   SELECT \\tTDI_D01 as TDI_D01, \\tTDI_D02 as TDI...   \n",
      "8    PLE   SELECT \\tTDI_D01 as TDI_D01, \\tTDI_D02 as TDI...   \n",
      "9    PLE           Select * FROM T1,T2 Where T1.ID=T2.FK_ID   \n",
      "\n",
      "                   tables  \n",
      "0             {, (select}  \n",
      "1               {, Table}  \n",
      "2            {, question}  \n",
      "3  {, travail.communes64}  \n",
      "4               {, TABLE}  \n",
      "5              {Orders, }  \n",
      "6                   {, (}  \n",
      "7                   {, (}  \n",
      "8                   {, (}  \n",
      "9                  {, T1}  \n"
     ]
    }
   ],
   "source": [
    "# Cette version modifiée utilise l'option '(?i)' pour rendre la recherche insensible à la casse, et permet également de gérer les virgules entre les noms de table.\n",
    "df['tables'] = df['requete_sql'].apply(lambda x: set(re.findall(r'(?i)\\bFROM\\s+([^\\s,;]+)|\\bJOIN\\s+([^\\s,;]+)', x)[0]))\n",
    "\n",
    "# Display the DataFrame\n",
    "print(df[['projet', 'requete_sql', 'tables']])"
   ]
  }
 ],
 "metadata": {
  "kernelspec": {
   "display_name": "base",
   "language": "python",
   "name": "python3"
  },
  "language_info": {
   "codemirror_mode": {
    "name": "ipython",
    "version": 3
   },
   "file_extension": ".py",
   "mimetype": "text/x-python",
   "name": "python",
   "nbconvert_exporter": "python",
   "pygments_lexer": "ipython3",
   "version": "3.11.5"
  }
 },
 "nbformat": 4,
 "nbformat_minor": 2
}
